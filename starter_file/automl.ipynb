{
  "cells": [
    {
      "cell_type": "markdown",
      "source": [
        "# Automated ML\n",
        "\n",
        "TODO: Import Dependencies. In the cell below, import all the dependencies that you will need to complete the project."
      ],
      "metadata": {}
    },
    {
      "cell_type": "code",
      "source": [
        "import logging\n",
        "import os\n",
        "import csv\n",
        "\n",
        "from matplotlib import pyplot as plt\n",
        "import numpy as np\n",
        "import pandas as pd\n",
        "from sklearn import datasets\n",
        "import pkg_resources\n",
        "import joblib\n",
        "\n",
        "from azureml.widgets import RunDetails\n",
        "import azureml.core\n",
        "from azureml.core.experiment import Experiment\n",
        "from azureml.core.workspace import Workspace\n",
        "from azureml.train.automl import AutoMLConfig\n",
        "from azureml.core.dataset import Dataset\n",
        "from azureml.pipeline.steps import AutoMLStep\n",
        "from azureml.core.compute import AmlCompute\n",
        "from azureml.core.compute import ComputeTarget\n",
        "from azureml.core.compute_target import ComputeTargetException\n",
        "from azureml.data.dataset_factory import TabularDatasetFactory\n",
        "from azureml.core.datastore import Datastore\n",
        "\n",
        "\n",
        "# Check core SDK version number\n",
        "print(\"SDK version:\", azureml.core.VERSION)"
      ],
      "outputs": [
        {
          "output_type": "stream",
          "name": "stdout",
          "text": [
            "SDK version: 1.20.0\n"
          ]
        }
      ],
      "execution_count": 1,
      "metadata": {
        "gather": {
          "logged": 1612670316509
        },
        "jupyter": {
          "outputs_hidden": false,
          "source_hidden": false
        },
        "nteract": {
          "transient": {
            "deleting": false
          }
        }
      }
    },
    {
      "cell_type": "code",
      "source": [
        "#assign work space\n",
        "ws = Workspace.from_config()\n",
        "print(ws.name, ws.resource_group, ws.location, ws.subscription_id, sep = '\\n')\n",
        "\n",
        "# choose a name for experiment\n",
        "experiment_name = 'California-housing-price-projection'\n",
        "experiment=Experiment(ws, experiment_name)"
      ],
      "outputs": [
        {
          "output_type": "stream",
          "name": "stdout",
          "text": [
            "Performing interactive authentication. Please follow the instructions on the terminal.\n",
            "To sign in, use a web browser to open the page https://microsoft.com/devicelogin and enter the code F8RUBE6W2 to authenticate.\n",
            "You have logged in. Now let us find all the subscriptions to which you have access...\n",
            "Interactive authentication successfully completed.\n",
            "quick-starts-ws-137724\n",
            "aml-quickstarts-137724\n",
            "southcentralus\n",
            "d7f39349-a66b-446e-aba6-0053c2cf1c11\n"
          ]
        }
      ],
      "execution_count": 2,
      "metadata": {
        "gather": {
          "logged": 1612670338839
        },
        "jupyter": {
          "outputs_hidden": false,
          "source_hidden": false
        },
        "nteract": {
          "transient": {
            "deleting": false
          }
        }
      }
    },
    {
      "cell_type": "code",
      "source": [
        "#create a compute target\n",
        "amlcompute_cluster_name = \"compute-housing\"\n",
        "\n",
        "# Verify that cluster does not exist already, if not create a new one with amlcompute_cluster_name\n",
        "try:\n",
        "    compute_target = ComputeTarget(workspace=ws, name=amlcompute_cluster_name)\n",
        "    print('Found existing cluster, use it.')\n",
        "except ComputeTargetException:\n",
        "    compute_config = AmlCompute.provisioning_configuration(vm_size='STANDARD_D2_V2',\n",
        "                                                           vm_priority = 'lowpriority', \n",
        "                                                           max_nodes=4)\n",
        "    compute_target = ComputeTarget.create(ws, amlcompute_cluster_name, compute_config)\n",
        "\n",
        "compute_target.wait_for_completion(show_output=True, min_node_count = 0, timeout_in_minutes = 10)"
      ],
      "outputs": [
        {
          "output_type": "stream",
          "name": "stdout",
          "text": [
            "Creating\n",
            "Succeeded\n",
            "AmlCompute wait for completion finished\n",
            "\n",
            "Minimum number of nodes requested have been provisioned\n"
          ]
        }
      ],
      "execution_count": 3,
      "metadata": {
        "gather": {
          "logged": 1612670355175
        }
      }
    },
    {
      "cell_type": "markdown",
      "source": [
        "## Dataset\n",
        "\n",
        "### Overview\n",
        "TODO: In this markdown cell, give an overview of the dataset you are using. Also mention the task you will be performing.\n",
        "\n",
        "This dataset contains California Housing Price data downloaded from https://raw.githubusercontent.com/ageron/handson-ml/master/ and was used as an example in Hands-On Machine Learning with Scikit-Learn & TensorFlow by Aurelien Geron. \n",
        "\n",
        "This dataset is an adapted version from the original data from the StatLib repository collected from the 1990 California census. \n",
        "\n",
        "TODO: Get data. In the cell below, write code to access the data you will be using in this project. Remember that the dataset needs to be external."
      ],
      "metadata": {}
    },
    {
      "cell_type": "code",
      "source": [
        "#check if the dataset exists and register the dataset if not\n",
        "import train\n",
        "found = False\n",
        "key = \"California_housing_price-1\"\n",
        "description_text = \"California housing price from 1990 census\"\n",
        "\n",
        "if key in ws.datasets.keys():\n",
        "    found = True\n",
        "    dataset = ws.datasets[key]\n",
        "    print(\"found dataset\") \n",
        "\n",
        "if not found:       \n",
        "        #If the dataset doesn't exist, then download data and register the Dataset in Workspace\n",
        "#        DOWNLOAD_ROOT = \"https://raw.githubusercontent.com/ageron/handson-ml/master/\"\n",
        "#        HOUSING_PATH = \"datasets/housing\"\n",
        "#        HOUSING_URL = DOWNLOAD_ROOT + HOUSING_PATH + \"/housing.tgz\"\n",
        "#        df = train.fetch_housing_data(HOUSING_URL, HOUSING_PATH)\n",
        "    path = r\"https://github.com/second-husky/Capstone-Azure-ML/raw/master/starter_file/housing.csv\"\n",
        "    datastore = Datastore(ws, name = None)\n",
        "    df = pd.read_csv(path).dropna()\n",
        "#    print(df.head(5))\n",
        "    dataset = TabularDatasetFactory.register_pandas_dataframe(df, datastore, 'housing_data')\n",
        "\n",
        "\n",
        "df = dataset.to_pandas_dataframe()\n",
        "df.describe()"
      ],
      "outputs": [
        {
          "output_type": "stream",
          "name": "stdout",
          "text": [
            "datasets/housing/housing.csv\n",
            "   longitude  latitude  housing_median_age  total_rooms  total_bedrooms  \\\n",
            "0    -122.23     37.88                41.0        880.0           129.0   \n",
            "1    -122.22     37.86                21.0       7099.0          1106.0   \n",
            "2    -122.24     37.85                52.0       1467.0           190.0   \n",
            "3    -122.25     37.85                52.0       1274.0           235.0   \n",
            "4    -122.25     37.85                52.0       1627.0           280.0   \n",
            "\n",
            "   population  households  median_income  median_house_value ocean_proximity  \n",
            "0       322.0       126.0         8.3252            452600.0        NEAR BAY  \n",
            "1      2401.0      1138.0         8.3014            358500.0        NEAR BAY  \n",
            "2       496.0       177.0         7.2574            352100.0        NEAR BAY  \n",
            "3       558.0       219.0         5.6431            341300.0        NEAR BAY  \n",
            "4       565.0       259.0         3.8462            342200.0        NEAR BAY  \n",
            "Validating arguments.\n",
            "Arguments validated.\n",
            "Successfully obtained datastore reference and path.\n",
            "Uploading file to managed-dataset/13be8556-e873-4849-8ef8-30b87c0aa392/\n",
            "Successfully uploaded file to datastore.\n",
            "Creating and registering a new dataset.\n",
            "Successfully created and registered a new dataset.\n"
          ]
        },
        {
          "output_type": "stream",
          "name": "stderr",
          "text": [
            "Method register_pandas_dataframe: This is an experimental method, and may change at any time.<br/>For more information, see https://aka.ms/azuremlexperimental.\n"
          ]
        },
        {
          "output_type": "execute_result",
          "execution_count": 4,
          "data": {
            "text/plain": "          longitude      latitude  housing_median_age   total_rooms  \\\ncount  20433.000000  20433.000000        20433.000000  20433.000000   \nmean    -119.570689     35.633221           28.633094   2636.504233   \nstd        2.003578      2.136348           12.591805   2185.269567   \nmin     -124.350000     32.540000            1.000000      2.000000   \n25%     -121.800000     33.930000           18.000000   1450.000000   \n50%     -118.490000     34.260000           29.000000   2127.000000   \n75%     -118.010000     37.720000           37.000000   3143.000000   \nmax     -114.310000     41.950000           52.000000  39320.000000   \n\n       total_bedrooms    population    households  median_income  \\\ncount    20433.000000  20433.000000  20433.000000   20433.000000   \nmean       537.870553   1424.946949    499.433465       3.871162   \nstd        421.385070   1133.208490    382.299226       1.899291   \nmin          1.000000      3.000000      1.000000       0.499900   \n25%        296.000000    787.000000    280.000000       2.563700   \n50%        435.000000   1166.000000    409.000000       3.536500   \n75%        647.000000   1722.000000    604.000000       4.744000   \nmax       6445.000000  35682.000000   6082.000000      15.000100   \n\n       median_house_value  \ncount        20433.000000  \nmean        206864.413155  \nstd         115435.667099  \nmin          14999.000000  \n25%         119500.000000  \n50%         179700.000000  \n75%         264700.000000  \nmax         500001.000000  ",
            "text/html": "<div>\n<style scoped>\n    .dataframe tbody tr th:only-of-type {\n        vertical-align: middle;\n    }\n\n    .dataframe tbody tr th {\n        vertical-align: top;\n    }\n\n    .dataframe thead th {\n        text-align: right;\n    }\n</style>\n<table border=\"1\" class=\"dataframe\">\n  <thead>\n    <tr style=\"text-align: right;\">\n      <th></th>\n      <th>longitude</th>\n      <th>latitude</th>\n      <th>housing_median_age</th>\n      <th>total_rooms</th>\n      <th>total_bedrooms</th>\n      <th>population</th>\n      <th>households</th>\n      <th>median_income</th>\n      <th>median_house_value</th>\n    </tr>\n  </thead>\n  <tbody>\n    <tr>\n      <th>count</th>\n      <td>20433.000000</td>\n      <td>20433.000000</td>\n      <td>20433.000000</td>\n      <td>20433.000000</td>\n      <td>20433.000000</td>\n      <td>20433.000000</td>\n      <td>20433.000000</td>\n      <td>20433.000000</td>\n      <td>20433.000000</td>\n    </tr>\n    <tr>\n      <th>mean</th>\n      <td>-119.570689</td>\n      <td>35.633221</td>\n      <td>28.633094</td>\n      <td>2636.504233</td>\n      <td>537.870553</td>\n      <td>1424.946949</td>\n      <td>499.433465</td>\n      <td>3.871162</td>\n      <td>206864.413155</td>\n    </tr>\n    <tr>\n      <th>std</th>\n      <td>2.003578</td>\n      <td>2.136348</td>\n      <td>12.591805</td>\n      <td>2185.269567</td>\n      <td>421.385070</td>\n      <td>1133.208490</td>\n      <td>382.299226</td>\n      <td>1.899291</td>\n      <td>115435.667099</td>\n    </tr>\n    <tr>\n      <th>min</th>\n      <td>-124.350000</td>\n      <td>32.540000</td>\n      <td>1.000000</td>\n      <td>2.000000</td>\n      <td>1.000000</td>\n      <td>3.000000</td>\n      <td>1.000000</td>\n      <td>0.499900</td>\n      <td>14999.000000</td>\n    </tr>\n    <tr>\n      <th>25%</th>\n      <td>-121.800000</td>\n      <td>33.930000</td>\n      <td>18.000000</td>\n      <td>1450.000000</td>\n      <td>296.000000</td>\n      <td>787.000000</td>\n      <td>280.000000</td>\n      <td>2.563700</td>\n      <td>119500.000000</td>\n    </tr>\n    <tr>\n      <th>50%</th>\n      <td>-118.490000</td>\n      <td>34.260000</td>\n      <td>29.000000</td>\n      <td>2127.000000</td>\n      <td>435.000000</td>\n      <td>1166.000000</td>\n      <td>409.000000</td>\n      <td>3.536500</td>\n      <td>179700.000000</td>\n    </tr>\n    <tr>\n      <th>75%</th>\n      <td>-118.010000</td>\n      <td>37.720000</td>\n      <td>37.000000</td>\n      <td>3143.000000</td>\n      <td>647.000000</td>\n      <td>1722.000000</td>\n      <td>604.000000</td>\n      <td>4.744000</td>\n      <td>264700.000000</td>\n    </tr>\n    <tr>\n      <th>max</th>\n      <td>-114.310000</td>\n      <td>41.950000</td>\n      <td>52.000000</td>\n      <td>39320.000000</td>\n      <td>6445.000000</td>\n      <td>35682.000000</td>\n      <td>6082.000000</td>\n      <td>15.000100</td>\n      <td>500001.000000</td>\n    </tr>\n  </tbody>\n</table>\n</div>"
          },
          "metadata": {}
        }
      ],
      "execution_count": 4,
      "metadata": {
        "gather": {
          "logged": 1612670367591
        }
      }
    },
    {
      "cell_type": "markdown",
      "source": [
        "## AutoML Configuration\n",
        "\n",
        "TODO: Explain why you chose the automl settings and cofiguration you used below."
      ],
      "metadata": {}
    },
    {
      "cell_type": "code",
      "source": [
        "# TODO: Put your automl settings here\n",
        "automl_settings = {\n",
        "    \"experiment_timeout_minutes\": 20,\n",
        "    \"max_concurrent_iterations\": 5,\n",
        "    \"iterations\" : 20,\n",
        "    \"primary_metric\" : 'r2_score'\n",
        "}\n",
        "project_folder = \"./housing\"\n",
        "# TODO: Put your automl config here\n",
        "automl_config = AutoMLConfig(compute_target=compute_target,\n",
        "                             task = \"regression\",\n",
        "                             training_data=dataset,\n",
        "                             label_column_name=\"median_house_value\",   \n",
        "                             path = project_folder,\n",
        "                             enable_early_stopping= True,\n",
        "                             featurization= 'auto',\n",
        "                             debug_log = \"automl_errors.log\",\n",
        "                             **automl_settings)"
      ],
      "outputs": [],
      "execution_count": 5,
      "metadata": {
        "gather": {
          "logged": 1612670367818
        },
        "jupyter": {
          "outputs_hidden": false,
          "source_hidden": false
        },
        "nteract": {
          "transient": {
            "deleting": false
          }
        }
      }
    },
    {
      "cell_type": "markdown",
      "source": [
        "## Run Details\n",
        "\n",
        "OPTIONAL: Write about the different models trained and their performance. Why do you think some models did better than others?\n",
        "\n",
        "Trained models include StackEnsemble, VotingEnsemble, XGBoostRegressor, LightGBM, RandomForest, etc. \n",
        "StackEnsemble and VotingEnsemble are the highest proforming models. \n",
        "And most models with high performance used XGBoostRegressor\n",
        "\n",
        "TODO: In the cell below, use the `RunDetails` widget to show the different experiments."
      ],
      "metadata": {}
    },
    {
      "cell_type": "code",
      "source": [
        "exp_automl = Experiment(ws, 'AutoML-housing')\r\n",
        "automl_run = exp_automl.submit(automl_config, show_output = False)\r\n",
        "RunDetails(automl_run).show()\r\n",
        "automl_run.wait_for_completion()"
      ],
      "outputs": [
        {
          "output_type": "stream",
          "name": "stdout",
          "text": [
            "Running on remote.\n"
          ]
        },
        {
          "output_type": "display_data",
          "data": {
            "text/plain": "_AutoMLWidget(widget_settings={'childWidgetDisplay': 'popup', 'send_telemetry': False, 'log_level': 'INFO', 's…",
            "application/vnd.jupyter.widget-view+json": {
              "version_major": 2,
              "version_minor": 0,
              "model_id": "16cc88510976425dbae1c393220309cc"
            }
          },
          "metadata": {}
        },
        {
          "output_type": "display_data",
          "data": {
            "application/aml.mini.widget.v1": "{\"status\": \"Completed\", \"workbench_run_details_uri\": \"https://ml.azure.com/experiments/AutoML-housing/runs/AutoML_2b27b78d-cfc2-4f6d-8b9b-8574b8bfd6a7?wsid=/subscriptions/d7f39349-a66b-446e-aba6-0053c2cf1c11/resourcegroups/aml-quickstarts-137724/workspaces/quick-starts-ws-137724\", \"run_id\": \"AutoML_2b27b78d-cfc2-4f6d-8b9b-8574b8bfd6a7\", \"run_properties\": {\"run_id\": \"AutoML_2b27b78d-cfc2-4f6d-8b9b-8574b8bfd6a7\", \"created_utc\": \"2021-02-07T03:59:30.121393Z\", \"properties\": {\"num_iterations\": \"20\", \"training_type\": \"TrainFull\", \"acquisition_function\": \"EI\", \"primary_metric\": \"r2_score\", \"train_split\": \"0\", \"acquisition_parameter\": \"0\", \"num_cross_validation\": null, \"target\": \"compute-housing\", \"AMLSettingsJsonString\": \"{\\\"path\\\":null,\\\"name\\\":\\\"AutoML-housing\\\",\\\"subscription_id\\\":\\\"d7f39349-a66b-446e-aba6-0053c2cf1c11\\\",\\\"resource_group\\\":\\\"aml-quickstarts-137724\\\",\\\"workspace_name\\\":\\\"quick-starts-ws-137724\\\",\\\"region\\\":\\\"southcentralus\\\",\\\"compute_target\\\":\\\"compute-housing\\\",\\\"spark_service\\\":null,\\\"azure_service\\\":\\\"remote\\\",\\\"many_models\\\":false,\\\"pipeline_fetch_max_batch_size\\\":1,\\\"iterations\\\":20,\\\"primary_metric\\\":\\\"r2_score\\\",\\\"task_type\\\":\\\"regression\\\",\\\"data_script\\\":null,\\\"validation_size\\\":0.0,\\\"n_cross_validations\\\":null,\\\"y_min\\\":null,\\\"y_max\\\":null,\\\"num_classes\\\":null,\\\"featurization\\\":\\\"auto\\\",\\\"_ignore_package_version_incompatibilities\\\":false,\\\"is_timeseries\\\":false,\\\"max_cores_per_iteration\\\":1,\\\"max_concurrent_iterations\\\":5,\\\"iteration_timeout_minutes\\\":null,\\\"mem_in_mb\\\":null,\\\"enforce_time_on_windows\\\":false,\\\"experiment_timeout_minutes\\\":20,\\\"experiment_exit_score\\\":null,\\\"whitelist_models\\\":null,\\\"blacklist_algos\\\":[\\\"TensorFlowDNN\\\",\\\"TensorFlowLinearRegressor\\\"],\\\"supported_models\\\":[\\\"FastLinearRegressor\\\",\\\"GradientBoosting\\\",\\\"TensorFlowDNN\\\",\\\"OnlineGradientDescentRegressor\\\",\\\"ExtremeRandomTrees\\\",\\\"KNN\\\",\\\"LassoLars\\\",\\\"XGBoostRegressor\\\",\\\"ElasticNet\\\",\\\"RandomForest\\\",\\\"LightGBM\\\",\\\"TensorFlowLinearRegressor\\\",\\\"SGD\\\",\\\"DecisionTree\\\"],\\\"auto_blacklist\\\":true,\\\"blacklist_samples_reached\\\":false,\\\"exclude_nan_labels\\\":true,\\\"verbosity\\\":20,\\\"_debug_log\\\":\\\"azureml_automl.log\\\",\\\"show_warnings\\\":false,\\\"model_explainability\\\":true,\\\"service_url\\\":null,\\\"sdk_url\\\":null,\\\"sdk_packages\\\":null,\\\"enable_onnx_compatible_models\\\":false,\\\"enable_split_onnx_featurizer_estimator_models\\\":false,\\\"vm_type\\\":\\\"STANDARD_D2_V2\\\",\\\"telemetry_verbosity\\\":20,\\\"send_telemetry\\\":true,\\\"enable_dnn\\\":false,\\\"scenario\\\":\\\"SDK-1.13.0\\\",\\\"environment_label\\\":null,\\\"force_text_dnn\\\":false,\\\"enable_feature_sweeping\\\":true,\\\"enable_early_stopping\\\":true,\\\"early_stopping_n_iters\\\":10,\\\"metrics\\\":null,\\\"enable_ensembling\\\":true,\\\"enable_stack_ensembling\\\":true,\\\"ensemble_iterations\\\":15,\\\"enable_tf\\\":false,\\\"enable_subsampling\\\":false,\\\"subsample_seed\\\":null,\\\"enable_nimbusml\\\":false,\\\"enable_streaming\\\":false,\\\"force_streaming\\\":false,\\\"track_child_runs\\\":true,\\\"allowed_private_models\\\":[],\\\"label_column_name\\\":\\\"median_house_value\\\",\\\"weight_column_name\\\":null,\\\"cv_split_column_names\\\":null,\\\"enable_local_managed\\\":false,\\\"_local_managed_run_id\\\":null,\\\"cost_mode\\\":1,\\\"lag_length\\\":0,\\\"metric_operation\\\":\\\"maximize\\\",\\\"preprocess\\\":true}\", \"DataPrepJsonString\": \"{\\\\\\\"training_data\\\\\\\": \\\\\\\"{\\\\\\\\\\\\\\\"blocks\\\\\\\\\\\\\\\": [{\\\\\\\\\\\\\\\"id\\\\\\\\\\\\\\\": \\\\\\\\\\\\\\\"28a7bfcf-43c5-4346-9e8c-1f2dad47ceeb\\\\\\\\\\\\\\\", \\\\\\\\\\\\\\\"type\\\\\\\\\\\\\\\": \\\\\\\\\\\\\\\"Microsoft.DPrep.GetDatastoreFilesBlock\\\\\\\\\\\\\\\", \\\\\\\\\\\\\\\"arguments\\\\\\\\\\\\\\\": {\\\\\\\\\\\\\\\"datastores\\\\\\\\\\\\\\\": [{\\\\\\\\\\\\\\\"datastoreName\\\\\\\\\\\\\\\": \\\\\\\\\\\\\\\"workspaceblobstore\\\\\\\\\\\\\\\", \\\\\\\\\\\\\\\"path\\\\\\\\\\\\\\\": \\\\\\\\\\\\\\\"managed-dataset/13be8556-e873-4849-8ef8-30b87c0aa392/\\\\\\\\\\\\\\\", \\\\\\\\\\\\\\\"resourceGroup\\\\\\\\\\\\\\\": \\\\\\\\\\\\\\\"aml-quickstarts-137724\\\\\\\\\\\\\\\", \\\\\\\\\\\\\\\"subscription\\\\\\\\\\\\\\\": \\\\\\\\\\\\\\\"d7f39349-a66b-446e-aba6-0053c2cf1c11\\\\\\\\\\\\\\\", \\\\\\\\\\\\\\\"workspaceName\\\\\\\\\\\\\\\": \\\\\\\\\\\\\\\"quick-starts-ws-137724\\\\\\\\\\\\\\\"}]}, \\\\\\\\\\\\\\\"localData\\\\\\\\\\\\\\\": {}, \\\\\\\\\\\\\\\"isEnabled\\\\\\\\\\\\\\\": true, \\\\\\\\\\\\\\\"name\\\\\\\\\\\\\\\": null, \\\\\\\\\\\\\\\"annotation\\\\\\\\\\\\\\\": null}, {\\\\\\\\\\\\\\\"id\\\\\\\\\\\\\\\": \\\\\\\\\\\\\\\"7880f1bb-e850-48b4-8afc-449e7133b5e7\\\\\\\\\\\\\\\", \\\\\\\\\\\\\\\"type\\\\\\\\\\\\\\\": \\\\\\\\\\\\\\\"Microsoft.DPrep.ReadParquetFileBlock\\\\\\\\\\\\\\\", \\\\\\\\\\\\\\\"arguments\\\\\\\\\\\\\\\": {\\\\\\\\\\\\\\\"preview\\\\\\\\\\\\\\\": false}, \\\\\\\\\\\\\\\"localData\\\\\\\\\\\\\\\": {}, \\\\\\\\\\\\\\\"isEnabled\\\\\\\\\\\\\\\": true, \\\\\\\\\\\\\\\"name\\\\\\\\\\\\\\\": null, \\\\\\\\\\\\\\\"annotation\\\\\\\\\\\\\\\": null}, {\\\\\\\\\\\\\\\"id\\\\\\\\\\\\\\\": \\\\\\\\\\\\\\\"5a981f19-e53f-4aaa-87bc-b46f6da8cd0d\\\\\\\\\\\\\\\", \\\\\\\\\\\\\\\"type\\\\\\\\\\\\\\\": \\\\\\\\\\\\\\\"Microsoft.DPrep.DropColumnsBlock\\\\\\\\\\\\\\\", \\\\\\\\\\\\\\\"arguments\\\\\\\\\\\\\\\": {\\\\\\\\\\\\\\\"columns\\\\\\\\\\\\\\\": {\\\\\\\\\\\\\\\"type\\\\\\\\\\\\\\\": 0, \\\\\\\\\\\\\\\"details\\\\\\\\\\\\\\\": {\\\\\\\\\\\\\\\"selectedColumns\\\\\\\\\\\\\\\": [\\\\\\\\\\\\\\\"Path\\\\\\\\\\\\\\\"]}}}, \\\\\\\\\\\\\\\"localData\\\\\\\\\\\\\\\": {}, \\\\\\\\\\\\\\\"isEnabled\\\\\\\\\\\\\\\": true, \\\\\\\\\\\\\\\"name\\\\\\\\\\\\\\\": null, \\\\\\\\\\\\\\\"annotation\\\\\\\\\\\\\\\": null}], \\\\\\\\\\\\\\\"inspectors\\\\\\\\\\\\\\\": [], \\\\\\\\\\\\\\\"meta\\\\\\\\\\\\\\\": {\\\\\\\\\\\\\\\"savedDatasetId\\\\\\\\\\\\\\\": \\\\\\\\\\\\\\\"a000efca-2498-40c2-a86a-606ab8f56efc\\\\\\\\\\\\\\\", \\\\\\\\\\\\\\\"datasetType\\\\\\\\\\\\\\\": \\\\\\\\\\\\\\\"tabular\\\\\\\\\\\\\\\", \\\\\\\\\\\\\\\"subscriptionId\\\\\\\\\\\\\\\": \\\\\\\\\\\\\\\"d7f39349-a66b-446e-aba6-0053c2cf1c11\\\\\\\\\\\\\\\", \\\\\\\\\\\\\\\"workspaceId\\\\\\\\\\\\\\\": \\\\\\\\\\\\\\\"79864154-a591-4e15-a19e-bb84e870888b\\\\\\\\\\\\\\\", \\\\\\\\\\\\\\\"workspaceLocation\\\\\\\\\\\\\\\": \\\\\\\\\\\\\\\"southcentralus\\\\\\\\\\\\\\\"}}\\\\\\\", \\\\\\\"activities\\\\\\\": 0}\", \"EnableSubsampling\": \"False\", \"runTemplate\": \"AutoML\", \"azureml.runsource\": \"automl\", \"display_task_type\": \"regression\", \"dependencies_versions\": \"{\\\"azureml-widgets\\\": \\\"1.20.0\\\", \\\"azureml-train\\\": \\\"1.20.0\\\", \\\"azureml-train-restclients-hyperdrive\\\": \\\"1.20.0\\\", \\\"azureml-train-core\\\": \\\"1.20.0\\\", \\\"azureml-train-automl\\\": \\\"1.20.0\\\", \\\"azureml-train-automl-runtime\\\": \\\"1.20.0\\\", \\\"azureml-train-automl-client\\\": \\\"1.20.0\\\", \\\"azureml-tensorboard\\\": \\\"1.20.0\\\", \\\"azureml-telemetry\\\": \\\"1.20.0\\\", \\\"azureml-sdk\\\": \\\"1.20.0\\\", \\\"azureml-samples\\\": \\\"0+unknown\\\", \\\"azureml-pipeline\\\": \\\"1.20.0\\\", \\\"azureml-pipeline-steps\\\": \\\"1.20.0\\\", \\\"azureml-pipeline-core\\\": \\\"1.20.0\\\", \\\"azureml-opendatasets\\\": \\\"1.20.0\\\", \\\"azureml-model-management-sdk\\\": \\\"1.0.1b6.post1\\\", \\\"azureml-mlflow\\\": \\\"1.20.0.post1\\\", \\\"azureml-interpret\\\": \\\"1.20.0\\\", \\\"azureml-explain-model\\\": \\\"1.20.0\\\", \\\"azureml-defaults\\\": \\\"1.20.0\\\", \\\"azureml-dataset-runtime\\\": \\\"1.20.0\\\", \\\"azureml-dataprep\\\": \\\"2.7.3\\\", \\\"azureml-dataprep-rslex\\\": \\\"1.5.0\\\", \\\"azureml-dataprep-native\\\": \\\"27.0.0\\\", \\\"azureml-datadrift\\\": \\\"1.20.0\\\", \\\"azureml-core\\\": \\\"1.20.0\\\", \\\"azureml-contrib-services\\\": \\\"1.20.0\\\", \\\"azureml-contrib-server\\\": \\\"1.20.0\\\", \\\"azureml-contrib-reinforcementlearning\\\": \\\"1.20.0\\\", \\\"azureml-contrib-pipeline-steps\\\": \\\"1.20.0\\\", \\\"azureml-contrib-notebook\\\": \\\"1.20.0\\\", \\\"azureml-contrib-interpret\\\": \\\"1.20.0\\\", \\\"azureml-contrib-gbdt\\\": \\\"1.20.0\\\", \\\"azureml-contrib-fairness\\\": \\\"1.20.0\\\", \\\"azureml-contrib-dataset\\\": \\\"1.20.0\\\", \\\"azureml-cli-common\\\": \\\"1.20.0\\\", \\\"azureml-automl-runtime\\\": \\\"1.20.0\\\", \\\"azureml-automl-core\\\": \\\"1.20.0\\\", \\\"azureml-accel-models\\\": \\\"1.20.0\\\"}\", \"_aml_system_scenario_identification\": \"Remote.Parent\", \"ClientType\": \"SDK\", \"environment_cpu_name\": \"AzureML-AutoML\", \"environment_cpu_label\": \"prod\", \"environment_gpu_name\": \"AzureML-AutoML-GPU\", \"environment_gpu_label\": \"prod\", \"root_attribution\": \"automl\", \"attribution\": \"AutoML\", \"Orchestrator\": \"AutoML\", \"CancelUri\": \"https://southcentralus.experiments.azureml.net/jasmine/v1.0/subscriptions/d7f39349-a66b-446e-aba6-0053c2cf1c11/resourceGroups/aml-quickstarts-137724/providers/Microsoft.MachineLearningServices/workspaces/quick-starts-ws-137724/experimentids/24fe5575-b613-4b93-a4a1-ba3b4b9c2988/cancel/AutoML_2b27b78d-cfc2-4f6d-8b9b-8574b8bfd6a7\", \"ClientSdkVersion\": \"1.21.0\", \"snapshotId\": \"00000000-0000-0000-0000-000000000000\", \"SetupRunId\": \"AutoML_2b27b78d-cfc2-4f6d-8b9b-8574b8bfd6a7_setup\", \"SetupRunContainerId\": \"dcid.AutoML_2b27b78d-cfc2-4f6d-8b9b-8574b8bfd6a7_setup\", \"FeaturizationRunJsonPath\": \"featurizer_container.json\", \"FeaturizationRunId\": \"AutoML_2b27b78d-cfc2-4f6d-8b9b-8574b8bfd6a7_featurize\", \"ProblemInfoJsonString\": \"{\\\"dataset_num_categorical\\\": 0, \\\"is_sparse\\\": true, \\\"subsampling\\\": false, \\\"dataset_classes\\\": 3752, \\\"dataset_features\\\": 13, \\\"dataset_samples\\\": 18389, \\\"single_frequency_class_detected\\\": false}\", \"ModelExplainRunId\": \"AutoML_2b27b78d-cfc2-4f6d-8b9b-8574b8bfd6a7_ModelExplain\"}, \"tags\": {\"model_explain_run\": \"best_run\", \"_aml_system_azureml.automlComponent\": \"AutoML\", \"pipeline_id\": \"\", \"score\": \"\", \"predicted_cost\": \"\", \"fit_time\": \"\", \"training_percent\": \"\", \"iteration\": \"\", \"run_preprocessor\": \"\", \"run_algorithm\": \"\", \"automl_best_child_run_id\": \"AutoML_2b27b78d-cfc2-4f6d-8b9b-8574b8bfd6a7_19\", \"model_explain_best_run_child_id\": \"AutoML_2b27b78d-cfc2-4f6d-8b9b-8574b8bfd6a7_19\"}, \"end_time_utc\": \"2021-02-07T04:21:32.397144Z\", \"status\": \"Completed\", \"log_files\": {}, \"log_groups\": [], \"run_duration\": \"0:22:02\"}, \"child_runs\": [{\"run_id\": \"AutoML_2b27b78d-cfc2-4f6d-8b9b-8574b8bfd6a7_0\", \"run_number\": 5, \"metric\": null, \"status\": \"Completed\", \"run_type\": \"azureml.scriptrun\", \"training_percent\": \"100\", \"start_time\": \"2021-02-07T04:10:52.5326Z\", \"end_time\": \"2021-02-07T04:11:46.829946Z\", \"created_time\": \"2021-02-07T04:10:41.120055Z\", \"created_time_dt\": \"2021-02-07T04:10:41.120055Z\", \"duration\": \"0:01:05\", \"iteration\": \"0\", \"goal\": \"r2_score_max\", \"run_name\": \"MaxAbsScaler, LightGBM\", \"run_properties\": \"copy=True\", \"primary_metric\": 0.83900039, \"best_metric\": 0.83900039}, {\"run_id\": \"AutoML_2b27b78d-cfc2-4f6d-8b9b-8574b8bfd6a7_2\", \"run_number\": 6, \"metric\": null, \"status\": \"Completed\", \"run_type\": \"azureml.scriptrun\", \"training_percent\": \"100\", \"start_time\": \"2021-02-07T04:13:03.156512Z\", \"end_time\": \"2021-02-07T04:16:33.039586Z\", \"created_time\": \"2021-02-07T04:10:41.212534Z\", \"created_time_dt\": \"2021-02-07T04:10:41.212534Z\", \"duration\": \"0:05:51\", \"iteration\": \"2\", \"goal\": \"r2_score_max\", \"run_name\": \"SparseNormalizer, XGBoostRegressor\", \"run_properties\": \"<azureml.automl.runtime.shared.model_wrappers.SparseNormalizer object at 0x7f8a740d2f60\", \"primary_metric\": 0.70491109, \"best_metric\": 0.83900039}, {\"run_id\": \"AutoML_2b27b78d-cfc2-4f6d-8b9b-8574b8bfd6a7_1\", \"run_number\": 7, \"metric\": null, \"status\": \"Completed\", \"run_type\": \"azureml.scriptrun\", \"training_percent\": \"100\", \"start_time\": \"2021-02-07T04:11:53.383852Z\", \"end_time\": \"2021-02-07T04:12:41.492855Z\", \"created_time\": \"2021-02-07T04:10:41.255248Z\", \"created_time_dt\": \"2021-02-07T04:10:41.255248Z\", \"duration\": \"0:02:00\", \"iteration\": \"1\", \"goal\": \"r2_score_max\", \"run_name\": \"MaxAbsScaler, XGBoostRegressor\", \"run_properties\": \"copy=True\", \"primary_metric\": 0.78327791, \"best_metric\": 0.83900039}, {\"run_id\": \"AutoML_2b27b78d-cfc2-4f6d-8b9b-8574b8bfd6a7_3\", \"run_number\": 8, \"metric\": null, \"status\": \"Completed\", \"run_type\": \"azureml.scriptrun\", \"training_percent\": \"100\", \"start_time\": \"2021-02-07T04:12:43.243754Z\", \"end_time\": \"2021-02-07T04:13:49.420488Z\", \"created_time\": \"2021-02-07T04:10:41.268602Z\", \"created_time_dt\": \"2021-02-07T04:10:41.268602Z\", \"duration\": \"0:03:08\", \"iteration\": \"3\", \"goal\": \"r2_score_max\", \"run_name\": \"MaxAbsScaler, RandomForest\", \"run_properties\": \"copy=True\", \"primary_metric\": 0.73643704, \"best_metric\": 0.83900039}, {\"run_id\": \"AutoML_2b27b78d-cfc2-4f6d-8b9b-8574b8bfd6a7_4\", \"run_number\": 9, \"metric\": null, \"status\": \"Completed\", \"run_type\": \"azureml.scriptrun\", \"training_percent\": \"100\", \"start_time\": \"2021-02-07T04:13:00.004474Z\", \"end_time\": \"2021-02-07T04:16:49.779965Z\", \"created_time\": \"2021-02-07T04:10:41.31789Z\", \"created_time_dt\": \"2021-02-07T04:10:41.31789Z\", \"duration\": \"0:06:08\", \"iteration\": \"4\", \"goal\": \"r2_score_max\", \"run_name\": \"StandardScalerWrapper, XGBoostRegressor\", \"run_properties\": \"<azureml.automl.runtime.shared.model_wrappers.StandardScalerWrapper object at 0x7fbc934cfa20\", \"primary_metric\": 0.84390946, \"best_metric\": 0.84390946}, {\"run_id\": \"AutoML_2b27b78d-cfc2-4f6d-8b9b-8574b8bfd6a7_5\", \"run_number\": 10, \"metric\": null, \"status\": \"Completed\", \"run_type\": \"azureml.scriptrun\", \"training_percent\": \"100\", \"start_time\": \"2021-02-07T04:13:07.590795Z\", \"end_time\": \"2021-02-07T04:18:21.310012Z\", \"created_time\": \"2021-02-07T04:11:51.054917Z\", \"created_time_dt\": \"2021-02-07T04:11:51.054917Z\", \"duration\": \"0:06:30\", \"iteration\": \"5\", \"goal\": \"r2_score_max\", \"run_name\": \"MaxAbsScaler, ElasticNet\", \"run_properties\": \"copy=True\", \"primary_metric\": 0.66246215, \"best_metric\": 0.84390946}, {\"run_id\": \"AutoML_2b27b78d-cfc2-4f6d-8b9b-8574b8bfd6a7_6\", \"run_number\": 11, \"metric\": null, \"status\": \"Completed\", \"run_type\": \"azureml.scriptrun\", \"training_percent\": \"100\", \"start_time\": \"2021-02-07T04:13:49.311373Z\", \"end_time\": \"2021-02-07T04:15:08.440812Z\", \"created_time\": \"2021-02-07T04:12:43.91207Z\", \"created_time_dt\": \"2021-02-07T04:12:43.91207Z\", \"duration\": \"0:02:24\", \"iteration\": \"6\", \"goal\": \"r2_score_max\", \"run_name\": \"MaxAbsScaler, RandomForest\", \"run_properties\": \"copy=True\", \"primary_metric\": 0.69915386, \"best_metric\": 0.84390946}, {\"run_id\": \"AutoML_2b27b78d-cfc2-4f6d-8b9b-8574b8bfd6a7_7\", \"run_number\": 12, \"metric\": null, \"status\": \"Completed\", \"run_type\": \"azureml.scriptrun\", \"training_percent\": \"100\", \"start_time\": \"2021-02-07T04:15:11.299191Z\", \"end_time\": \"2021-02-07T04:16:05.087986Z\", \"created_time\": \"2021-02-07T04:13:53.329105Z\", \"created_time_dt\": \"2021-02-07T04:13:53.329105Z\", \"duration\": \"0:02:11\", \"iteration\": \"7\", \"goal\": \"r2_score_max\", \"run_name\": \"StandardScalerWrapper, XGBoostRegressor\", \"run_properties\": \"<azureml.automl.runtime.shared.model_wrappers.StandardScalerWrapper object at 0x7f9be4d14ac8\", \"primary_metric\": 0.837107, \"best_metric\": 0.84390946}, {\"run_id\": \"AutoML_2b27b78d-cfc2-4f6d-8b9b-8574b8bfd6a7_8\", \"run_number\": 13, \"metric\": null, \"status\": \"Completed\", \"run_type\": \"azureml.scriptrun\", \"training_percent\": \"100\", \"start_time\": \"2021-02-07T04:16:04.923878Z\", \"end_time\": \"2021-02-07T04:17:06.745224Z\", \"created_time\": \"2021-02-07T04:15:13.075617Z\", \"created_time_dt\": \"2021-02-07T04:15:13.075617Z\", \"duration\": \"0:01:53\", \"iteration\": \"8\", \"goal\": \"r2_score_max\", \"run_name\": \"MaxAbsScaler, ExtremeRandomTrees\", \"run_properties\": \"copy=True\", \"primary_metric\": 0.71322763, \"best_metric\": 0.84390946}, {\"run_id\": \"AutoML_2b27b78d-cfc2-4f6d-8b9b-8574b8bfd6a7_9\", \"run_number\": 14, \"metric\": null, \"status\": \"Completed\", \"run_type\": \"azureml.scriptrun\", \"training_percent\": \"100\", \"start_time\": \"2021-02-07T04:16:32.503466Z\", \"end_time\": \"2021-02-07T04:17:18.850615Z\", \"created_time\": \"2021-02-07T04:16:09.504367Z\", \"created_time_dt\": \"2021-02-07T04:16:09.504367Z\", \"duration\": \"0:01:09\", \"iteration\": \"9\", \"goal\": \"r2_score_max\", \"run_name\": \"StandardScalerWrapper, ElasticNet\", \"run_properties\": \"<azureml.automl.runtime.shared.model_wrappers.StandardScalerWrapper object at 0x7f783ab44be0\", \"primary_metric\": 0.65979661, \"best_metric\": 0.84390946}, {\"run_id\": \"AutoML_2b27b78d-cfc2-4f6d-8b9b-8574b8bfd6a7_10\", \"run_number\": 15, \"metric\": null, \"status\": \"Completed\", \"run_type\": \"azureml.scriptrun\", \"training_percent\": \"100\", \"start_time\": \"2021-02-07T04:16:54.82881Z\", \"end_time\": \"2021-02-07T04:18:47.294206Z\", \"created_time\": \"2021-02-07T04:16:37.09145Z\", \"created_time_dt\": \"2021-02-07T04:16:37.09145Z\", \"duration\": \"0:02:10\", \"iteration\": \"10\", \"goal\": \"r2_score_max\", \"run_name\": \"MaxAbsScaler, RandomForest\", \"run_properties\": \"copy=True\", \"primary_metric\": 0.76790576, \"best_metric\": 0.84390946}, {\"run_id\": \"AutoML_2b27b78d-cfc2-4f6d-8b9b-8574b8bfd6a7_11\", \"run_number\": 16, \"metric\": null, \"status\": \"Completed\", \"run_type\": \"azureml.scriptrun\", \"training_percent\": \"100\", \"start_time\": \"2021-02-07T04:17:08.764064Z\", \"end_time\": \"2021-02-07T04:18:03.789304Z\", \"created_time\": \"2021-02-07T04:16:53.779564Z\", \"created_time_dt\": \"2021-02-07T04:16:53.779564Z\", \"duration\": \"0:01:10\", \"iteration\": \"11\", \"goal\": \"r2_score_max\", \"run_name\": \"MaxAbsScaler, RandomForest\", \"run_properties\": \"copy=True\", \"primary_metric\": 0.73170002, \"best_metric\": 0.84390946}, {\"run_id\": \"AutoML_2b27b78d-cfc2-4f6d-8b9b-8574b8bfd6a7_12\", \"run_number\": 17, \"metric\": null, \"status\": \"Completed\", \"run_type\": \"azureml.scriptrun\", \"training_percent\": \"100\", \"start_time\": \"2021-02-07T04:17:24.838031Z\", \"end_time\": \"2021-02-07T04:18:21.068292Z\", \"created_time\": \"2021-02-07T04:17:10.454814Z\", \"created_time_dt\": \"2021-02-07T04:17:10.454814Z\", \"duration\": \"0:01:10\", \"iteration\": \"12\", \"goal\": \"r2_score_max\", \"run_name\": \"StandardScalerWrapper, XGBoostRegressor\", \"run_properties\": \"<azureml.automl.runtime.shared.model_wrappers.StandardScalerWrapper object at 0x7fdc3c047f60\", \"primary_metric\": 0.76663769, \"best_metric\": 0.84390946}, {\"run_id\": \"AutoML_2b27b78d-cfc2-4f6d-8b9b-8574b8bfd6a7_13\", \"run_number\": 18, \"metric\": null, \"status\": \"Completed\", \"run_type\": \"azureml.scriptrun\", \"training_percent\": \"100\", \"start_time\": \"2021-02-07T04:18:07.585222Z\", \"end_time\": \"2021-02-07T04:19:04.192941Z\", \"created_time\": \"2021-02-07T04:17:22.901706Z\", \"created_time_dt\": \"2021-02-07T04:17:22.901706Z\", \"duration\": \"0:01:41\", \"iteration\": \"13\", \"goal\": \"r2_score_max\", \"run_name\": \"MaxAbsScaler, ExtremeRandomTrees\", \"run_properties\": \"copy=True\", \"primary_metric\": 0.71860176, \"best_metric\": 0.84390946}, {\"run_id\": \"AutoML_2b27b78d-cfc2-4f6d-8b9b-8574b8bfd6a7_14\", \"run_number\": 19, \"metric\": null, \"status\": \"Completed\", \"run_type\": \"azureml.scriptrun\", \"training_percent\": \"100\", \"start_time\": \"2021-02-07T04:18:22.945345Z\", \"end_time\": \"2021-02-07T04:19:12.838351Z\", \"created_time\": \"2021-02-07T04:18:07.42869Z\", \"created_time_dt\": \"2021-02-07T04:18:07.42869Z\", \"duration\": \"0:01:05\", \"iteration\": \"14\", \"goal\": \"r2_score_max\", \"run_name\": \"MaxAbsScaler, ExtremeRandomTrees\", \"run_properties\": \"copy=True\", \"primary_metric\": 0.53069435, \"best_metric\": 0.84390946}, {\"run_id\": \"AutoML_2b27b78d-cfc2-4f6d-8b9b-8574b8bfd6a7_15\", \"run_number\": 20, \"metric\": null, \"status\": \"Completed\", \"run_type\": \"azureml.scriptrun\", \"training_percent\": \"100\", \"start_time\": \"2021-02-07T04:18:49.857765Z\", \"end_time\": \"2021-02-07T04:20:03.932121Z\", \"created_time\": \"2021-02-07T04:18:24.990682Z\", \"created_time_dt\": \"2021-02-07T04:18:24.990682Z\", \"duration\": \"0:01:38\", \"iteration\": \"15\", \"goal\": \"r2_score_max\", \"run_name\": \"MaxAbsScaler, ExtremeRandomTrees\", \"run_properties\": \"copy=True\", \"primary_metric\": 0.70389325, \"best_metric\": 0.84390946}, {\"run_id\": \"AutoML_2b27b78d-cfc2-4f6d-8b9b-8574b8bfd6a7_16\", \"run_number\": 21, \"metric\": null, \"status\": \"Completed\", \"run_type\": \"azureml.scriptrun\", \"training_percent\": \"100\", \"start_time\": \"2021-02-07T04:18:37.933254Z\", \"end_time\": \"2021-02-07T04:19:27.103213Z\", \"created_time\": \"2021-02-07T04:18:25.130102Z\", \"created_time_dt\": \"2021-02-07T04:18:25.130102Z\", \"duration\": \"0:01:01\", \"iteration\": \"16\", \"goal\": \"r2_score_max\", \"run_name\": \"MaxAbsScaler, ElasticNet\", \"run_properties\": \"copy=True\", \"primary_metric\": 0.63733774, \"best_metric\": 0.84390946}, {\"run_id\": \"AutoML_2b27b78d-cfc2-4f6d-8b9b-8574b8bfd6a7_17\", \"run_number\": 22, \"metric\": null, \"status\": \"Completed\", \"run_type\": \"azureml.scriptrun\", \"training_percent\": \"100\", \"start_time\": \"2021-02-07T04:19:07.180399Z\", \"end_time\": \"2021-02-07T04:20:01.046885Z\", \"created_time\": \"2021-02-07T04:18:50.753423Z\", \"created_time_dt\": \"2021-02-07T04:18:50.753423Z\", \"duration\": \"0:01:10\", \"iteration\": \"17\", \"goal\": \"r2_score_max\", \"run_name\": \"MaxAbsScaler, RandomForest\", \"run_properties\": \"copy=True\", \"primary_metric\": 0.61474845, \"best_metric\": 0.84390946}, {\"run_id\": \"AutoML_2b27b78d-cfc2-4f6d-8b9b-8574b8bfd6a7_18\", \"run_number\": 23, \"metric\": null, \"status\": \"Completed\", \"run_type\": \"azureml.scriptrun\", \"training_percent\": \"100\", \"start_time\": \"2021-02-07T04:20:17.648769Z\", \"end_time\": \"2021-02-07T04:21:11.62251Z\", \"created_time\": \"2021-02-07T04:20:05.370198Z\", \"created_time_dt\": \"2021-02-07T04:20:05.370198Z\", \"duration\": \"0:01:06\", \"iteration\": \"18\", \"goal\": \"r2_score_max\", \"run_name\": \"VotingEnsemble\", \"run_properties\": \"estimators=[('4',\\n                                          Pipeline(memory=None,\\n                                                   steps=[('standardscalerwrapper',\\n                                                           <azureml.automl.runtime.shared.model_wrappers.StandardScalerWrapper object at 0x7f938832dc18>\", \"primary_metric\": 0.84555895, \"best_metric\": 0.84555895}, {\"run_id\": \"AutoML_2b27b78d-cfc2-4f6d-8b9b-8574b8bfd6a7_19\", \"run_number\": 24, \"metric\": null, \"status\": \"Completed\", \"run_type\": \"azureml.scriptrun\", \"training_percent\": \"100\", \"start_time\": \"2021-02-07T04:20:19.253754Z\", \"end_time\": \"2021-02-07T04:21:24.716984Z\", \"created_time\": \"2021-02-07T04:20:05.535474Z\", \"created_time_dt\": \"2021-02-07T04:20:05.535474Z\", \"duration\": \"0:01:19\", \"iteration\": \"19\", \"goal\": \"r2_score_max\", \"run_name\": \"StackEnsemble\", \"run_properties\": \"base_learners=[('4',\\n                                       Pipeline(memory=None,\\n                                                steps=[('standardscalerwrapper',\\n                                                        <azureml.automl.runtime.shared.model_wrappers.StandardScalerWrapper object at 0x7f95f04d0630>\", \"primary_metric\": 0.84562652, \"best_metric\": 0.84562652}], \"children_metrics\": {\"categories\": [0], \"series\": {\"normalized_root_mean_squared_error\": [{\"categories\": [\"0\", \"1\", \"2\", \"3\", \"4\", \"5\", \"6\", \"7\", \"8\", \"9\", \"10\", \"11\", \"12\", \"13\", \"14\", \"15\", \"16\", \"17\", \"18\", \"19\"], \"mode\": \"markers\", \"name\": \"normalized_root_mean_squared_error\", \"stepped\": false, \"type\": \"scatter\", \"data\": [0.09713847474873313, 0.11270169536623058, 0.13150895022810824, 0.12428566855906341, 0.09564607520992013, 0.14065011916879797, 0.13278563184854134, 0.09770799007684366, 0.1296425346671944, 0.14120438390928397, 0.11663020632136195, 0.12539758850929428, 0.11694838210950317, 0.12842203733086838, 0.16584666996412076, 0.13173555898324738, 0.14579077469702212, 0.15026265702860567, 0.09513936197164442, 0.09511854773713146]}, {\"categories\": [\"0\", \"1\", \"2\", \"3\", \"4\", \"5\", \"6\", \"7\", \"8\", \"9\", \"10\", \"11\", \"12\", \"13\", \"14\", \"15\", \"16\", \"17\", \"18\", \"19\"], \"mode\": \"lines\", \"name\": \"normalized_root_mean_squared_error_min\", \"stepped\": true, \"type\": \"scatter\", \"data\": [0.09713847474873313, 0.09713847474873313, 0.09713847474873313, 0.09713847474873313, 0.09564607520992013, 0.09564607520992013, 0.09564607520992013, 0.09564607520992013, 0.09564607520992013, 0.09564607520992013, 0.09564607520992013, 0.09564607520992013, 0.09564607520992013, 0.09564607520992013, 0.09564607520992013, 0.09564607520992013, 0.09564607520992013, 0.09564607520992013, 0.09513936197164442, 0.09511854773713146]}], \"root_mean_squared_log_error\": [{\"categories\": [\"0\", \"1\", \"2\", \"3\", \"4\", \"5\", \"6\", \"7\", \"8\", \"9\", \"10\", \"11\", \"12\", \"13\", \"14\", \"15\", \"16\", \"17\", \"18\", \"19\"], \"mode\": \"markers\", \"name\": \"root_mean_squared_log_error\", \"stepped\": false, \"type\": \"scatter\", \"data\": [0.22772876084386565, 0.2642491406021646, 0.3110096701163082, 0.28475861142522363, 0.22339345028747673, NaN, 0.2996990761037021, 0.23124733847979329, 0.29124242915942644, NaN, 0.26964581847295555, 0.2884746784668958, 0.2517109785824163, 0.2881029279219857, 0.3819056540261118, 0.2960541387606596, NaN, 0.3415206062072928, 0.22225926932754933, 0.22132043925448125]}, {\"categories\": [\"0\", \"1\", \"2\", \"3\", \"4\", \"5\", \"6\", \"7\", \"8\", \"9\", \"10\", \"11\", \"12\", \"13\", \"14\", \"15\", \"16\", \"17\", \"18\", \"19\"], \"mode\": \"lines\", \"name\": \"root_mean_squared_log_error_min\", \"stepped\": true, \"type\": \"scatter\", \"data\": [0.22772876084386565, 0.22772876084386565, 0.22772876084386565, 0.22772876084386565, 0.22339345028747673, 0.22339345028747673, 0.22339345028747673, 0.22339345028747673, 0.22339345028747673, 0.22339345028747673, 0.22339345028747673, 0.22339345028747673, 0.22339345028747673, 0.22339345028747673, 0.22339345028747673, 0.22339345028747673, 0.22339345028747673, 0.22339345028747673, 0.22225926932754933, 0.22132043925448125]}], \"r2_score\": [{\"categories\": [\"0\", \"1\", \"2\", \"3\", \"4\", \"5\", \"6\", \"7\", \"8\", \"9\", \"10\", \"11\", \"12\", \"13\", \"14\", \"15\", \"16\", \"17\", \"18\", \"19\"], \"mode\": \"markers\", \"name\": \"r2_score\", \"stepped\": false, \"type\": \"scatter\", \"data\": [0.8390003870308376, 0.7832779149104162, 0.7049110859825449, 0.7364370391661497, 0.843909461318274, 0.6624621490304062, 0.6991538618306351, 0.8371069964162912, 0.7132276343624226, 0.6597966133414026, 0.76790576139269, 0.731700019196944, 0.7666376937225235, 0.718601756039274, 0.530694349119038, 0.7038932488785797, 0.6373377434557972, 0.6147484452253964, 0.8455589515361349, 0.8456265202164054]}, {\"categories\": [\"0\", \"1\", \"2\", \"3\", \"4\", \"5\", \"6\", \"7\", \"8\", \"9\", \"10\", \"11\", \"12\", \"13\", \"14\", \"15\", \"16\", \"17\", \"18\", \"19\"], \"mode\": \"lines\", \"name\": \"r2_score_max\", \"stepped\": true, \"type\": \"scatter\", \"data\": [0.8390003870308376, 0.8390003870308376, 0.8390003870308376, 0.8390003870308376, 0.843909461318274, 0.843909461318274, 0.843909461318274, 0.843909461318274, 0.843909461318274, 0.843909461318274, 0.843909461318274, 0.843909461318274, 0.843909461318274, 0.843909461318274, 0.843909461318274, 0.843909461318274, 0.843909461318274, 0.843909461318274, 0.8455589515361349, 0.8456265202164054]}], \"mean_absolute_percentage_error\": [{\"categories\": [\"0\", \"1\", \"2\", \"3\", \"4\", \"5\", \"6\", \"7\", \"8\", \"9\", \"10\", \"11\", \"12\", \"13\", \"14\", \"15\", \"16\", \"17\", \"18\", \"19\"], \"mode\": \"markers\", \"name\": \"mean_absolute_percentage_error\", \"stepped\": false, \"type\": \"scatter\", \"data\": [17.35210306301809, 21.20780794504015, 25.581758414592873, 23.76743034817916, 16.91594825316955, 28.720893798608515, 24.51807710996524, 17.71978952609078, 24.053004296705378, 28.417520435336012, 22.257320926811147, 24.430879589353797, 18.371201311017355, 23.45140081813998, 35.21891800585859, 24.551044506542056, 28.88214457275614, 29.552739306668673, 16.847619375684243, 16.563774128931886]}, {\"categories\": [\"0\", \"1\", \"2\", \"3\", \"4\", \"5\", \"6\", \"7\", \"8\", \"9\", \"10\", \"11\", \"12\", \"13\", \"14\", \"15\", \"16\", \"17\", \"18\", \"19\"], \"mode\": \"lines\", \"name\": \"mean_absolute_percentage_error_min\", \"stepped\": true, \"type\": \"scatter\", \"data\": [17.35210306301809, 17.35210306301809, 17.35210306301809, 17.35210306301809, 16.91594825316955, 16.91594825316955, 16.91594825316955, 16.91594825316955, 16.91594825316955, 16.91594825316955, 16.91594825316955, 16.91594825316955, 16.91594825316955, 16.91594825316955, 16.91594825316955, 16.91594825316955, 16.91594825316955, 16.91594825316955, 16.847619375684243, 16.563774128931886]}], \"mean_absolute_error\": [{\"categories\": [\"0\", \"1\", \"2\", \"3\", \"4\", \"5\", \"6\", \"7\", \"8\", \"9\", \"10\", \"11\", \"12\", \"13\", \"14\", \"15\", \"16\", \"17\", \"18\", \"19\"], \"mode\": \"markers\", \"name\": \"mean_absolute_error\", \"stepped\": false, \"type\": \"scatter\", \"data\": [31378.447398293, 37801.92295858305, 45347.15877836045, 42352.45355801208, 30620.98297608855, 49723.94248310476, 44504.11761796137, 31732.86650906617, 43655.63680788137, 49769.53882419693, 39397.480394453305, 43203.53888058266, 36960.326773865585, 42683.05930186282, 60315.295760577246, 44460.55738316354, 51206.458085651124, 52847.52882795772, 30489.385692337895, 30367.897935756602]}, {\"categories\": [\"0\", \"1\", \"2\", \"3\", \"4\", \"5\", \"6\", \"7\", \"8\", \"9\", \"10\", \"11\", \"12\", \"13\", \"14\", \"15\", \"16\", \"17\", \"18\", \"19\"], \"mode\": \"lines\", \"name\": \"mean_absolute_error_min\", \"stepped\": true, \"type\": \"scatter\", \"data\": [31378.447398293, 31378.447398293, 31378.447398293, 31378.447398293, 30620.98297608855, 30620.98297608855, 30620.98297608855, 30620.98297608855, 30620.98297608855, 30620.98297608855, 30620.98297608855, 30620.98297608855, 30620.98297608855, 30620.98297608855, 30620.98297608855, 30620.98297608855, 30620.98297608855, 30620.98297608855, 30489.385692337895, 30367.897935756602]}], \"explained_variance\": [{\"categories\": [\"0\", \"1\", \"2\", \"3\", \"4\", \"5\", \"6\", \"7\", \"8\", \"9\", \"10\", \"11\", \"12\", \"13\", \"14\", \"15\", \"16\", \"17\", \"18\", \"19\"], \"mode\": \"markers\", \"name\": \"explained_variance\", \"stepped\": false, \"type\": \"scatter\", \"data\": [0.8390040058290049, 0.7832802592529108, 0.7050147202529098, 0.7364745709897784, 0.8439419216615232, 0.6625890227477977, 0.699225170226456, 0.8371158982997678, 0.7133275401135202, 0.6599190675862456, 0.7679448245408429, 0.7317595723998405, 0.7843483608540941, 0.7187534047095339, 0.5307088596767957, 0.704009343657663, 0.6374310612060187, 0.6150222947688837, 0.8455784812684746, 0.8456366105088856]}, {\"categories\": [\"0\", \"1\", \"2\", \"3\", \"4\", \"5\", \"6\", \"7\", \"8\", \"9\", \"10\", \"11\", \"12\", \"13\", \"14\", \"15\", \"16\", \"17\", \"18\", \"19\"], \"mode\": \"lines\", \"name\": \"explained_variance_max\", \"stepped\": true, \"type\": \"scatter\", \"data\": [0.8390040058290049, 0.8390040058290049, 0.8390040058290049, 0.8390040058290049, 0.8439419216615232, 0.8439419216615232, 0.8439419216615232, 0.8439419216615232, 0.8439419216615232, 0.8439419216615232, 0.8439419216615232, 0.8439419216615232, 0.8439419216615232, 0.8439419216615232, 0.8439419216615232, 0.8439419216615232, 0.8439419216615232, 0.8439419216615232, 0.8455784812684746, 0.8456366105088856]}], \"median_absolute_error\": [{\"categories\": [\"0\", \"1\", \"2\", \"3\", \"4\", \"5\", \"6\", \"7\", \"8\", \"9\", \"10\", \"11\", \"12\", \"13\", \"14\", \"15\", \"16\", \"17\", \"18\", \"19\"], \"mode\": \"markers\", \"name\": \"median_absolute_error\", \"stepped\": false, \"type\": \"scatter\", \"data\": [20508.413770903004, 26570.265625, 31585.921875, 30629.64112897744, 19638.0234375, 37448.32479623938, 30574.20887603218, 21550.0859375, 30568.02185051387, 37230.43994884635, 27889.252748752908, 31221.363993377396, 23553.890625, 29175.86904669535, 46088.32628494143, 31089.991478630152, 38156.69054389368, 38788.712904285945, 19905.220327147093, 19605.844965430166]}, {\"categories\": [\"0\", \"1\", \"2\", \"3\", \"4\", \"5\", \"6\", \"7\", \"8\", \"9\", \"10\", \"11\", \"12\", \"13\", \"14\", \"15\", \"16\", \"17\", \"18\", \"19\"], \"mode\": \"lines\", \"name\": \"median_absolute_error_min\", \"stepped\": true, \"type\": \"scatter\", \"data\": [20508.413770903004, 20508.413770903004, 20508.413770903004, 20508.413770903004, 19638.0234375, 19638.0234375, 19638.0234375, 19638.0234375, 19638.0234375, 19638.0234375, 19638.0234375, 19638.0234375, 19638.0234375, 19638.0234375, 19638.0234375, 19638.0234375, 19638.0234375, 19638.0234375, 19638.0234375, 19605.844965430166]}], \"spearman_correlation\": [{\"categories\": [\"0\", \"1\", \"2\", \"3\", \"4\", \"5\", \"6\", \"7\", \"8\", \"9\", \"10\", \"11\", \"12\", \"13\", \"14\", \"15\", \"16\", \"17\", \"18\", \"19\"], \"mode\": \"markers\", \"name\": \"spearman_correlation\", \"stepped\": false, \"type\": \"scatter\", \"data\": [0.9233660579005828, 0.8957544359126594, 0.8521680939449118, 0.8846524899447081, 0.9270695041803086, 0.8413783263599185, 0.8580130833371029, 0.9213814422564995, 0.8706297138791376, 0.8397606889255936, 0.900764442934349, 0.8866603525364558, 0.905492281675435, 0.8712716499036324, 0.8042769414812151, 0.8659549703121995, 0.8247026697879661, 0.8141700966313801, 0.9277169375929726, 0.9276782962094277]}, {\"categories\": [\"0\", \"1\", \"2\", \"3\", \"4\", \"5\", \"6\", \"7\", \"8\", \"9\", \"10\", \"11\", \"12\", \"13\", \"14\", \"15\", \"16\", \"17\", \"18\", \"19\"], \"mode\": \"lines\", \"name\": \"spearman_correlation_max\", \"stepped\": true, \"type\": \"scatter\", \"data\": [0.9233660579005828, 0.9233660579005828, 0.9233660579005828, 0.9233660579005828, 0.9270695041803086, 0.9270695041803086, 0.9270695041803086, 0.9270695041803086, 0.9270695041803086, 0.9270695041803086, 0.9270695041803086, 0.9270695041803086, 0.9270695041803086, 0.9270695041803086, 0.9270695041803086, 0.9270695041803086, 0.9270695041803086, 0.9270695041803086, 0.9277169375929726, 0.9277169375929726]}], \"normalized_median_absolute_error\": [{\"categories\": [\"0\", \"1\", \"2\", \"3\", \"4\", \"5\", \"6\", \"7\", \"8\", \"9\", \"10\", \"11\", \"12\", \"13\", \"14\", \"15\", \"16\", \"17\", \"18\", \"19\"], \"mode\": \"markers\", \"name\": \"normalized_median_absolute_error\", \"stepped\": false, \"type\": \"scatter\", \"data\": [0.042285214846336724, 0.05478382692236321, 0.0651253435552843, 0.0631536388076285, 0.04049060300266803, 0.07721272241400938, 0.06303934597389738, 0.04443298365264473, 0.06302658927285634, 0.07676347715854027, 0.05750337678762749, 0.0643736809196197, 0.04856452267207145, 0.060156182957380275, 0.09502708501189981, 0.06410281087218228, 0.07867326432446399, 0.07997639783812427, 0.04104152215278925, 0.040424255911171846]}, {\"categories\": [\"0\", \"1\", \"2\", \"3\", \"4\", \"5\", \"6\", \"7\", \"8\", \"9\", \"10\", \"11\", \"12\", \"13\", \"14\", \"15\", \"16\", \"17\", \"18\", \"19\"], \"mode\": \"lines\", \"name\": \"normalized_median_absolute_error_min\", \"stepped\": true, \"type\": \"scatter\", \"data\": [0.042285214846336724, 0.042285214846336724, 0.042285214846336724, 0.042285214846336724, 0.04049060300266803, 0.04049060300266803, 0.04049060300266803, 0.04049060300266803, 0.04049060300266803, 0.04049060300266803, 0.04049060300266803, 0.04049060300266803, 0.04049060300266803, 0.04049060300266803, 0.04049060300266803, 0.04049060300266803, 0.04049060300266803, 0.04049060300266803, 0.04049060300266803, 0.040424255911171846]}], \"normalized_mean_absolute_error\": [{\"categories\": [\"0\", \"1\", \"2\", \"3\", \"4\", \"5\", \"6\", \"7\", \"8\", \"9\", \"10\", \"11\", \"12\", \"13\", \"14\", \"15\", \"16\", \"17\", \"18\", \"19\"], \"mode\": \"markers\", \"name\": \"normalized_mean_absolute_error\", \"stepped\": false, \"type\": \"scatter\", \"data\": [0.06469756289312828, 0.07794178778352058, 0.0934989108877086, 0.08732428641121497, 0.06313578701961756, 0.10252316997271095, 0.09176068885893536, 0.06542832093283361, 0.09001125110387456, 0.10261718265944661, 0.08123158336347748, 0.08907909427297755, 0.07620654507376379, 0.08800594492777931, 0.12436092172934801, 0.0916708743121957, 0.1055798905688041, 0.10896352763072673, 0.06286445353284707, 0.06261396434603693]}, {\"categories\": [\"0\", \"1\", \"2\", \"3\", \"4\", \"5\", \"6\", \"7\", \"8\", \"9\", \"10\", \"11\", \"12\", \"13\", \"14\", \"15\", \"16\", \"17\", \"18\", \"19\"], \"mode\": \"lines\", \"name\": \"normalized_mean_absolute_error_min\", \"stepped\": true, \"type\": \"scatter\", \"data\": [0.06469756289312828, 0.06469756289312828, 0.06469756289312828, 0.06469756289312828, 0.06313578701961756, 0.06313578701961756, 0.06313578701961756, 0.06313578701961756, 0.06313578701961756, 0.06313578701961756, 0.06313578701961756, 0.06313578701961756, 0.06313578701961756, 0.06313578701961756, 0.06313578701961756, 0.06313578701961756, 0.06313578701961756, 0.06313578701961756, 0.06286445353284707, 0.06261396434603693]}], \"normalized_root_mean_squared_log_error\": [{\"categories\": [\"0\", \"1\", \"2\", \"3\", \"4\", \"5\", \"6\", \"7\", \"8\", \"9\", \"10\", \"11\", \"12\", \"13\", \"14\", \"15\", \"16\", \"17\", \"18\", \"19\"], \"mode\": \"markers\", \"name\": \"normalized_root_mean_squared_log_error\", \"stepped\": false, \"type\": \"scatter\", \"data\": [0.06494360217010152, 0.07535847030241491, 0.088693620481851, 0.08120735346023994, 0.06370725993992095, NaN, 0.08546806954511253, 0.06594702881391033, 0.08305640615746257, NaN, 0.07689749286321097, 0.08226710005833102, 0.07178284198415832, 0.0821610843780731, 0.10891171044745242, 0.08442860768766276, NaN, 0.0973947177345113, 0.06338381464132324, 0.06311607943499828]}, {\"categories\": [\"0\", \"1\", \"2\", \"3\", \"4\", \"5\", \"6\", \"7\", \"8\", \"9\", \"10\", \"11\", \"12\", \"13\", \"14\", \"15\", \"16\", \"17\", \"18\", \"19\"], \"mode\": \"lines\", \"name\": \"normalized_root_mean_squared_log_error_min\", \"stepped\": true, \"type\": \"scatter\", \"data\": [0.06494360217010152, 0.06494360217010152, 0.06494360217010152, 0.06494360217010152, 0.06370725993992095, 0.06370725993992095, 0.06370725993992095, 0.06370725993992095, 0.06370725993992095, 0.06370725993992095, 0.06370725993992095, 0.06370725993992095, 0.06370725993992095, 0.06370725993992095, 0.06370725993992095, 0.06370725993992095, 0.06370725993992095, 0.06370725993992095, 0.06338381464132324, 0.06311607943499828]}], \"root_mean_squared_error\": [{\"categories\": [\"0\", \"1\", \"2\", \"3\", \"4\", \"5\", \"6\", \"7\", \"8\", \"9\", \"10\", \"11\", \"12\", \"13\", \"14\", \"15\", \"16\", \"17\", \"18\", \"19\"], \"mode\": \"markers\", \"name\": \"root_mean_squared_error\", \"stepped\": false, \"type\": \"scatter\", \"data\": [47112.35453008507, 54660.54765601256, 63782.10387853296, 60278.79782248287, 46388.53776896169, 68215.58909710534, 64401.297017806246, 47388.57060324933, 62876.88859865861, 68484.40860477055, 56565.883326273186, 60818.08122218474, 56720.199219873255, 62284.944949545825, 80435.9666259385, 63892.00957799295, 70708.81730960512, 72877.68918418781, 46142.78083497149, 46132.68588960423]}, {\"categories\": [\"0\", \"1\", \"2\", \"3\", \"4\", \"5\", \"6\", \"7\", \"8\", \"9\", \"10\", \"11\", \"12\", \"13\", \"14\", \"15\", \"16\", \"17\", \"18\", \"19\"], \"mode\": \"lines\", \"name\": \"root_mean_squared_error_min\", \"stepped\": true, \"type\": \"scatter\", \"data\": [47112.35453008507, 47112.35453008507, 47112.35453008507, 47112.35453008507, 46388.53776896169, 46388.53776896169, 46388.53776896169, 46388.53776896169, 46388.53776896169, 46388.53776896169, 46388.53776896169, 46388.53776896169, 46388.53776896169, 46388.53776896169, 46388.53776896169, 46388.53776896169, 46388.53776896169, 46388.53776896169, 46142.78083497149, 46132.68588960423]}]}, \"metricName\": null, \"primaryMetricName\": \"r2_score\", \"showLegend\": false}, \"run_metrics\": [{\"name\": \"experiment_status\", \"run_id\": \"AutoML_2b27b78d-cfc2-4f6d-8b9b-8574b8bfd6a7\", \"categories\": [0, 1, 2, 3, 4, 5, 6, 7, 8, 9, 10, 11, 12], \"series\": [{\"data\": [\"DatasetEvaluation\", \"FeaturesGeneration\", \"DatasetFeaturization\", \"DatasetFeaturizationCompleted\", \"ModelSelection\", \"BestRunExplainModel\", \"ModelExplanationDataSetSetup\", \"PickSurrogateModel\", \"EngineeredFeatureExplanations\", \"EngineeredFeatureExplanations\", \"RawFeaturesExplanations\", \"RawFeaturesExplanations\", \"BestRunExplainModel\"]}]}, {\"name\": \"experiment_status_description\", \"run_id\": \"AutoML_2b27b78d-cfc2-4f6d-8b9b-8574b8bfd6a7\", \"categories\": [0, 1, 2, 3, 4, 5, 6, 7, 8, 9, 10, 11, 12], \"series\": [{\"data\": [\"Gathering dataset statistics.\", \"Generating features for the dataset.\", \"Beginning to fit featurizers and featurize the dataset.\", \"Completed fit featurizers and featurizing the dataset.\", \"Beginning model selection.\", \"Best run model explanations started\", \"Model explanations data setup completed\", \"Choosing LightGBM as the surrogate model for explanations\", \"Computation of engineered features started\", \"Computation of engineered features completed\", \"Computation of raw features started\", \"Computation of raw features completed\", \"Best run model explanations completed\"]}]}, {\"name\": \"normalized_median_absolute_error\", \"run_id\": \"AutoML_2b27b78d-cfc2-4f6d-8b9b-8574b8bfd6a7\", \"categories\": [0], \"series\": [{\"data\": [0.040424255911171846]}]}, {\"name\": \"mean_absolute_error\", \"run_id\": \"AutoML_2b27b78d-cfc2-4f6d-8b9b-8574b8bfd6a7\", \"categories\": [0], \"series\": [{\"data\": [30367.897935756602]}]}, {\"name\": \"root_mean_squared_log_error\", \"run_id\": \"AutoML_2b27b78d-cfc2-4f6d-8b9b-8574b8bfd6a7\", \"categories\": [0], \"series\": [{\"data\": [0.22132043925448125]}]}, {\"name\": \"median_absolute_error\", \"run_id\": \"AutoML_2b27b78d-cfc2-4f6d-8b9b-8574b8bfd6a7\", \"categories\": [0], \"series\": [{\"data\": [19605.844965430166]}]}, {\"name\": \"root_mean_squared_error\", \"run_id\": \"AutoML_2b27b78d-cfc2-4f6d-8b9b-8574b8bfd6a7\", \"categories\": [0], \"series\": [{\"data\": [46132.68588960423]}]}, {\"name\": \"mean_absolute_percentage_error\", \"run_id\": \"AutoML_2b27b78d-cfc2-4f6d-8b9b-8574b8bfd6a7\", \"categories\": [0], \"series\": [{\"data\": [16.563774128931886]}]}, {\"name\": \"normalized_root_mean_squared_error\", \"run_id\": \"AutoML_2b27b78d-cfc2-4f6d-8b9b-8574b8bfd6a7\", \"categories\": [0], \"series\": [{\"data\": [0.09511854773713146]}]}, {\"name\": \"normalized_mean_absolute_error\", \"run_id\": \"AutoML_2b27b78d-cfc2-4f6d-8b9b-8574b8bfd6a7\", \"categories\": [0], \"series\": [{\"data\": [0.06261396434603693]}]}, {\"name\": \"r2_score\", \"run_id\": \"AutoML_2b27b78d-cfc2-4f6d-8b9b-8574b8bfd6a7\", \"categories\": [0], \"series\": [{\"data\": [0.8456265202164054]}]}, {\"name\": \"normalized_root_mean_squared_log_error\", \"run_id\": \"AutoML_2b27b78d-cfc2-4f6d-8b9b-8574b8bfd6a7\", \"categories\": [0], \"series\": [{\"data\": [0.06311607943499828]}]}, {\"name\": \"spearman_correlation\", \"run_id\": \"AutoML_2b27b78d-cfc2-4f6d-8b9b-8574b8bfd6a7\", \"categories\": [0], \"series\": [{\"data\": [0.9276782962094277]}]}, {\"name\": \"explained_variance\", \"run_id\": \"AutoML_2b27b78d-cfc2-4f6d-8b9b-8574b8bfd6a7\", \"categories\": [0], \"series\": [{\"data\": [0.8456366105088856]}]}], \"run_logs\": \"\\nRun is completed.\", \"graph\": {}, \"widget_settings\": {\"childWidgetDisplay\": \"popup\", \"send_telemetry\": false, \"log_level\": \"INFO\", \"sdk_version\": \"1.20.0\"}, \"loading\": false}"
          },
          "metadata": {}
        },
        {
          "output_type": "execute_result",
          "execution_count": 6,
          "data": {
            "text/plain": "{'runId': 'AutoML_2b27b78d-cfc2-4f6d-8b9b-8574b8bfd6a7',\n 'target': 'compute-housing',\n 'status': 'Completed',\n 'startTimeUtc': '2021-02-07T03:59:48.615989Z',\n 'endTimeUtc': '2021-02-07T04:21:32.397144Z',\n 'properties': {'num_iterations': '20',\n  'training_type': 'TrainFull',\n  'acquisition_function': 'EI',\n  'primary_metric': 'r2_score',\n  'train_split': '0',\n  'acquisition_parameter': '0',\n  'num_cross_validation': None,\n  'target': 'compute-housing',\n  'AMLSettingsJsonString': '{\"path\":null,\"name\":\"AutoML-housing\",\"subscription_id\":\"d7f39349-a66b-446e-aba6-0053c2cf1c11\",\"resource_group\":\"aml-quickstarts-137724\",\"workspace_name\":\"quick-starts-ws-137724\",\"region\":\"southcentralus\",\"compute_target\":\"compute-housing\",\"spark_service\":null,\"azure_service\":\"remote\",\"many_models\":false,\"pipeline_fetch_max_batch_size\":1,\"iterations\":20,\"primary_metric\":\"r2_score\",\"task_type\":\"regression\",\"data_script\":null,\"validation_size\":0.0,\"n_cross_validations\":null,\"y_min\":null,\"y_max\":null,\"num_classes\":null,\"featurization\":\"auto\",\"_ignore_package_version_incompatibilities\":false,\"is_timeseries\":false,\"max_cores_per_iteration\":1,\"max_concurrent_iterations\":5,\"iteration_timeout_minutes\":null,\"mem_in_mb\":null,\"enforce_time_on_windows\":false,\"experiment_timeout_minutes\":20,\"experiment_exit_score\":null,\"whitelist_models\":null,\"blacklist_algos\":[\"TensorFlowDNN\",\"TensorFlowLinearRegressor\"],\"supported_models\":[\"FastLinearRegressor\",\"GradientBoosting\",\"TensorFlowDNN\",\"OnlineGradientDescentRegressor\",\"ExtremeRandomTrees\",\"KNN\",\"LassoLars\",\"XGBoostRegressor\",\"ElasticNet\",\"RandomForest\",\"LightGBM\",\"TensorFlowLinearRegressor\",\"SGD\",\"DecisionTree\"],\"auto_blacklist\":true,\"blacklist_samples_reached\":false,\"exclude_nan_labels\":true,\"verbosity\":20,\"_debug_log\":\"azureml_automl.log\",\"show_warnings\":false,\"model_explainability\":true,\"service_url\":null,\"sdk_url\":null,\"sdk_packages\":null,\"enable_onnx_compatible_models\":false,\"enable_split_onnx_featurizer_estimator_models\":false,\"vm_type\":\"STANDARD_D2_V2\",\"telemetry_verbosity\":20,\"send_telemetry\":true,\"enable_dnn\":false,\"scenario\":\"SDK-1.13.0\",\"environment_label\":null,\"force_text_dnn\":false,\"enable_feature_sweeping\":true,\"enable_early_stopping\":true,\"early_stopping_n_iters\":10,\"metrics\":null,\"enable_ensembling\":true,\"enable_stack_ensembling\":true,\"ensemble_iterations\":15,\"enable_tf\":false,\"enable_subsampling\":false,\"subsample_seed\":null,\"enable_nimbusml\":false,\"enable_streaming\":false,\"force_streaming\":false,\"track_child_runs\":true,\"allowed_private_models\":[],\"label_column_name\":\"median_house_value\",\"weight_column_name\":null,\"cv_split_column_names\":null,\"enable_local_managed\":false,\"_local_managed_run_id\":null,\"cost_mode\":1,\"lag_length\":0,\"metric_operation\":\"maximize\",\"preprocess\":true}',\n  'DataPrepJsonString': '{\\\\\"training_data\\\\\": \\\\\"{\\\\\\\\\\\\\"blocks\\\\\\\\\\\\\": [{\\\\\\\\\\\\\"id\\\\\\\\\\\\\": \\\\\\\\\\\\\"28a7bfcf-43c5-4346-9e8c-1f2dad47ceeb\\\\\\\\\\\\\", \\\\\\\\\\\\\"type\\\\\\\\\\\\\": \\\\\\\\\\\\\"Microsoft.DPrep.GetDatastoreFilesBlock\\\\\\\\\\\\\", \\\\\\\\\\\\\"arguments\\\\\\\\\\\\\": {\\\\\\\\\\\\\"datastores\\\\\\\\\\\\\": [{\\\\\\\\\\\\\"datastoreName\\\\\\\\\\\\\": \\\\\\\\\\\\\"workspaceblobstore\\\\\\\\\\\\\", \\\\\\\\\\\\\"path\\\\\\\\\\\\\": \\\\\\\\\\\\\"managed-dataset/13be8556-e873-4849-8ef8-30b87c0aa392/\\\\\\\\\\\\\", \\\\\\\\\\\\\"resourceGroup\\\\\\\\\\\\\": \\\\\\\\\\\\\"aml-quickstarts-137724\\\\\\\\\\\\\", \\\\\\\\\\\\\"subscription\\\\\\\\\\\\\": \\\\\\\\\\\\\"d7f39349-a66b-446e-aba6-0053c2cf1c11\\\\\\\\\\\\\", \\\\\\\\\\\\\"workspaceName\\\\\\\\\\\\\": \\\\\\\\\\\\\"quick-starts-ws-137724\\\\\\\\\\\\\"}]}, \\\\\\\\\\\\\"localData\\\\\\\\\\\\\": {}, \\\\\\\\\\\\\"isEnabled\\\\\\\\\\\\\": true, \\\\\\\\\\\\\"name\\\\\\\\\\\\\": null, \\\\\\\\\\\\\"annotation\\\\\\\\\\\\\": null}, {\\\\\\\\\\\\\"id\\\\\\\\\\\\\": \\\\\\\\\\\\\"7880f1bb-e850-48b4-8afc-449e7133b5e7\\\\\\\\\\\\\", \\\\\\\\\\\\\"type\\\\\\\\\\\\\": \\\\\\\\\\\\\"Microsoft.DPrep.ReadParquetFileBlock\\\\\\\\\\\\\", \\\\\\\\\\\\\"arguments\\\\\\\\\\\\\": {\\\\\\\\\\\\\"preview\\\\\\\\\\\\\": false}, \\\\\\\\\\\\\"localData\\\\\\\\\\\\\": {}, \\\\\\\\\\\\\"isEnabled\\\\\\\\\\\\\": true, \\\\\\\\\\\\\"name\\\\\\\\\\\\\": null, \\\\\\\\\\\\\"annotation\\\\\\\\\\\\\": null}, {\\\\\\\\\\\\\"id\\\\\\\\\\\\\": \\\\\\\\\\\\\"5a981f19-e53f-4aaa-87bc-b46f6da8cd0d\\\\\\\\\\\\\", \\\\\\\\\\\\\"type\\\\\\\\\\\\\": \\\\\\\\\\\\\"Microsoft.DPrep.DropColumnsBlock\\\\\\\\\\\\\", \\\\\\\\\\\\\"arguments\\\\\\\\\\\\\": {\\\\\\\\\\\\\"columns\\\\\\\\\\\\\": {\\\\\\\\\\\\\"type\\\\\\\\\\\\\": 0, \\\\\\\\\\\\\"details\\\\\\\\\\\\\": {\\\\\\\\\\\\\"selectedColumns\\\\\\\\\\\\\": [\\\\\\\\\\\\\"Path\\\\\\\\\\\\\"]}}}, \\\\\\\\\\\\\"localData\\\\\\\\\\\\\": {}, \\\\\\\\\\\\\"isEnabled\\\\\\\\\\\\\": true, \\\\\\\\\\\\\"name\\\\\\\\\\\\\": null, \\\\\\\\\\\\\"annotation\\\\\\\\\\\\\": null}], \\\\\\\\\\\\\"inspectors\\\\\\\\\\\\\": [], \\\\\\\\\\\\\"meta\\\\\\\\\\\\\": {\\\\\\\\\\\\\"savedDatasetId\\\\\\\\\\\\\": \\\\\\\\\\\\\"a000efca-2498-40c2-a86a-606ab8f56efc\\\\\\\\\\\\\", \\\\\\\\\\\\\"datasetType\\\\\\\\\\\\\": \\\\\\\\\\\\\"tabular\\\\\\\\\\\\\", \\\\\\\\\\\\\"subscriptionId\\\\\\\\\\\\\": \\\\\\\\\\\\\"d7f39349-a66b-446e-aba6-0053c2cf1c11\\\\\\\\\\\\\", \\\\\\\\\\\\\"workspaceId\\\\\\\\\\\\\": \\\\\\\\\\\\\"79864154-a591-4e15-a19e-bb84e870888b\\\\\\\\\\\\\", \\\\\\\\\\\\\"workspaceLocation\\\\\\\\\\\\\": \\\\\\\\\\\\\"southcentralus\\\\\\\\\\\\\"}}\\\\\", \\\\\"activities\\\\\": 0}',\n  'EnableSubsampling': 'False',\n  'runTemplate': 'AutoML',\n  'azureml.runsource': 'automl',\n  'display_task_type': 'regression',\n  'dependencies_versions': '{\"azureml-widgets\": \"1.20.0\", \"azureml-train\": \"1.20.0\", \"azureml-train-restclients-hyperdrive\": \"1.20.0\", \"azureml-train-core\": \"1.20.0\", \"azureml-train-automl\": \"1.20.0\", \"azureml-train-automl-runtime\": \"1.20.0\", \"azureml-train-automl-client\": \"1.20.0\", \"azureml-tensorboard\": \"1.20.0\", \"azureml-telemetry\": \"1.20.0\", \"azureml-sdk\": \"1.20.0\", \"azureml-samples\": \"0+unknown\", \"azureml-pipeline\": \"1.20.0\", \"azureml-pipeline-steps\": \"1.20.0\", \"azureml-pipeline-core\": \"1.20.0\", \"azureml-opendatasets\": \"1.20.0\", \"azureml-model-management-sdk\": \"1.0.1b6.post1\", \"azureml-mlflow\": \"1.20.0.post1\", \"azureml-interpret\": \"1.20.0\", \"azureml-explain-model\": \"1.20.0\", \"azureml-defaults\": \"1.20.0\", \"azureml-dataset-runtime\": \"1.20.0\", \"azureml-dataprep\": \"2.7.3\", \"azureml-dataprep-rslex\": \"1.5.0\", \"azureml-dataprep-native\": \"27.0.0\", \"azureml-datadrift\": \"1.20.0\", \"azureml-core\": \"1.20.0\", \"azureml-contrib-services\": \"1.20.0\", \"azureml-contrib-server\": \"1.20.0\", \"azureml-contrib-reinforcementlearning\": \"1.20.0\", \"azureml-contrib-pipeline-steps\": \"1.20.0\", \"azureml-contrib-notebook\": \"1.20.0\", \"azureml-contrib-interpret\": \"1.20.0\", \"azureml-contrib-gbdt\": \"1.20.0\", \"azureml-contrib-fairness\": \"1.20.0\", \"azureml-contrib-dataset\": \"1.20.0\", \"azureml-cli-common\": \"1.20.0\", \"azureml-automl-runtime\": \"1.20.0\", \"azureml-automl-core\": \"1.20.0\", \"azureml-accel-models\": \"1.20.0\"}',\n  '_aml_system_scenario_identification': 'Remote.Parent',\n  'ClientType': 'SDK',\n  'environment_cpu_name': 'AzureML-AutoML',\n  'environment_cpu_label': 'prod',\n  'environment_gpu_name': 'AzureML-AutoML-GPU',\n  'environment_gpu_label': 'prod',\n  'root_attribution': 'automl',\n  'attribution': 'AutoML',\n  'Orchestrator': 'AutoML',\n  'CancelUri': 'https://southcentralus.experiments.azureml.net/jasmine/v1.0/subscriptions/d7f39349-a66b-446e-aba6-0053c2cf1c11/resourceGroups/aml-quickstarts-137724/providers/Microsoft.MachineLearningServices/workspaces/quick-starts-ws-137724/experimentids/24fe5575-b613-4b93-a4a1-ba3b4b9c2988/cancel/AutoML_2b27b78d-cfc2-4f6d-8b9b-8574b8bfd6a7',\n  'ClientSdkVersion': '1.21.0',\n  'snapshotId': '00000000-0000-0000-0000-000000000000',\n  'SetupRunId': 'AutoML_2b27b78d-cfc2-4f6d-8b9b-8574b8bfd6a7_setup',\n  'SetupRunContainerId': 'dcid.AutoML_2b27b78d-cfc2-4f6d-8b9b-8574b8bfd6a7_setup',\n  'FeaturizationRunJsonPath': 'featurizer_container.json',\n  'FeaturizationRunId': 'AutoML_2b27b78d-cfc2-4f6d-8b9b-8574b8bfd6a7_featurize',\n  'ProblemInfoJsonString': '{\"dataset_num_categorical\": 0, \"is_sparse\": true, \"subsampling\": false, \"dataset_classes\": 3752, \"dataset_features\": 13, \"dataset_samples\": 18389, \"single_frequency_class_detected\": false}',\n  'ModelExplainRunId': 'AutoML_2b27b78d-cfc2-4f6d-8b9b-8574b8bfd6a7_ModelExplain'},\n 'inputDatasets': [{'dataset': {'id': 'a000efca-2498-40c2-a86a-606ab8f56efc'}, 'consumptionDetails': {'type': 'RunInput', 'inputName': 'training_data', 'mechanism': 'Direct'}}],\n 'outputDatasets': [],\n 'logFiles': {},\n 'submittedBy': 'ODL_User 137724'}"
          },
          "metadata": {}
        }
      ],
      "execution_count": 6,
      "metadata": {
        "collapsed": true,
        "jupyter": {
          "source_hidden": false,
          "outputs_hidden": false
        },
        "nteract": {
          "transient": {
            "deleting": false
          }
        },
        "gather": {
          "logged": 1612671696885
        }
      }
    },
    {
      "cell_type": "markdown",
      "source": [
        "## Best Model\n",
        "\n",
        "TODO: In the cell below, get the best model from the automl experiments and display all the properties of the model.\n",
        "\n"
      ],
      "metadata": {}
    },
    {
      "cell_type": "code",
      "source": [
        "#save the best model using joblib\r\n",
        "best_automl_run, best_automl_model = automl_run.get_output()\r\n",
        "os.makedirs('./outputs_automl', exist_ok = True)\r\n",
        "ml_path = r'./outputs_automl/model_best.joblib'\r\n",
        "joblib.dump(value = best_automl_model, filename = ml_path)"
      ],
      "outputs": [
        {
          "output_type": "stream",
          "name": "stderr",
          "text": [
            "WARNING:root:The version of the SDK does not match the version the model was trained on.\n",
            "WARNING:root:The consistency in the result may not be guaranteed.\n",
            "WARNING:root:Package:azureml-automl-core, training version:1.21.0, current version:1.20.0\n",
            "Package:azureml-automl-runtime, training version:1.21.0, current version:1.20.0\n",
            "Package:azureml-core, training version:1.21.0.post1, current version:1.20.0\n",
            "Package:azureml-dataprep, training version:2.8.2, current version:2.7.3\n",
            "Package:azureml-dataprep-native, training version:28.0.0, current version:27.0.0\n",
            "Package:azureml-dataprep-rslex, training version:1.6.0, current version:1.5.0\n",
            "Package:azureml-dataset-runtime, training version:1.21.0, current version:1.20.0\n",
            "Package:azureml-defaults, training version:1.21.0, current version:1.20.0\n",
            "Package:azureml-interpret, training version:1.21.0, current version:1.20.0\n",
            "Package:azureml-pipeline-core, training version:1.21.0, current version:1.20.0\n",
            "Package:azureml-telemetry, training version:1.21.0, current version:1.20.0\n",
            "Package:azureml-train-automl-client, training version:1.21.0, current version:1.20.0\n",
            "Package:azureml-train-automl-runtime, training version:1.21.0, current version:1.20.0\n",
            "WARNING:root:Please ensure the version of your local conda dependencies match the version on which your model was trained in order to properly retrieve your model.\n"
          ]
        },
        {
          "output_type": "execute_result",
          "execution_count": 7,
          "data": {
            "text/plain": "['./outputs_automl/model_best.joblib']"
          },
          "metadata": {}
        }
      ],
      "execution_count": 7,
      "metadata": {
        "collapsed": true,
        "jupyter": {
          "source_hidden": false,
          "outputs_hidden": false
        },
        "nteract": {
          "transient": {
            "deleting": false
          }
        },
        "gather": {
          "logged": 1612671724821
        }
      }
    },
    {
      "cell_type": "code",
      "source": [
        "best_automl_model"
      ],
      "outputs": [
        {
          "output_type": "execute_result",
          "execution_count": 8,
          "data": {
            "text/plain": "RegressionPipeline(pipeline=Pipeline(memory=None,\n                                     steps=[('datatransformer',\n                                             DataTransformer(enable_dnn=None,\n                                                             enable_feature_sweeping=None,\n                                                             feature_sweeping_config=None,\n                                                             feature_sweeping_timeout=None,\n                                                             featurization_config=None,\n                                                             force_text_dnn=None,\n                                                             is_cross_validation=None,\n                                                             is_onnx_compatible=None,\n                                                             logger=None,\n                                                             observer=None,\n                                                             task=None,\n                                                             working_dir=None)),\n                                            ('sta...\n                                                                                                                      tree_method='auto',\n                                                                                                                      verbose=-10,\n                                                                                                                      verbosity=0))],\n                                                                                             verbose=False))],\n                                                                    meta_learner=ElasticNetCV(alphas=None,\n                                                                                              copy_X=True,\n                                                                                              cv=None,\n                                                                                              eps=0.001,\n                                                                                              fit_intercept=True,\n                                                                                              l1_ratio=0.5,\n                                                                                              max_iter=1000,\n                                                                                              n_alphas=100,\n                                                                                              n_jobs=None,\n                                                                                              normalize=False,\n                                                                                              positive=False,\n                                                                                              precompute='auto',\n                                                                                              random_state=None,\n                                                                                              selection='cyclic',\n                                                                                              tol=0.0001,\n                                                                                              verbose=0),\n                                                                    training_cv_folds=5))],\n                                     verbose=False),\n                   stddev=None)"
          },
          "metadata": {}
        }
      ],
      "execution_count": 8,
      "metadata": {
        "collapsed": true,
        "jupyter": {
          "source_hidden": false,
          "outputs_hidden": false
        },
        "nteract": {
          "transient": {
            "deleting": false
          }
        },
        "gather": {
          "logged": 1612671724973
        }
      }
    },
    {
      "cell_type": "code",
      "source": [
        "#register the best model using model name\r\n",
        "model_name = best_automl_run.properties['model_name']\r\n",
        "automl_model = automl_run.register_model(model_name = model_name)"
      ],
      "outputs": [],
      "execution_count": 9,
      "metadata": {
        "collapsed": true,
        "jupyter": {
          "source_hidden": false,
          "outputs_hidden": false
        },
        "nteract": {
          "transient": {
            "deleting": false
          }
        },
        "gather": {
          "logged": 1612671725613
        }
      }
    },
    {
      "cell_type": "code",
      "source": [
        "best_automl_run.get_metrics()"
      ],
      "outputs": [
        {
          "output_type": "execute_result",
          "execution_count": 10,
          "data": {
            "text/plain": "{'explained_variance': 0.8456366105088856,\n 'spearman_correlation': 0.9276782962094277,\n 'root_mean_squared_log_error': 0.22132043925448125,\n 'r2_score': 0.8456265202164054,\n 'normalized_root_mean_squared_log_error': 0.06311607943499828,\n 'mean_absolute_error': 30367.897935756602,\n 'median_absolute_error': 19605.844965430166,\n 'root_mean_squared_error': 46132.68588960423,\n 'normalized_mean_absolute_error': 0.06261396434603693,\n 'normalized_median_absolute_error': 0.040424255911171846,\n 'mean_absolute_percentage_error': 16.563774128931886,\n 'normalized_root_mean_squared_error': 0.09511854773713146,\n 'residuals': 'aml://artifactId/ExperimentRun/dcid.AutoML_2b27b78d-cfc2-4f6d-8b9b-8574b8bfd6a7_19/residuals',\n 'predicted_true': 'aml://artifactId/ExperimentRun/dcid.AutoML_2b27b78d-cfc2-4f6d-8b9b-8574b8bfd6a7_19/predicted_true'}"
          },
          "metadata": {}
        }
      ],
      "execution_count": 10,
      "metadata": {
        "collapsed": true,
        "jupyter": {
          "source_hidden": false,
          "outputs_hidden": false
        },
        "nteract": {
          "transient": {
            "deleting": false
          }
        },
        "gather": {
          "logged": 1612671728004
        }
      }
    },
    {
      "cell_type": "code",
      "source": [
        "#display the properties of the best model\r\n",
        "best_automl_run.get_properties()"
      ],
      "outputs": [
        {
          "output_type": "execute_result",
          "execution_count": 20,
          "data": {
            "text/plain": "{'runTemplate': 'automl_child',\n 'pipeline_id': '__AutoML_Stack_Ensemble__',\n 'pipeline_spec': '{\"pipeline_id\":\"__AutoML_Stack_Ensemble__\",\"objects\":[{\"module\":\"azureml.train.automl.stack_ensemble\",\"class_name\":\"StackEnsemble\",\"spec_class\":\"sklearn\",\"param_args\":[],\"param_kwargs\":{\"automl_settings\":\"{\\'task_type\\':\\'regression\\',\\'primary_metric\\':\\'r2_score\\',\\'verbosity\\':20,\\'ensemble_iterations\\':15,\\'is_timeseries\\':False,\\'name\\':\\'AutoML-housing\\',\\'compute_target\\':\\'compute-housing\\',\\'subscription_id\\':\\'d7f39349-a66b-446e-aba6-0053c2cf1c11\\',\\'region\\':\\'southcentralus\\',\\'spark_service\\':None}\",\"ensemble_run_id\":\"AutoML_2b27b78d-cfc2-4f6d-8b9b-8574b8bfd6a7_19\",\"experiment_name\":\"AutoML-housing\",\"workspace_name\":\"quick-starts-ws-137724\",\"subscription_id\":\"d7f39349-a66b-446e-aba6-0053c2cf1c11\",\"resource_group_name\":\"aml-quickstarts-137724\"}}]}',\n 'training_percent': '100',\n 'predicted_cost': None,\n 'iteration': '19',\n '_aml_system_scenario_identification': 'Remote.Child',\n '_azureml.ComputeTargetType': 'amlcompute',\n 'ContentSnapshotId': '31540a7a-26a2-4845-a341-19936f1e9888',\n 'ProcessInfoFile': 'azureml-logs/process_info.json',\n 'ProcessStatusFile': 'azureml-logs/process_status.json',\n 'run_template': 'automl_child',\n 'run_preprocessor': '',\n 'run_algorithm': 'StackEnsemble',\n 'conda_env_data_location': 'aml://artifact/ExperimentRun/dcid.AutoML_2b27b78d-cfc2-4f6d-8b9b-8574b8bfd6a7_19/outputs/conda_env_v_1_0_0.yml',\n 'model_data_location': 'aml://artifact/ExperimentRun/dcid.AutoML_2b27b78d-cfc2-4f6d-8b9b-8574b8bfd6a7_19/outputs/model.pkl',\n 'model_size_on_disk': '1528665',\n 'scoring_data_location': 'aml://artifact/ExperimentRun/dcid.AutoML_2b27b78d-cfc2-4f6d-8b9b-8574b8bfd6a7_19/outputs/scoring_file_v_1_0_0.py',\n 'model_exp_support': 'True',\n 'pipeline_graph_version': '1.0.0',\n 'model_name': 'AutoML2b27b78dc19',\n 'staticProperties': '{}',\n 'score': '0.8456265202164054',\n 'run_properties': \"base_learners=[('4',\\n                                       Pipeline(memory=None,\\n                                                steps=[('standardscalerwrapper',\\n                                                        <azureml.automl.runtime.shared.model_wrappers.StandardScalerWrapper object at 0x7f95f04d0630>\",\n 'pipeline_script': '{\"pipeline_id\":\"__AutoML_Stack_Ensemble__\",\"objects\":[{\"module\":\"azureml.train.automl.stack_ensemble\",\"class_name\":\"StackEnsemble\",\"spec_class\":\"sklearn\",\"param_args\":[],\"param_kwargs\":{\"automl_settings\":\"{\\'task_type\\':\\'regression\\',\\'primary_metric\\':\\'r2_score\\',\\'verbosity\\':20,\\'ensemble_iterations\\':15,\\'is_timeseries\\':False,\\'name\\':\\'AutoML-housing\\',\\'compute_target\\':\\'compute-housing\\',\\'subscription_id\\':\\'d7f39349-a66b-446e-aba6-0053c2cf1c11\\',\\'region\\':\\'southcentralus\\',\\'spark_service\\':None}\",\"ensemble_run_id\":\"AutoML_2b27b78d-cfc2-4f6d-8b9b-8574b8bfd6a7_19\",\"experiment_name\":\"AutoML-housing\",\"workspace_name\":\"quick-starts-ws-137724\",\"subscription_id\":\"d7f39349-a66b-446e-aba6-0053c2cf1c11\",\"resource_group_name\":\"aml-quickstarts-137724\"}}]}',\n 'training_type': 'train_valid',\n 'num_classes': '',\n 'framework': 'sklearn',\n 'fit_time': '12',\n 'goal': 'r2_score_max',\n 'class_labels': '',\n 'primary_metric': 'r2_score',\n 'errors': '{}',\n 'onnx_model_resource': '{}',\n 'error_code': '',\n 'failure_reason': '',\n 'feature_skus': 'automatedml_sdk_guardrails',\n 'dependencies_versions': '{\"azureml-train-automl-runtime\": \"1.21.0\", \"azureml-train-automl-client\": \"1.21.0\", \"azureml-telemetry\": \"1.21.0\", \"azureml-pipeline-core\": \"1.21.0\", \"azureml-model-management-sdk\": \"1.0.1b6.post1\", \"azureml-interpret\": \"1.21.0\", \"azureml-defaults\": \"1.21.0\", \"azureml-dataset-runtime\": \"1.21.0\", \"azureml-dataprep\": \"2.8.2\", \"azureml-dataprep-rslex\": \"1.6.0\", \"azureml-dataprep-native\": \"28.0.0\", \"azureml-core\": \"1.21.0.post1\", \"azureml-automl-runtime\": \"1.21.0\", \"azureml-automl-core\": \"1.21.0\"}',\n 'num_cores': '2',\n 'num_logical_cores': '2',\n 'peak_memory_usage': '608472',\n 'vm_configuration': 'Intel(R) Xeon(R) Platinum 8171M CPU @ 2.60GHz',\n 'core_hours': '0.0032801119444444446'}"
          },
          "metadata": {}
        }
      ],
      "execution_count": 20,
      "metadata": {
        "collapsed": true,
        "jupyter": {
          "source_hidden": false,
          "outputs_hidden": false
        },
        "nteract": {
          "transient": {
            "deleting": false
          }
        },
        "gather": {
          "logged": 1612674252283
        }
      }
    },
    {
      "cell_type": "markdown",
      "source": [
        "## Model Deployment\n",
        "\n",
        "Remember you have to deploy only one of the two models you trained.. Perform the steps in the rest of this notebook only if you wish to deploy this model.\n",
        "\n",
        "TODO: In the cell below, register the model, create an inference config and deploy the model as a web service."
      ],
      "metadata": {}
    },
    {
      "cell_type": "code",
      "source": [
        "#check the files associated with best run\r\n",
        "best_automl_run.get_file_names()"
      ],
      "outputs": [
        {
          "output_type": "execute_result",
          "execution_count": 11,
          "data": {
            "text/plain": "['automl_driver.py',\n 'azureml-logs/55_azureml-execution-tvmps_22113568c726b683c8fb7763203f4788263cd985e17bc112724d1343b42777dc_p.txt',\n 'azureml-logs/65_job_prep-tvmps_22113568c726b683c8fb7763203f4788263cd985e17bc112724d1343b42777dc_p.txt',\n 'azureml-logs/70_driver_log.txt',\n 'azureml-logs/75_job_post-tvmps_22113568c726b683c8fb7763203f4788263cd985e17bc112724d1343b42777dc_p.txt',\n 'azureml-logs/process_info.json',\n 'azureml-logs/process_status.json',\n 'logs/azureml/103_azureml.log',\n 'logs/azureml/azureml_automl.log',\n 'logs/azureml/job_prep_azureml.log',\n 'logs/azureml/job_release_azureml.log',\n 'outputs/conda_env_v_1_0_0.yml',\n 'outputs/env_dependencies.json',\n 'outputs/model.pkl',\n 'outputs/pipeline_graph.json',\n 'outputs/scoring_file_v_1_0_0.py',\n 'predicted_true',\n 'residuals']"
          },
          "metadata": {}
        }
      ],
      "execution_count": 11,
      "metadata": {
        "collapsed": true,
        "jupyter": {
          "source_hidden": false,
          "outputs_hidden": false
        },
        "nteract": {
          "transient": {
            "deleting": false
          }
        },
        "gather": {
          "logged": 1612671728080
        }
      }
    },
    {
      "cell_type": "code",
      "source": [
        "#download environment and scoring script associated with the best run\r\n",
        "best_automl_run.download_file('outputs/conda_env_v_1_0_0.yml')\r\n",
        "best_automl_run.download_file('outputs/scoring_file_v_1_0_0.py')"
      ],
      "outputs": [],
      "execution_count": 12,
      "metadata": {
        "collapsed": true,
        "jupyter": {
          "source_hidden": false,
          "outputs_hidden": false
        },
        "nteract": {
          "transient": {
            "deleting": false
          }
        },
        "gather": {
          "logged": 1612671728365
        }
      }
    },
    {
      "cell_type": "code",
      "source": [
        "#create an inference configuration\r\n",
        "from azureml.core.environment import Environment\r\n",
        "from azureml.core.model import InferenceConfig\r\n",
        "\r\n",
        "env = Environment.from_conda_specification(\"myenv\", 'conda_env_v_1_0_0.yml')\r\n",
        "#env = Environment.get(workspace = ws, name = \"AzureML-AutoML\")\r\n",
        "\r\n",
        "#for pip_package in [\"pandas\",\"scikit-learn\",\"joblib\"]:\r\n",
        "#    env.python.conda_dependencies.add_pip_package(pip_package)\r\n",
        "\r\n",
        "inference_config = InferenceConfig(entry_script='scoring_file_v_1_0_0.py',\r\n",
        "                                    environment=env)"
      ],
      "outputs": [],
      "execution_count": 13,
      "metadata": {
        "collapsed": true,
        "jupyter": {
          "source_hidden": false,
          "outputs_hidden": false
        },
        "nteract": {
          "transient": {
            "deleting": false
          }
        },
        "gather": {
          "logged": 1612671728421
        }
      }
    },
    {
      "cell_type": "code",
      "source": [
        "from azureml.core.webservice import AciWebservice, AksWebservice, LocalWebservice\r\n",
        "from azureml.core.model import InferenceConfig, Model\r\n",
        "\r\n",
        "#deployment_config = LocalWebservice.deploy_configuration(port = 9000)\r\n",
        "deployment_config = AciWebservice.deploy_configuration(cpu_cores = 1, memory_gb = 1, enable_app_insights = True)\r\n",
        "first_model = Model(ws, name = model_name)\r\n",
        "service = Model.deploy(ws, \"automl-service\", [first_model], inference_config, deployment_config, overwrite = True)\r\n",
        "service.wait_for_deployment(show_output = True)\r\n",
        "print(service.state)\r\n",
        "print(service.get_logs())"
      ],
      "outputs": [
        {
          "output_type": "stream",
          "name": "stdout",
          "text": [
            "Tips: You can try get_logs(): https://aka.ms/debugimage#dockerlog or local deployment: https://aka.ms/debugimage#debug-locally to debug if deployment takes longer than 10 minutes.\n",
            "Running........................................\n",
            "Succeeded\n",
            "ACI service creation operation finished, operation \"Succeeded\"\n",
            "Healthy\n",
            "2021-02-07T04:51:01,414135400+00:00 - gunicorn/run \n",
            "2021-02-07T04:51:01,425539000+00:00 - iot-server/run \n",
            "2021-02-07T04:51:01,450414800+00:00 - rsyslog/run \n",
            "2021-02-07T04:51:01,491695600+00:00 - nginx/run \n",
            "/usr/sbin/nginx: /azureml-envs/azureml_7785023fceb74e4facc1b1a577b1faf9/lib/libcrypto.so.1.0.0: no version information available (required by /usr/sbin/nginx)\n",
            "/usr/sbin/nginx: /azureml-envs/azureml_7785023fceb74e4facc1b1a577b1faf9/lib/libcrypto.so.1.0.0: no version information available (required by /usr/sbin/nginx)\n",
            "/usr/sbin/nginx: /azureml-envs/azureml_7785023fceb74e4facc1b1a577b1faf9/lib/libssl.so.1.0.0: no version information available (required by /usr/sbin/nginx)\n",
            "/usr/sbin/nginx: /azureml-envs/azureml_7785023fceb74e4facc1b1a577b1faf9/lib/libssl.so.1.0.0: no version information available (required by /usr/sbin/nginx)\n",
            "/usr/sbin/nginx: /azureml-envs/azureml_7785023fceb74e4facc1b1a577b1faf9/lib/libssl.so.1.0.0: no version information available (required by /usr/sbin/nginx)\n",
            "rsyslogd: /azureml-envs/azureml_7785023fceb74e4facc1b1a577b1faf9/lib/libuuid.so.1: no version information available (required by rsyslogd)\n",
            "EdgeHubConnectionString and IOTEDGE_IOTHUBHOSTNAME are not set. Exiting...\n",
            "2021-02-07T04:51:03,099174400+00:00 - iot-server/finish 1 0\n",
            "2021-02-07T04:51:03,121810400+00:00 - Exit code 1 is normal. Not restarting iot-server.\n",
            "Starting gunicorn 19.9.0\n",
            "Listening at: http://127.0.0.1:31311 (55)\n",
            "Using worker: sync\n",
            "worker timeout is set to 300\n",
            "Booting worker with pid: 95\n",
            "SPARK_HOME not set. Skipping PySpark Initialization.\n",
            "Generating new fontManager, this may take some time...\n",
            "Initializing logger\n",
            "2021-02-07 04:51:08,907 | root | INFO | Starting up app insights client\n",
            "2021-02-07 04:51:08,908 | root | INFO | Starting up request id generator\n",
            "2021-02-07 04:51:08,908 | root | INFO | Starting up app insight hooks\n",
            "2021-02-07 04:51:08,909 | root | INFO | Invoking user's init function\n",
            "2021-02-07 04:51:19,975 | root | INFO | Users's init has completed successfully\n",
            "2021-02-07 04:51:19,986 | root | INFO | Skipping middleware: dbg_model_info as it's not enabled.\n",
            "2021-02-07 04:51:19,986 | root | INFO | Skipping middleware: dbg_resource_usage as it's not enabled.\n",
            "2021-02-07 04:51:19,988 | root | INFO | Scoring timeout is found from os.environ: 60000 ms\n",
            "2021-02-07 04:51:20,035 | root | INFO | 200\n",
            "127.0.0.1 - - [07/Feb/2021:04:51:20 +0000] \"GET /swagger.json HTTP/1.0\" 200 2649 \"-\" \"Go-http-client/1.1\"\n",
            "2021-02-07 04:51:25,169 | root | INFO | 200\n",
            "127.0.0.1 - - [07/Feb/2021:04:51:25 +0000] \"GET /swagger.json HTTP/1.0\" 200 2649 \"-\" \"Go-http-client/1.1\"\n",
            "\n"
          ]
        }
      ],
      "execution_count": 19,
      "metadata": {
        "collapsed": true,
        "jupyter": {
          "source_hidden": false,
          "outputs_hidden": false
        },
        "nteract": {
          "transient": {
            "deleting": false
          }
        },
        "gather": {
          "logged": 1612673485862
        }
      }
    },
    {
      "cell_type": "markdown",
      "source": [
        "TODO: In the cell below, send a request to the web service you deployed to test it."
      ],
      "metadata": {
        "collapsed": true,
        "gather": {
          "logged": 1598431657736
        },
        "jupyter": {
          "outputs_hidden": false,
          "source_hidden": false
        },
        "nteract": {
          "transient": {
            "deleting": false
          }
        }
      }
    },
    {
      "cell_type": "code",
      "source": [
        "from azureml.core.authentication import InteractiveLoginAuthentication\r\n",
        "\r\n",
        "interactive_auth = InteractiveLoginAuthentication()\r\n",
        "auth_header = interactive_auth.get_authentication_header()"
      ],
      "outputs": [],
      "execution_count": 15,
      "metadata": {
        "gather": {
          "logged": 1612672590266
        },
        "jupyter": {
          "outputs_hidden": false,
          "source_hidden": false
        },
        "nteract": {
          "transient": {
            "deleting": false
          }
        }
      }
    },
    {
      "cell_type": "code",
      "source": [
        "import urllib.request\r\n",
        "import json\r\n",
        "import os\r\n",
        "import ssl\r\n",
        "\r\n",
        "def allowSelfSignedHttps(allowed):\r\n",
        "    # bypass the server certificate verification on client side\r\n",
        "    if allowed and not os.environ.get('PYTHONHTTPSVERIFY', '') and getattr(ssl, '_create_unverified_context', None):\r\n",
        "        ssl._create_default_https_context = ssl._create_unverified_context\r\n",
        "\r\n",
        "allowSelfSignedHttps(True) # this line is needed if you use self-signed certificate in your scoring service.\r\n",
        "\r\n",
        "data = {\r\n",
        "    \"data\":\r\n",
        "    [\r\n",
        "        {\r\n",
        "            'longitude': \"-122.23\",\r\n",
        "            'latitude': \"37.88\",\r\n",
        "            'housing_median_age': \"41\",\r\n",
        "            'total_rooms': \"880\",\r\n",
        "            'total_bedrooms': \"129\",\r\n",
        "            'population': \"322\",\r\n",
        "            'households': \"126\",\r\n",
        "            'median_income': \"8.3252\",\r\n",
        "            'ocean_proximity': \"NEAR BAY\",\r\n",
        "        },\r\n",
        "    ],\r\n",
        "}\r\n",
        "\r\n",
        "body = str.encode(json.dumps(data))\r\n",
        "\r\n",
        "url = service.scoring_uri\r\n",
        "api_key = '' \r\n",
        "headers = {'Content-Type':'application/json', 'Authorization':('Bearer '+ api_key)}\r\n",
        "\r\n",
        "req = urllib.request.Request(url, body, headers)\r\n",
        "\r\n",
        "try:\r\n",
        "    response = urllib.request.urlopen(req)\r\n",
        "\r\n",
        "    result = response.read()\r\n",
        "    print(result)\r\n",
        "except urllib.error.HTTPError as error:\r\n",
        "    print(\"The request failed with status code: \" + str(error.code))\r\n",
        "\r\n",
        "    # Print the headers - they include the requert ID and the timestamp, which are useful for debugging the failure\r\n",
        "    print(error.info())\r\n",
        "    print(json.loads(error.read().decode(\"utf8\", 'ignore')))"
      ],
      "outputs": [
        {
          "output_type": "stream",
          "name": "stdout",
          "text": [
            "b'\"{\\\\\"result\\\\\": [461201.17410603084]}\"'\n"
          ]
        }
      ],
      "execution_count": 16,
      "metadata": {
        "collapsed": true,
        "jupyter": {
          "source_hidden": false,
          "outputs_hidden": false
        },
        "nteract": {
          "transient": {
            "deleting": false
          }
        },
        "gather": {
          "logged": 1612672590556
        }
      }
    },
    {
      "cell_type": "markdown",
      "source": [
        "TODO: In the cell below, print the logs of the web service and delete the service"
      ],
      "metadata": {
        "collapsed": true,
        "gather": {
          "logged": 1598432765711
        },
        "jupyter": {
          "outputs_hidden": false,
          "source_hidden": false
        },
        "nteract": {
          "transient": {
            "deleting": false
          }
        }
      }
    },
    {
      "cell_type": "code",
      "source": [
        "service.get_logs()\r\n"
      ],
      "outputs": [
        {
          "output_type": "execute_result",
          "execution_count": 17,
          "data": {
            "text/plain": "'2021-02-07T04:36:11,320189500+00:00 - iot-server/run \\n2021-02-07T04:36:11,338040300+00:00 - rsyslog/run \\n2021-02-07T04:36:11,356115100+00:00 - gunicorn/run \\n2021-02-07T04:36:11,372335900+00:00 - nginx/run \\n/usr/sbin/nginx: /azureml-envs/azureml_7785023fceb74e4facc1b1a577b1faf9/lib/libcrypto.so.1.0.0: no version information available (required by /usr/sbin/nginx)\\nrsyslogd: /azureml-envs/azureml_7785023fceb74e4facc1b1a577b1faf9/lib/libuuid.so.1: no version information available (required by rsyslogd)\\n/usr/sbin/nginx: /azureml-envs/azureml_7785023fceb74e4facc1b1a577b1faf9/lib/libcrypto.so.1.0.0: no version information available (required by /usr/sbin/nginx)\\n/usr/sbin/nginx: /azureml-envs/azureml_7785023fceb74e4facc1b1a577b1faf9/lib/libssl.so.1.0.0: no version information available (required by /usr/sbin/nginx)\\n/usr/sbin/nginx: /azureml-envs/azureml_7785023fceb74e4facc1b1a577b1faf9/lib/libssl.so.1.0.0: no version information available (required by /usr/sbin/nginx)\\n/usr/sbin/nginx: /azureml-envs/azureml_7785023fceb74e4facc1b1a577b1faf9/lib/libssl.so.1.0.0: no version information available (required by /usr/sbin/nginx)\\nEdgeHubConnectionString and IOTEDGE_IOTHUBHOSTNAME are not set. Exiting...\\n2021-02-07T04:36:12,935668300+00:00 - iot-server/finish 1 0\\n2021-02-07T04:36:12,945382500+00:00 - Exit code 1 is normal. Not restarting iot-server.\\nStarting gunicorn 19.9.0\\nListening at: http://127.0.0.1:31311 (68)\\nUsing worker: sync\\nworker timeout is set to 300\\nBooting worker with pid: 97\\nSPARK_HOME not set. Skipping PySpark Initialization.\\nGenerating new fontManager, this may take some time...\\nInitializing logger\\n2021-02-07 04:36:17,692 | root | INFO | Starting up app insights client\\n2021-02-07 04:36:17,693 | root | INFO | Starting up request id generator\\n2021-02-07 04:36:17,693 | root | INFO | Starting up app insight hooks\\n2021-02-07 04:36:17,693 | root | INFO | Invoking user\\'s init function\\n2021-02-07 04:36:26,793 | root | INFO | Users\\'s init has completed successfully\\n2021-02-07 04:36:26,802 | root | INFO | Skipping middleware: dbg_model_info as it\\'s not enabled.\\n2021-02-07 04:36:26,803 | root | INFO | Skipping middleware: dbg_resource_usage as it\\'s not enabled.\\n2021-02-07 04:36:26,805 | root | INFO | Scoring timeout is found from os.environ: 60000 ms\\n2021-02-07 04:36:27,210 | root | INFO | 200\\n127.0.0.1 - - [07/Feb/2021:04:36:27 +0000] \"GET /swagger.json HTTP/1.0\" 200 2649 \"-\" \"Go-http-client/1.1\"\\n2021-02-07 04:36:29,371 | root | INFO | 200\\n127.0.0.1 - - [07/Feb/2021:04:36:29 +0000] \"GET /swagger.json HTTP/1.0\" 200 2649 \"-\" \"Go-http-client/1.1\"\\n2021-02-07 04:36:29,938 | root | INFO | Validation Request Content-Type\\n2021-02-07 04:36:29,938 | root | INFO | Scoring Timer is set to 60.0 seconds\\n2021-02-07 04:36:30,052 | root | INFO | 200\\n127.0.0.1 - - [07/Feb/2021:04:36:30 +0000] \"POST /score HTTP/1.0\" 200 36 \"-\" \"Python-urllib/3.6\"\\n'"
          },
          "metadata": {}
        }
      ],
      "execution_count": 17,
      "metadata": {
        "collapsed": true,
        "jupyter": {
          "source_hidden": false,
          "outputs_hidden": false
        },
        "nteract": {
          "transient": {
            "deleting": false
          }
        },
        "gather": {
          "logged": 1612672590962
        }
      }
    },
    {
      "cell_type": "code",
      "source": [
        "service.delete()"
      ],
      "outputs": [],
      "execution_count": 18,
      "metadata": {
        "collapsed": true,
        "jupyter": {
          "source_hidden": false,
          "outputs_hidden": false
        },
        "nteract": {
          "transient": {
            "deleting": false
          }
        },
        "gather": {
          "logged": 1612672591470
        }
      }
    }
  ],
  "metadata": {
    "kernel_info": {
      "name": "python3"
    },
    "kernelspec": {
      "name": "python3",
      "language": "python",
      "display_name": "Python 3"
    },
    "language_info": {
      "name": "python",
      "version": "3.6.9",
      "mimetype": "text/x-python",
      "codemirror_mode": {
        "name": "ipython",
        "version": 3
      },
      "pygments_lexer": "ipython3",
      "nbconvert_exporter": "python",
      "file_extension": ".py"
    },
    "nteract": {
      "version": "nteract-front-end@1.0.0"
    }
  },
  "nbformat": 4,
  "nbformat_minor": 2
}