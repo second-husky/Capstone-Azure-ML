{
  "cells": [
    {
      "cell_type": "markdown",
      "source": [
        "# Automated ML\n",
        "\n",
        "TODO: Import Dependencies. In the cell below, import all the dependencies that you will need to complete the project."
      ],
      "metadata": {}
    },
    {
      "cell_type": "code",
      "source": [
        "import logging\n",
        "import os\n",
        "import csv\n",
        "\n",
        "from matplotlib import pyplot as plt\n",
        "import numpy as np\n",
        "import pandas as pd\n",
        "from sklearn import datasets\n",
        "import pkg_resources\n",
        "import joblib\n",
        "\n",
        "from azureml.widgets import RunDetails\n",
        "import azureml.core\n",
        "from azureml.core.experiment import Experiment\n",
        "from azureml.core.workspace import Workspace\n",
        "from azureml.train.automl import AutoMLConfig\n",
        "from azureml.core.dataset import Dataset\n",
        "from azureml.pipeline.steps import AutoMLStep\n",
        "from azureml.core.compute import AmlCompute\n",
        "from azureml.core.compute import ComputeTarget\n",
        "from azureml.core.compute_target import ComputeTargetException\n",
        "from azureml.data.dataset_factory import TabularDatasetFactory\n",
        "from azureml.core.datastore import Datastore\n",
        "\n",
        "\n",
        "# Check core SDK version number\n",
        "print(\"SDK version:\", azureml.core.VERSION)"
      ],
      "outputs": [
        {
          "output_type": "stream",
          "name": "stdout",
          "text": [
            "SDK version: 1.20.0\n"
          ]
        }
      ],
      "execution_count": 1,
      "metadata": {
        "gather": {
          "logged": 1612723003485
        },
        "jupyter": {
          "outputs_hidden": false,
          "source_hidden": false
        },
        "nteract": {
          "transient": {
            "deleting": false
          }
        }
      }
    },
    {
      "cell_type": "code",
      "source": [
        "#assign work space\n",
        "ws = Workspace.from_config()\n",
        "print(ws.name, ws.resource_group, ws.location, ws.subscription_id, sep = '\\n')\n",
        "\n",
        "# choose a name for experiment\n",
        "experiment_name = 'California-housing-price-projection'\n",
        "experiment=Experiment(ws, experiment_name)"
      ],
      "outputs": [
        {
          "output_type": "stream",
          "name": "stdout",
          "text": [
            "Performing interactive authentication. Please follow the instructions on the terminal.\n",
            "To sign in, use a web browser to open the page https://microsoft.com/devicelogin and enter the code FWPMXBRG4 to authenticate.\n",
            "You have logged in. Now let us find all the subscriptions to which you have access...\n",
            "Interactive authentication successfully completed.\n",
            "quick-starts-ws-137963\n",
            "aml-quickstarts-137963\n",
            "southcentralus\n",
            "9a7511b8-150f-4a58-8528-3e7d50216c31\n"
          ]
        }
      ],
      "execution_count": 2,
      "metadata": {
        "gather": {
          "logged": 1612723043232
        },
        "jupyter": {
          "outputs_hidden": false,
          "source_hidden": false
        },
        "nteract": {
          "transient": {
            "deleting": false
          }
        }
      }
    },
    {
      "cell_type": "code",
      "source": [
        "#create a compute target\n",
        "amlcompute_cluster_name = \"compute-housing\"\n",
        "\n",
        "# Verify that cluster does not exist already, if not create a new one with amlcompute_cluster_name\n",
        "try:\n",
        "    compute_target = ComputeTarget(workspace=ws, name=amlcompute_cluster_name)\n",
        "    print('Found existing cluster, use it.')\n",
        "except ComputeTargetException:\n",
        "    compute_config = AmlCompute.provisioning_configuration(vm_size='STANDARD_D2_V2',\n",
        "                                                           vm_priority = 'lowpriority', \n",
        "                                                           max_nodes=4)\n",
        "    compute_target = ComputeTarget.create(ws, amlcompute_cluster_name, compute_config)\n",
        "\n",
        "compute_target.wait_for_completion(show_output=True, min_node_count = 0, timeout_in_minutes = 10)"
      ],
      "outputs": [
        {
          "output_type": "stream",
          "name": "stdout",
          "text": [
            "Creating\n",
            "Succeeded\n",
            "AmlCompute wait for completion finished\n",
            "\n",
            "Minimum number of nodes requested have been provisioned\n"
          ]
        }
      ],
      "execution_count": 3,
      "metadata": {
        "gather": {
          "logged": 1612723063358
        }
      }
    },
    {
      "cell_type": "markdown",
      "source": [
        "## Dataset\n",
        "\n",
        "### Overview\n",
        "TODO: In this markdown cell, give an overview of the dataset you are using. Also mention the task you will be performing.\n",
        "\n",
        "This dataset contains California Housing Price data downloaded from https://raw.githubusercontent.com/ageron/handson-ml/master/ and was used as an example in Hands-On Machine Learning with Scikit-Learn & TensorFlow by Aurelien Geron. \n",
        "\n",
        "This dataset is an adapted version from the original data from the StatLib repository collected from the 1990 California census. \n",
        "\n",
        "TODO: Get data. In the cell below, write code to access the data you will be using in this project. Remember that the dataset needs to be external."
      ],
      "metadata": {}
    },
    {
      "cell_type": "code",
      "source": [
        "#check if the dataset exists and register the dataset if not\n",
        "import train\n",
        "found = False\n",
        "key = \"California_housing_price-1\"\n",
        "description_text = \"California housing price from 1990 census\"\n",
        "\n",
        "if key in ws.datasets.keys():\n",
        "    found = True\n",
        "    dataset = ws.datasets[key]\n",
        "    print(\"found dataset\") \n",
        "\n",
        "if not found:       \n",
        "        #If the dataset doesn't exist, then download data and register the Dataset in Workspace\n",
        "#        DOWNLOAD_ROOT = \"https://raw.githubusercontent.com/ageron/handson-ml/master/\"\n",
        "#        HOUSING_PATH = \"datasets/housing\"\n",
        "#        HOUSING_URL = DOWNLOAD_ROOT + HOUSING_PATH + \"/housing.tgz\"\n",
        "#        df = train.fetch_housing_data(HOUSING_URL, HOUSING_PATH)\n",
        "    path = r\"https://github.com/second-husky/Capstone-Azure-ML/raw/master/starter_file/housing.csv\"\n",
        "    datastore = Datastore(ws, name = None)\n",
        "    df = pd.read_csv(path).dropna()\n",
        "#    print(df.head(5))\n",
        "    dataset = TabularDatasetFactory.register_pandas_dataframe(df, datastore, 'housing_data')\n",
        "\n",
        "\n",
        "df = dataset.to_pandas_dataframe()\n",
        "df.describe()"
      ],
      "outputs": [
        {
          "output_type": "stream",
          "name": "stdout",
          "text": [
            "datasets/housing/housing.csv\n",
            "Validating arguments.\n",
            "Arguments validated.\n",
            "Successfully obtained datastore reference and path.\n",
            "Uploading file to managed-dataset/bd2e758d-4831-4d2a-a381-6ddc8964f22e/\n",
            "Successfully uploaded file to datastore.\n",
            "Creating and registering a new dataset.\n",
            "Successfully created and registered a new dataset.\n"
          ]
        },
        {
          "output_type": "stream",
          "name": "stderr",
          "text": [
            "Method register_pandas_dataframe: This is an experimental method, and may change at any time.<br/>For more information, see https://aka.ms/azuremlexperimental.\n"
          ]
        },
        {
          "output_type": "execute_result",
          "execution_count": 4,
          "data": {
            "text/plain": "          longitude      latitude  housing_median_age   total_rooms  \\\ncount  20433.000000  20433.000000        20433.000000  20433.000000   \nmean    -119.570689     35.633221           28.633094   2636.504233   \nstd        2.003578      2.136348           12.591805   2185.269567   \nmin     -124.350000     32.540000            1.000000      2.000000   \n25%     -121.800000     33.930000           18.000000   1450.000000   \n50%     -118.490000     34.260000           29.000000   2127.000000   \n75%     -118.010000     37.720000           37.000000   3143.000000   \nmax     -114.310000     41.950000           52.000000  39320.000000   \n\n       total_bedrooms    population    households  median_income  \\\ncount    20433.000000  20433.000000  20433.000000   20433.000000   \nmean       537.870553   1424.946949    499.433465       3.871162   \nstd        421.385070   1133.208490    382.299226       1.899291   \nmin          1.000000      3.000000      1.000000       0.499900   \n25%        296.000000    787.000000    280.000000       2.563700   \n50%        435.000000   1166.000000    409.000000       3.536500   \n75%        647.000000   1722.000000    604.000000       4.744000   \nmax       6445.000000  35682.000000   6082.000000      15.000100   \n\n       median_house_value  \ncount        20433.000000  \nmean        206864.413155  \nstd         115435.667099  \nmin          14999.000000  \n25%         119500.000000  \n50%         179700.000000  \n75%         264700.000000  \nmax         500001.000000  ",
            "text/html": "<div>\n<style scoped>\n    .dataframe tbody tr th:only-of-type {\n        vertical-align: middle;\n    }\n\n    .dataframe tbody tr th {\n        vertical-align: top;\n    }\n\n    .dataframe thead th {\n        text-align: right;\n    }\n</style>\n<table border=\"1\" class=\"dataframe\">\n  <thead>\n    <tr style=\"text-align: right;\">\n      <th></th>\n      <th>longitude</th>\n      <th>latitude</th>\n      <th>housing_median_age</th>\n      <th>total_rooms</th>\n      <th>total_bedrooms</th>\n      <th>population</th>\n      <th>households</th>\n      <th>median_income</th>\n      <th>median_house_value</th>\n    </tr>\n  </thead>\n  <tbody>\n    <tr>\n      <th>count</th>\n      <td>20433.000000</td>\n      <td>20433.000000</td>\n      <td>20433.000000</td>\n      <td>20433.000000</td>\n      <td>20433.000000</td>\n      <td>20433.000000</td>\n      <td>20433.000000</td>\n      <td>20433.000000</td>\n      <td>20433.000000</td>\n    </tr>\n    <tr>\n      <th>mean</th>\n      <td>-119.570689</td>\n      <td>35.633221</td>\n      <td>28.633094</td>\n      <td>2636.504233</td>\n      <td>537.870553</td>\n      <td>1424.946949</td>\n      <td>499.433465</td>\n      <td>3.871162</td>\n      <td>206864.413155</td>\n    </tr>\n    <tr>\n      <th>std</th>\n      <td>2.003578</td>\n      <td>2.136348</td>\n      <td>12.591805</td>\n      <td>2185.269567</td>\n      <td>421.385070</td>\n      <td>1133.208490</td>\n      <td>382.299226</td>\n      <td>1.899291</td>\n      <td>115435.667099</td>\n    </tr>\n    <tr>\n      <th>min</th>\n      <td>-124.350000</td>\n      <td>32.540000</td>\n      <td>1.000000</td>\n      <td>2.000000</td>\n      <td>1.000000</td>\n      <td>3.000000</td>\n      <td>1.000000</td>\n      <td>0.499900</td>\n      <td>14999.000000</td>\n    </tr>\n    <tr>\n      <th>25%</th>\n      <td>-121.800000</td>\n      <td>33.930000</td>\n      <td>18.000000</td>\n      <td>1450.000000</td>\n      <td>296.000000</td>\n      <td>787.000000</td>\n      <td>280.000000</td>\n      <td>2.563700</td>\n      <td>119500.000000</td>\n    </tr>\n    <tr>\n      <th>50%</th>\n      <td>-118.490000</td>\n      <td>34.260000</td>\n      <td>29.000000</td>\n      <td>2127.000000</td>\n      <td>435.000000</td>\n      <td>1166.000000</td>\n      <td>409.000000</td>\n      <td>3.536500</td>\n      <td>179700.000000</td>\n    </tr>\n    <tr>\n      <th>75%</th>\n      <td>-118.010000</td>\n      <td>37.720000</td>\n      <td>37.000000</td>\n      <td>3143.000000</td>\n      <td>647.000000</td>\n      <td>1722.000000</td>\n      <td>604.000000</td>\n      <td>4.744000</td>\n      <td>264700.000000</td>\n    </tr>\n    <tr>\n      <th>max</th>\n      <td>-114.310000</td>\n      <td>41.950000</td>\n      <td>52.000000</td>\n      <td>39320.000000</td>\n      <td>6445.000000</td>\n      <td>35682.000000</td>\n      <td>6082.000000</td>\n      <td>15.000100</td>\n      <td>500001.000000</td>\n    </tr>\n  </tbody>\n</table>\n</div>"
          },
          "metadata": {}
        }
      ],
      "execution_count": 4,
      "metadata": {
        "gather": {
          "logged": 1612723073566
        }
      }
    },
    {
      "cell_type": "markdown",
      "source": [
        "## AutoML Configuration\n",
        "\n",
        "TODO: Explain why you chose the automl settings and cofiguration you used below."
      ],
      "metadata": {}
    },
    {
      "cell_type": "code",
      "source": [
        "# TODO: Put your automl settings here\n",
        "automl_settings = {\n",
        "    \"experiment_timeout_minutes\": 20,\n",
        "    \"max_concurrent_iterations\": 5,\n",
        "    \"iterations\" : 20,\n",
        "    \"primary_metric\" : 'r2_score'\n",
        "}\n",
        "project_folder = \"./housing\"\n",
        "# TODO: Put your automl config here\n",
        "automl_config = AutoMLConfig(compute_target=compute_target,\n",
        "                             task = \"regression\",\n",
        "                             training_data=dataset,\n",
        "                             label_column_name=\"median_house_value\",   \n",
        "                             path = project_folder,\n",
        "                             enable_early_stopping= True,\n",
        "                             featurization= 'auto',\n",
        "                             debug_log = \"automl_errors.log\",\n",
        "                             **automl_settings)"
      ],
      "outputs": [],
      "execution_count": 5,
      "metadata": {
        "gather": {
          "logged": 1612723073822
        },
        "jupyter": {
          "outputs_hidden": false,
          "source_hidden": false
        },
        "nteract": {
          "transient": {
            "deleting": false
          }
        }
      }
    },
    {
      "cell_type": "markdown",
      "source": [
        "## Run Details\n",
        "\n",
        "OPTIONAL: Write about the different models trained and their performance. Why do you think some models did better than others?\n",
        "\n",
        "Trained models include StackEnsemble, VotingEnsemble, XGBoostRegressor, LightGBM, RandomForest, etc. \n",
        "StackEnsemble and VotingEnsemble are the highest proforming models. \n",
        "And most models with high performance used XGBoostRegressor\n",
        "\n",
        "TODO: In the cell below, use the `RunDetails` widget to show the different experiments."
      ],
      "metadata": {}
    },
    {
      "cell_type": "code",
      "source": [
        "exp_automl = Experiment(ws, 'AutoML-housing')\r\n",
        "automl_run = exp_automl.submit(automl_config, show_output = False)\r\n",
        "RunDetails(automl_run).show()\r\n",
        "automl_run.wait_for_completion()"
      ],
      "outputs": [
        {
          "output_type": "stream",
          "name": "stdout",
          "text": [
            "Running on remote.\n"
          ]
        },
        {
          "output_type": "display_data",
          "data": {
            "text/plain": "_AutoMLWidget(widget_settings={'childWidgetDisplay': 'popup', 'send_telemetry': False, 'log_level': 'INFO', 's…",
            "application/vnd.jupyter.widget-view+json": {
              "version_major": 2,
              "version_minor": 0,
              "model_id": "d02f484bcf2e4a2aa9231df86d850f5c"
            }
          },
          "metadata": {}
        },
        {
          "output_type": "display_data",
          "data": {
            "application/aml.mini.widget.v1": "{\"status\": \"Completed\", \"workbench_run_details_uri\": \"https://ml.azure.com/experiments/AutoML-housing/runs/AutoML_0d99916a-5d12-4288-924d-a245a9337929?wsid=/subscriptions/9a7511b8-150f-4a58-8528-3e7d50216c31/resourcegroups/aml-quickstarts-137963/workspaces/quick-starts-ws-137963\", \"run_id\": \"AutoML_0d99916a-5d12-4288-924d-a245a9337929\", \"run_properties\": {\"run_id\": \"AutoML_0d99916a-5d12-4288-924d-a245a9337929\", \"created_utc\": \"2021-02-07T18:37:56.484139Z\", \"properties\": {\"num_iterations\": \"20\", \"training_type\": \"TrainFull\", \"acquisition_function\": \"EI\", \"primary_metric\": \"r2_score\", \"train_split\": \"0\", \"acquisition_parameter\": \"0\", \"num_cross_validation\": null, \"target\": \"compute-housing\", \"AMLSettingsJsonString\": \"{\\\"path\\\":null,\\\"name\\\":\\\"AutoML-housing\\\",\\\"subscription_id\\\":\\\"9a7511b8-150f-4a58-8528-3e7d50216c31\\\",\\\"resource_group\\\":\\\"aml-quickstarts-137963\\\",\\\"workspace_name\\\":\\\"quick-starts-ws-137963\\\",\\\"region\\\":\\\"southcentralus\\\",\\\"compute_target\\\":\\\"compute-housing\\\",\\\"spark_service\\\":null,\\\"azure_service\\\":\\\"remote\\\",\\\"many_models\\\":false,\\\"pipeline_fetch_max_batch_size\\\":1,\\\"iterations\\\":20,\\\"primary_metric\\\":\\\"r2_score\\\",\\\"task_type\\\":\\\"regression\\\",\\\"data_script\\\":null,\\\"validation_size\\\":0.0,\\\"n_cross_validations\\\":null,\\\"y_min\\\":null,\\\"y_max\\\":null,\\\"num_classes\\\":null,\\\"featurization\\\":\\\"auto\\\",\\\"_ignore_package_version_incompatibilities\\\":false,\\\"is_timeseries\\\":false,\\\"max_cores_per_iteration\\\":1,\\\"max_concurrent_iterations\\\":5,\\\"iteration_timeout_minutes\\\":null,\\\"mem_in_mb\\\":null,\\\"enforce_time_on_windows\\\":false,\\\"experiment_timeout_minutes\\\":20,\\\"experiment_exit_score\\\":null,\\\"whitelist_models\\\":null,\\\"blacklist_algos\\\":[\\\"TensorFlowDNN\\\",\\\"TensorFlowLinearRegressor\\\"],\\\"supported_models\\\":[\\\"ElasticNet\\\",\\\"RandomForest\\\",\\\"GradientBoosting\\\",\\\"ExtremeRandomTrees\\\",\\\"XGBoostRegressor\\\",\\\"KNN\\\",\\\"LightGBM\\\",\\\"LassoLars\\\",\\\"TensorFlowDNN\\\",\\\"FastLinearRegressor\\\",\\\"OnlineGradientDescentRegressor\\\",\\\"DecisionTree\\\",\\\"SGD\\\",\\\"TensorFlowLinearRegressor\\\"],\\\"auto_blacklist\\\":true,\\\"blacklist_samples_reached\\\":false,\\\"exclude_nan_labels\\\":true,\\\"verbosity\\\":20,\\\"_debug_log\\\":\\\"azureml_automl.log\\\",\\\"show_warnings\\\":false,\\\"model_explainability\\\":true,\\\"service_url\\\":null,\\\"sdk_url\\\":null,\\\"sdk_packages\\\":null,\\\"enable_onnx_compatible_models\\\":false,\\\"enable_split_onnx_featurizer_estimator_models\\\":false,\\\"vm_type\\\":\\\"STANDARD_D2_V2\\\",\\\"telemetry_verbosity\\\":20,\\\"send_telemetry\\\":true,\\\"enable_dnn\\\":false,\\\"scenario\\\":\\\"SDK-1.13.0\\\",\\\"environment_label\\\":null,\\\"force_text_dnn\\\":false,\\\"enable_feature_sweeping\\\":true,\\\"enable_early_stopping\\\":true,\\\"early_stopping_n_iters\\\":10,\\\"metrics\\\":null,\\\"enable_ensembling\\\":true,\\\"enable_stack_ensembling\\\":true,\\\"ensemble_iterations\\\":15,\\\"enable_tf\\\":false,\\\"enable_subsampling\\\":false,\\\"subsample_seed\\\":null,\\\"enable_nimbusml\\\":false,\\\"enable_streaming\\\":false,\\\"force_streaming\\\":false,\\\"track_child_runs\\\":true,\\\"allowed_private_models\\\":[],\\\"label_column_name\\\":\\\"median_house_value\\\",\\\"weight_column_name\\\":null,\\\"cv_split_column_names\\\":null,\\\"enable_local_managed\\\":false,\\\"_local_managed_run_id\\\":null,\\\"cost_mode\\\":1,\\\"lag_length\\\":0,\\\"metric_operation\\\":\\\"maximize\\\",\\\"preprocess\\\":true}\", \"DataPrepJsonString\": \"{\\\\\\\"training_data\\\\\\\": \\\\\\\"{\\\\\\\\\\\\\\\"blocks\\\\\\\\\\\\\\\": [{\\\\\\\\\\\\\\\"id\\\\\\\\\\\\\\\": \\\\\\\\\\\\\\\"47b0a56d-c106-4b59-afd1-6a375589a111\\\\\\\\\\\\\\\", \\\\\\\\\\\\\\\"type\\\\\\\\\\\\\\\": \\\\\\\\\\\\\\\"Microsoft.DPrep.GetDatastoreFilesBlock\\\\\\\\\\\\\\\", \\\\\\\\\\\\\\\"arguments\\\\\\\\\\\\\\\": {\\\\\\\\\\\\\\\"datastores\\\\\\\\\\\\\\\": [{\\\\\\\\\\\\\\\"datastoreName\\\\\\\\\\\\\\\": \\\\\\\\\\\\\\\"workspaceblobstore\\\\\\\\\\\\\\\", \\\\\\\\\\\\\\\"path\\\\\\\\\\\\\\\": \\\\\\\\\\\\\\\"managed-dataset/bd2e758d-4831-4d2a-a381-6ddc8964f22e/\\\\\\\\\\\\\\\", \\\\\\\\\\\\\\\"resourceGroup\\\\\\\\\\\\\\\": \\\\\\\\\\\\\\\"aml-quickstarts-137963\\\\\\\\\\\\\\\", \\\\\\\\\\\\\\\"subscription\\\\\\\\\\\\\\\": \\\\\\\\\\\\\\\"9a7511b8-150f-4a58-8528-3e7d50216c31\\\\\\\\\\\\\\\", \\\\\\\\\\\\\\\"workspaceName\\\\\\\\\\\\\\\": \\\\\\\\\\\\\\\"quick-starts-ws-137963\\\\\\\\\\\\\\\"}]}, \\\\\\\\\\\\\\\"localData\\\\\\\\\\\\\\\": {}, \\\\\\\\\\\\\\\"isEnabled\\\\\\\\\\\\\\\": true, \\\\\\\\\\\\\\\"name\\\\\\\\\\\\\\\": null, \\\\\\\\\\\\\\\"annotation\\\\\\\\\\\\\\\": null}, {\\\\\\\\\\\\\\\"id\\\\\\\\\\\\\\\": \\\\\\\\\\\\\\\"a7d2529e-3e75-4302-8d4e-6ab454b0ada9\\\\\\\\\\\\\\\", \\\\\\\\\\\\\\\"type\\\\\\\\\\\\\\\": \\\\\\\\\\\\\\\"Microsoft.DPrep.ReadParquetFileBlock\\\\\\\\\\\\\\\", \\\\\\\\\\\\\\\"arguments\\\\\\\\\\\\\\\": {\\\\\\\\\\\\\\\"preview\\\\\\\\\\\\\\\": false}, \\\\\\\\\\\\\\\"localData\\\\\\\\\\\\\\\": {}, \\\\\\\\\\\\\\\"isEnabled\\\\\\\\\\\\\\\": true, \\\\\\\\\\\\\\\"name\\\\\\\\\\\\\\\": null, \\\\\\\\\\\\\\\"annotation\\\\\\\\\\\\\\\": null}, {\\\\\\\\\\\\\\\"id\\\\\\\\\\\\\\\": \\\\\\\\\\\\\\\"4e6d5775-9478-45a3-b155-cf6c32c0ee78\\\\\\\\\\\\\\\", \\\\\\\\\\\\\\\"type\\\\\\\\\\\\\\\": \\\\\\\\\\\\\\\"Microsoft.DPrep.DropColumnsBlock\\\\\\\\\\\\\\\", \\\\\\\\\\\\\\\"arguments\\\\\\\\\\\\\\\": {\\\\\\\\\\\\\\\"columns\\\\\\\\\\\\\\\": {\\\\\\\\\\\\\\\"type\\\\\\\\\\\\\\\": 0, \\\\\\\\\\\\\\\"details\\\\\\\\\\\\\\\": {\\\\\\\\\\\\\\\"selectedColumns\\\\\\\\\\\\\\\": [\\\\\\\\\\\\\\\"Path\\\\\\\\\\\\\\\"]}}}, \\\\\\\\\\\\\\\"localData\\\\\\\\\\\\\\\": {}, \\\\\\\\\\\\\\\"isEnabled\\\\\\\\\\\\\\\": true, \\\\\\\\\\\\\\\"name\\\\\\\\\\\\\\\": null, \\\\\\\\\\\\\\\"annotation\\\\\\\\\\\\\\\": null}], \\\\\\\\\\\\\\\"inspectors\\\\\\\\\\\\\\\": [], \\\\\\\\\\\\\\\"meta\\\\\\\\\\\\\\\": {\\\\\\\\\\\\\\\"savedDatasetId\\\\\\\\\\\\\\\": \\\\\\\\\\\\\\\"60b752b9-348f-40ee-96ca-c3a48698a2e4\\\\\\\\\\\\\\\", \\\\\\\\\\\\\\\"datasetType\\\\\\\\\\\\\\\": \\\\\\\\\\\\\\\"tabular\\\\\\\\\\\\\\\", \\\\\\\\\\\\\\\"subscriptionId\\\\\\\\\\\\\\\": \\\\\\\\\\\\\\\"9a7511b8-150f-4a58-8528-3e7d50216c31\\\\\\\\\\\\\\\", \\\\\\\\\\\\\\\"workspaceId\\\\\\\\\\\\\\\": \\\\\\\\\\\\\\\"dfebf728-aaa4-4543-8640-60315de13f19\\\\\\\\\\\\\\\", \\\\\\\\\\\\\\\"workspaceLocation\\\\\\\\\\\\\\\": \\\\\\\\\\\\\\\"southcentralus\\\\\\\\\\\\\\\"}}\\\\\\\", \\\\\\\"activities\\\\\\\": 0}\", \"EnableSubsampling\": \"False\", \"runTemplate\": \"AutoML\", \"azureml.runsource\": \"automl\", \"display_task_type\": \"regression\", \"dependencies_versions\": \"{\\\"azureml-widgets\\\": \\\"1.20.0\\\", \\\"azureml-train\\\": \\\"1.20.0\\\", \\\"azureml-train-restclients-hyperdrive\\\": \\\"1.20.0\\\", \\\"azureml-train-core\\\": \\\"1.20.0\\\", \\\"azureml-train-automl\\\": \\\"1.20.0\\\", \\\"azureml-train-automl-runtime\\\": \\\"1.20.0\\\", \\\"azureml-train-automl-client\\\": \\\"1.20.0\\\", \\\"azureml-tensorboard\\\": \\\"1.20.0\\\", \\\"azureml-telemetry\\\": \\\"1.20.0\\\", \\\"azureml-sdk\\\": \\\"1.20.0\\\", \\\"azureml-samples\\\": \\\"0+unknown\\\", \\\"azureml-pipeline\\\": \\\"1.20.0\\\", \\\"azureml-pipeline-steps\\\": \\\"1.20.0\\\", \\\"azureml-pipeline-core\\\": \\\"1.20.0\\\", \\\"azureml-opendatasets\\\": \\\"1.20.0\\\", \\\"azureml-model-management-sdk\\\": \\\"1.0.1b6.post1\\\", \\\"azureml-mlflow\\\": \\\"1.20.0.post1\\\", \\\"azureml-interpret\\\": \\\"1.20.0\\\", \\\"azureml-explain-model\\\": \\\"1.20.0\\\", \\\"azureml-defaults\\\": \\\"1.20.0\\\", \\\"azureml-dataset-runtime\\\": \\\"1.20.0\\\", \\\"azureml-dataprep\\\": \\\"2.7.3\\\", \\\"azureml-dataprep-rslex\\\": \\\"1.5.0\\\", \\\"azureml-dataprep-native\\\": \\\"27.0.0\\\", \\\"azureml-datadrift\\\": \\\"1.20.0\\\", \\\"azureml-core\\\": \\\"1.20.0\\\", \\\"azureml-contrib-services\\\": \\\"1.20.0\\\", \\\"azureml-contrib-server\\\": \\\"1.20.0\\\", \\\"azureml-contrib-reinforcementlearning\\\": \\\"1.20.0\\\", \\\"azureml-contrib-pipeline-steps\\\": \\\"1.20.0\\\", \\\"azureml-contrib-notebook\\\": \\\"1.20.0\\\", \\\"azureml-contrib-interpret\\\": \\\"1.20.0\\\", \\\"azureml-contrib-gbdt\\\": \\\"1.20.0\\\", \\\"azureml-contrib-fairness\\\": \\\"1.20.0\\\", \\\"azureml-contrib-dataset\\\": \\\"1.20.0\\\", \\\"azureml-cli-common\\\": \\\"1.20.0\\\", \\\"azureml-automl-runtime\\\": \\\"1.20.0\\\", \\\"azureml-automl-core\\\": \\\"1.20.0\\\", \\\"azureml-accel-models\\\": \\\"1.20.0\\\"}\", \"_aml_system_scenario_identification\": \"Remote.Parent\", \"ClientType\": \"SDK\", \"environment_cpu_name\": \"AzureML-AutoML\", \"environment_cpu_label\": \"prod\", \"environment_gpu_name\": \"AzureML-AutoML-GPU\", \"environment_gpu_label\": \"prod\", \"root_attribution\": \"automl\", \"attribution\": \"AutoML\", \"Orchestrator\": \"AutoML\", \"CancelUri\": \"https://southcentralus.experiments.azureml.net/jasmine/v1.0/subscriptions/9a7511b8-150f-4a58-8528-3e7d50216c31/resourceGroups/aml-quickstarts-137963/providers/Microsoft.MachineLearningServices/workspaces/quick-starts-ws-137963/experimentids/8e4d34a9-bc9b-45aa-8e9c-bffabfee9a9f/cancel/AutoML_0d99916a-5d12-4288-924d-a245a9337929\", \"ClientSdkVersion\": \"1.21.0\", \"snapshotId\": \"00000000-0000-0000-0000-000000000000\", \"SetupRunId\": \"AutoML_0d99916a-5d12-4288-924d-a245a9337929_setup\", \"SetupRunContainerId\": \"dcid.AutoML_0d99916a-5d12-4288-924d-a245a9337929_setup\", \"FeaturizationRunJsonPath\": \"featurizer_container.json\", \"FeaturizationRunId\": \"AutoML_0d99916a-5d12-4288-924d-a245a9337929_featurize\", \"ProblemInfoJsonString\": \"{\\\"dataset_num_categorical\\\": 0, \\\"is_sparse\\\": true, \\\"subsampling\\\": false, \\\"dataset_classes\\\": 3752, \\\"dataset_features\\\": 13, \\\"dataset_samples\\\": 18389, \\\"single_frequency_class_detected\\\": false}\", \"ModelExplainRunId\": \"AutoML_0d99916a-5d12-4288-924d-a245a9337929_ModelExplain\"}, \"tags\": {\"model_explain_run\": \"best_run\", \"_aml_system_azureml.automlComponent\": \"AutoML\", \"pipeline_id\": \"\", \"score\": \"\", \"predicted_cost\": \"\", \"fit_time\": \"\", \"training_percent\": \"\", \"iteration\": \"\", \"run_preprocessor\": \"\", \"run_algorithm\": \"\", \"automl_best_child_run_id\": \"AutoML_0d99916a-5d12-4288-924d-a245a9337929_18\"}, \"end_time_utc\": \"2021-02-07T18:57:23.260737Z\", \"status\": \"Completed\", \"log_files\": {}, \"log_groups\": [], \"run_duration\": \"0:19:26\"}, \"child_runs\": [{\"run_id\": \"AutoML_0d99916a-5d12-4288-924d-a245a9337929_0\", \"run_number\": 5, \"metric\": null, \"status\": \"Completed\", \"run_type\": \"azureml.scriptrun\", \"training_percent\": \"100\", \"start_time\": \"2021-02-07T18:47:20.536291Z\", \"end_time\": \"2021-02-07T18:48:13.01906Z\", \"created_time\": \"2021-02-07T18:47:08.666471Z\", \"created_time_dt\": \"2021-02-07T18:47:08.666471Z\", \"duration\": \"0:01:04\", \"iteration\": \"0\", \"goal\": \"r2_score_max\", \"run_name\": \"MaxAbsScaler, LightGBM\", \"run_properties\": \"copy=True\", \"primary_metric\": 0.83900039, \"best_metric\": 0.83900039}, {\"run_id\": \"AutoML_0d99916a-5d12-4288-924d-a245a9337929_2\", \"run_number\": 6, \"metric\": null, \"status\": \"Completed\", \"run_type\": \"azureml.scriptrun\", \"training_percent\": \"100\", \"start_time\": \"2021-02-07T18:48:14.172534Z\", \"end_time\": \"2021-02-07T18:49:14.188565Z\", \"created_time\": \"2021-02-07T18:47:08.807181Z\", \"created_time_dt\": \"2021-02-07T18:47:08.807181Z\", \"duration\": \"0:02:05\", \"iteration\": \"2\", \"goal\": \"r2_score_max\", \"run_name\": \"SparseNormalizer, XGBoostRegressor\", \"run_properties\": \"<azureml.automl.runtime.shared.model_wrappers.SparseNormalizer object at 0x7f9bd633e240\", \"primary_metric\": 0.70491109, \"best_metric\": 0.83900039}, {\"run_id\": \"AutoML_0d99916a-5d12-4288-924d-a245a9337929_3\", \"run_number\": 7, \"metric\": null, \"status\": \"Completed\", \"run_type\": \"azureml.scriptrun\", \"training_percent\": \"100\", \"start_time\": \"2021-02-07T18:49:18.642328Z\", \"end_time\": \"2021-02-07T18:53:07.675681Z\", \"created_time\": \"2021-02-07T18:47:08.807552Z\", \"created_time_dt\": \"2021-02-07T18:47:08.807552Z\", \"duration\": \"0:05:58\", \"iteration\": \"3\", \"goal\": \"r2_score_max\", \"run_name\": \"MaxAbsScaler, RandomForest\", \"run_properties\": \"copy=True\", \"primary_metric\": 0.73688089, \"best_metric\": 0.83900039}, {\"run_id\": \"AutoML_0d99916a-5d12-4288-924d-a245a9337929_1\", \"run_number\": 8, \"metric\": null, \"status\": \"Completed\", \"run_type\": \"azureml.scriptrun\", \"training_percent\": \"100\", \"start_time\": \"2021-02-07T18:49:16.323263Z\", \"end_time\": \"2021-02-07T18:50:15.338535Z\", \"created_time\": \"2021-02-07T18:47:08.877005Z\", \"created_time_dt\": \"2021-02-07T18:47:08.877005Z\", \"duration\": \"0:03:06\", \"iteration\": \"1\", \"goal\": \"r2_score_max\", \"run_name\": \"MaxAbsScaler, XGBoostRegressor\", \"run_properties\": \"copy=True\", \"primary_metric\": 0.78327791, \"best_metric\": 0.83900039}, {\"run_id\": \"AutoML_0d99916a-5d12-4288-924d-a245a9337929_4\", \"run_number\": 9, \"metric\": null, \"status\": \"Completed\", \"run_type\": \"azureml.scriptrun\", \"training_percent\": \"100\", \"start_time\": \"2021-02-07T18:49:19.281528Z\", \"end_time\": \"2021-02-07T18:52:54.299952Z\", \"created_time\": \"2021-02-07T18:47:08.82856Z\", \"created_time_dt\": \"2021-02-07T18:47:08.82856Z\", \"duration\": \"0:05:45\", \"iteration\": \"4\", \"goal\": \"r2_score_max\", \"run_name\": \"StandardScalerWrapper, XGBoostRegressor\", \"run_properties\": \"<azureml.automl.runtime.shared.model_wrappers.StandardScalerWrapper object at 0x7f1df71dc358\", \"primary_metric\": 0.84390946, \"best_metric\": 0.84390946}, {\"run_id\": \"AutoML_0d99916a-5d12-4288-924d-a245a9337929_5\", \"run_number\": 10, \"metric\": null, \"status\": \"Completed\", \"run_type\": \"azureml.scriptrun\", \"training_percent\": \"100\", \"start_time\": \"2021-02-07T18:49:20.384174Z\", \"end_time\": \"2021-02-07T18:52:50.106828Z\", \"created_time\": \"2021-02-07T18:48:14.873098Z\", \"created_time_dt\": \"2021-02-07T18:48:14.873098Z\", \"duration\": \"0:04:35\", \"iteration\": \"5\", \"goal\": \"r2_score_max\", \"run_name\": \"MaxAbsScaler, ElasticNet\", \"run_properties\": \"copy=True\", \"primary_metric\": 0.66246215, \"best_metric\": 0.84390946}, {\"run_id\": \"AutoML_0d99916a-5d12-4288-924d-a245a9337929_6\", \"run_number\": 11, \"metric\": null, \"status\": \"Completed\", \"run_type\": \"azureml.scriptrun\", \"training_percent\": \"100\", \"start_time\": \"2021-02-07T18:50:14.024724Z\", \"end_time\": \"2021-02-07T18:51:46.352574Z\", \"created_time\": \"2021-02-07T18:49:18.052535Z\", \"created_time_dt\": \"2021-02-07T18:49:18.052535Z\", \"duration\": \"0:02:28\", \"iteration\": \"6\", \"goal\": \"r2_score_max\", \"run_name\": \"MaxAbsScaler, RandomForest\", \"run_properties\": \"copy=True\", \"primary_metric\": 0.7002258, \"best_metric\": 0.84390946}, {\"run_id\": \"AutoML_0d99916a-5d12-4288-924d-a245a9337929_7\", \"run_number\": 12, \"metric\": null, \"status\": \"Completed\", \"run_type\": \"azureml.scriptrun\", \"training_percent\": \"100\", \"start_time\": \"2021-02-07T18:51:49.337764Z\", \"end_time\": \"2021-02-07T18:52:42.569538Z\", \"created_time\": \"2021-02-07T18:50:19.227747Z\", \"created_time_dt\": \"2021-02-07T18:50:19.227747Z\", \"duration\": \"0:02:23\", \"iteration\": \"7\", \"goal\": \"r2_score_max\", \"run_name\": \"StandardScalerWrapper, XGBoostRegressor\", \"run_properties\": \"<azureml.automl.runtime.shared.model_wrappers.StandardScalerWrapper object at 0x7f6732db3c18\", \"primary_metric\": 0.837107, \"best_metric\": 0.84390946}, {\"run_id\": \"AutoML_0d99916a-5d12-4288-924d-a245a9337929_8\", \"run_number\": 13, \"metric\": null, \"status\": \"Completed\", \"run_type\": \"azureml.scriptrun\", \"training_percent\": \"100\", \"start_time\": \"2021-02-07T18:52:46.891938Z\", \"end_time\": \"2021-02-07T18:53:57.779897Z\", \"created_time\": \"2021-02-07T18:51:50.593161Z\", \"created_time_dt\": \"2021-02-07T18:51:50.593161Z\", \"duration\": \"0:02:07\", \"iteration\": \"8\", \"goal\": \"r2_score_max\", \"run_name\": \"MaxAbsScaler, ExtremeRandomTrees\", \"run_properties\": \"copy=True\", \"primary_metric\": 0.71251037, \"best_metric\": 0.84390946}, {\"run_id\": \"AutoML_0d99916a-5d12-4288-924d-a245a9337929_9\", \"run_number\": 14, \"metric\": null, \"status\": \"Completed\", \"run_type\": \"azureml.scriptrun\", \"training_percent\": \"100\", \"start_time\": \"2021-02-07T18:53:00.353112Z\", \"end_time\": \"2021-02-07T18:53:53.431875Z\", \"created_time\": \"2021-02-07T18:52:46.583907Z\", \"created_time_dt\": \"2021-02-07T18:52:46.583907Z\", \"duration\": \"0:01:06\", \"iteration\": \"9\", \"goal\": \"r2_score_max\", \"run_name\": \"StandardScalerWrapper, ElasticNet\", \"run_properties\": \"<azureml.automl.runtime.shared.model_wrappers.StandardScalerWrapper object at 0x7f08088ae198\", \"primary_metric\": 0.65979661, \"best_metric\": 0.84390946}, {\"run_id\": \"AutoML_0d99916a-5d12-4288-924d-a245a9337929_10\", \"run_number\": 15, \"metric\": null, \"status\": \"Completed\", \"run_type\": \"azureml.scriptrun\", \"training_percent\": \"100\", \"start_time\": \"2021-02-07T18:53:07.12443Z\", \"end_time\": \"2021-02-07T18:54:49.912108Z\", \"created_time\": \"2021-02-07T18:52:54.168279Z\", \"created_time_dt\": \"2021-02-07T18:52:54.168279Z\", \"duration\": \"0:01:55\", \"iteration\": \"10\", \"goal\": \"r2_score_max\", \"run_name\": \"MaxAbsScaler, RandomForest\", \"run_properties\": \"copy=True\", \"primary_metric\": 0.76642091, \"best_metric\": 0.84390946}, {\"run_id\": \"AutoML_0d99916a-5d12-4288-924d-a245a9337929_11\", \"run_number\": 16, \"metric\": null, \"status\": \"Completed\", \"run_type\": \"azureml.scriptrun\", \"training_percent\": \"100\", \"start_time\": \"2021-02-07T18:53:12.209283Z\", \"end_time\": \"2021-02-07T18:54:03.995466Z\", \"created_time\": \"2021-02-07T18:52:59.033017Z\", \"created_time_dt\": \"2021-02-07T18:52:59.033017Z\", \"duration\": \"0:01:04\", \"iteration\": \"11\", \"goal\": \"r2_score_max\", \"run_name\": \"MaxAbsScaler, RandomForest\", \"run_properties\": \"copy=True\", \"primary_metric\": 0.74201671, \"best_metric\": 0.84390946}, {\"run_id\": \"AutoML_0d99916a-5d12-4288-924d-a245a9337929_12\", \"run_number\": 17, \"metric\": null, \"status\": \"Completed\", \"run_type\": \"azureml.scriptrun\", \"training_percent\": \"100\", \"start_time\": \"2021-02-07T18:53:55.15289Z\", \"end_time\": \"2021-02-07T18:54:47.728102Z\", \"created_time\": \"2021-02-07T18:53:10.742956Z\", \"created_time_dt\": \"2021-02-07T18:53:10.742956Z\", \"duration\": \"0:01:36\", \"iteration\": \"12\", \"goal\": \"r2_score_max\", \"run_name\": \"StandardScalerWrapper, XGBoostRegressor\", \"run_properties\": \"<azureml.automl.runtime.shared.model_wrappers.StandardScalerWrapper object at 0x7f92b47524a8\", \"primary_metric\": 0.76663769, \"best_metric\": 0.84390946}, {\"run_id\": \"AutoML_0d99916a-5d12-4288-924d-a245a9337929_13\", \"run_number\": 18, \"metric\": null, \"status\": \"Completed\", \"run_type\": \"azureml.scriptrun\", \"training_percent\": \"100\", \"start_time\": \"2021-02-07T18:54:09.54249Z\", \"end_time\": \"2021-02-07T18:55:04.528121Z\", \"created_time\": \"2021-02-07T18:53:56.486354Z\", \"created_time_dt\": \"2021-02-07T18:53:56.486354Z\", \"duration\": \"0:01:08\", \"iteration\": \"13\", \"goal\": \"r2_score_max\", \"run_name\": \"MaxAbsScaler, ExtremeRandomTrees\", \"run_properties\": \"copy=True\", \"primary_metric\": 0.71990444, \"best_metric\": 0.84390946}, {\"run_id\": \"AutoML_0d99916a-5d12-4288-924d-a245a9337929_14\", \"run_number\": 19, \"metric\": null, \"status\": \"Completed\", \"run_type\": \"azureml.scriptrun\", \"training_percent\": \"100\", \"start_time\": \"2021-02-07T18:54:13.2568Z\", \"end_time\": \"2021-02-07T18:54:59.411963Z\", \"created_time\": \"2021-02-07T18:54:01.420125Z\", \"created_time_dt\": \"2021-02-07T18:54:01.420125Z\", \"duration\": \"0:00:57\", \"iteration\": \"14\", \"goal\": \"r2_score_max\", \"run_name\": \"MaxAbsScaler, ExtremeRandomTrees\", \"run_properties\": \"copy=True\", \"primary_metric\": 0.49432221, \"best_metric\": 0.84390946}, {\"run_id\": \"AutoML_0d99916a-5d12-4288-924d-a245a9337929_15\", \"run_number\": 20, \"metric\": null, \"status\": \"Completed\", \"run_type\": \"azureml.scriptrun\", \"training_percent\": \"100\", \"start_time\": \"2021-02-07T18:54:49.769821Z\", \"end_time\": \"2021-02-07T18:55:59.756831Z\", \"created_time\": \"2021-02-07T18:54:07.123524Z\", \"created_time_dt\": \"2021-02-07T18:54:07.123524Z\", \"duration\": \"0:01:52\", \"iteration\": \"15\", \"goal\": \"r2_score_max\", \"run_name\": \"MaxAbsScaler, ExtremeRandomTrees\", \"run_properties\": \"copy=True\", \"primary_metric\": 0.70763604, \"best_metric\": 0.84390946}, {\"run_id\": \"AutoML_0d99916a-5d12-4288-924d-a245a9337929_16\", \"run_number\": 21, \"metric\": null, \"status\": \"Completed\", \"run_type\": \"azureml.scriptrun\", \"training_percent\": \"100\", \"start_time\": \"2021-02-07T18:55:04.672798Z\", \"end_time\": \"2021-02-07T18:55:54.836387Z\", \"created_time\": \"2021-02-07T18:54:52.418385Z\", \"created_time_dt\": \"2021-02-07T18:54:52.418385Z\", \"duration\": \"0:01:02\", \"iteration\": \"16\", \"goal\": \"r2_score_max\", \"run_name\": \"MaxAbsScaler, ElasticNet\", \"run_properties\": \"copy=True\", \"primary_metric\": 0.63733774, \"best_metric\": 0.84390946}, {\"run_id\": \"AutoML_0d99916a-5d12-4288-924d-a245a9337929_17\", \"run_number\": 22, \"metric\": null, \"status\": \"Completed\", \"run_type\": \"azureml.scriptrun\", \"training_percent\": \"100\", \"start_time\": \"2021-02-07T18:55:12.52804Z\", \"end_time\": \"2021-02-07T18:55:55.001018Z\", \"created_time\": \"2021-02-07T18:54:58.867227Z\", \"created_time_dt\": \"2021-02-07T18:54:58.867227Z\", \"duration\": \"0:00:56\", \"iteration\": \"17\", \"goal\": \"r2_score_max\", \"run_name\": \"MaxAbsScaler, RandomForest\", \"run_properties\": \"copy=True\", \"primary_metric\": 0.61268078, \"best_metric\": 0.84390946}, {\"run_id\": \"AutoML_0d99916a-5d12-4288-924d-a245a9337929_18\", \"run_number\": 23, \"metric\": null, \"status\": \"Completed\", \"run_type\": \"azureml.scriptrun\", \"training_percent\": \"100\", \"start_time\": \"2021-02-07T18:56:14.127587Z\", \"end_time\": \"2021-02-07T18:57:15.574727Z\", \"created_time\": \"2021-02-07T18:56:00.672548Z\", \"created_time_dt\": \"2021-02-07T18:56:00.672548Z\", \"duration\": \"0:01:14\", \"iteration\": \"18\", \"goal\": \"r2_score_max\", \"run_name\": \"VotingEnsemble\", \"run_properties\": \"estimators=[('4',\\n                                          Pipeline(memory=None,\\n                                                   steps=[('standardscalerwrapper',\\n                                                           <azureml.automl.runtime.shared.model_wrappers.StandardScalerWrapper object at 0x7efbc05ccc88>\", \"primary_metric\": 0.84555895, \"best_metric\": 0.84555895}, {\"run_id\": \"AutoML_0d99916a-5d12-4288-924d-a245a9337929_19\", \"run_number\": 24, \"metric\": null, \"status\": \"Completed\", \"run_type\": \"azureml.scriptrun\", \"training_percent\": \"100\", \"start_time\": \"2021-02-07T18:56:15.364525Z\", \"end_time\": \"2021-02-07T18:57:14.66392Z\", \"created_time\": \"2021-02-07T18:56:00.68412Z\", \"created_time_dt\": \"2021-02-07T18:56:00.68412Z\", \"duration\": \"0:01:13\", \"iteration\": \"19\", \"goal\": \"r2_score_max\", \"run_name\": \"StackEnsemble\", \"run_properties\": \"base_learners=[('4',\\n                                       Pipeline(memory=None,\\n                                                steps=[('standardscalerwrapper',\\n                                                        <azureml.automl.runtime.shared.model_wrappers.StandardScalerWrapper object at 0x7f19262fcac8>\", \"primary_metric\": 0.84539407, \"best_metric\": 0.84555895}], \"children_metrics\": {\"categories\": [0], \"series\": {\"explained_variance\": [{\"categories\": [\"0\", \"1\", \"2\", \"3\", \"4\", \"5\", \"6\", \"7\", \"8\", \"9\", \"10\", \"11\", \"12\", \"13\", \"14\", \"15\", \"16\", \"17\", \"18\", \"19\"], \"mode\": \"markers\", \"name\": \"explained_variance\", \"stepped\": false, \"type\": \"scatter\", \"data\": [0.8390040058290049, 0.7832802592529108, 0.7050147202529098, 0.7369256495004018, 0.8439419216615232, 0.6625890227477977, 0.7003011874050781, 0.8371158982997678, 0.7126034701158198, 0.6599190675862456, 0.7664546340153673, 0.7420292944793712, 0.7843483608540941, 0.7200109622468901, 0.4943222643426741, 0.7077275003314165, 0.6374310612060187, 0.6129282661736072, 0.8455784812684746, 0.8453960696965582]}, {\"categories\": [\"0\", \"1\", \"2\", \"3\", \"4\", \"5\", \"6\", \"7\", \"8\", \"9\", \"10\", \"11\", \"12\", \"13\", \"14\", \"15\", \"16\", \"17\", \"18\", \"19\"], \"mode\": \"lines\", \"name\": \"explained_variance_max\", \"stepped\": true, \"type\": \"scatter\", \"data\": [0.8390040058290049, 0.8390040058290049, 0.8390040058290049, 0.8390040058290049, 0.8439419216615232, 0.8439419216615232, 0.8439419216615232, 0.8439419216615232, 0.8439419216615232, 0.8439419216615232, 0.8439419216615232, 0.8439419216615232, 0.8439419216615232, 0.8439419216615232, 0.8439419216615232, 0.8439419216615232, 0.8439419216615232, 0.8439419216615232, 0.8455784812684746, 0.8455784812684746]}], \"root_mean_squared_log_error\": [{\"categories\": [\"0\", \"1\", \"2\", \"3\", \"4\", \"5\", \"6\", \"7\", \"8\", \"9\", \"10\", \"11\", \"12\", \"13\", \"14\", \"15\", \"16\", \"17\", \"18\", \"19\"], \"mode\": \"markers\", \"name\": \"root_mean_squared_log_error\", \"stepped\": false, \"type\": \"scatter\", \"data\": [0.22772876084386565, 0.2642491406021646, 0.3110096701163082, 0.28380834228902807, 0.22339345028747673, NaN, 0.2990288341606247, 0.23124733847979329, 0.2916960118837901, NaN, 0.2705246185080817, 0.28642652465286733, 0.2517109785824163, 0.28897577704553123, 0.4040609047885074, 0.29526779101435036, NaN, 0.3424430453650625, 0.22225926932754933, 0.22140835398520942]}, {\"categories\": [\"0\", \"1\", \"2\", \"3\", \"4\", \"5\", \"6\", \"7\", \"8\", \"9\", \"10\", \"11\", \"12\", \"13\", \"14\", \"15\", \"16\", \"17\", \"18\", \"19\"], \"mode\": \"lines\", \"name\": \"root_mean_squared_log_error_min\", \"stepped\": true, \"type\": \"scatter\", \"data\": [0.22772876084386565, 0.22772876084386565, 0.22772876084386565, 0.22772876084386565, 0.22339345028747673, 0.22339345028747673, 0.22339345028747673, 0.22339345028747673, 0.22339345028747673, 0.22339345028747673, 0.22339345028747673, 0.22339345028747673, 0.22339345028747673, 0.22339345028747673, 0.22339345028747673, 0.22339345028747673, 0.22339345028747673, 0.22339345028747673, 0.22225926932754933, 0.22140835398520942]}], \"r2_score\": [{\"categories\": [\"0\", \"1\", \"2\", \"3\", \"4\", \"5\", \"6\", \"7\", \"8\", \"9\", \"10\", \"11\", \"12\", \"13\", \"14\", \"15\", \"16\", \"17\", \"18\", \"19\"], \"mode\": \"markers\", \"name\": \"r2_score\", \"stepped\": false, \"type\": \"scatter\", \"data\": [0.8390003870308376, 0.7832779149104162, 0.7049110859825449, 0.736880894725305, 0.843909461318274, 0.6624621490304062, 0.7002257952204035, 0.8371069964162912, 0.7125103723661186, 0.6597966133414026, 0.7664209097617805, 0.7420167070078962, 0.7666376937225235, 0.7199044408855408, 0.4943222122355998, 0.7076360416381368, 0.6373377434557972, 0.6126807796615037, 0.8455589515361349, 0.8453940735946679]}, {\"categories\": [\"0\", \"1\", \"2\", \"3\", \"4\", \"5\", \"6\", \"7\", \"8\", \"9\", \"10\", \"11\", \"12\", \"13\", \"14\", \"15\", \"16\", \"17\", \"18\", \"19\"], \"mode\": \"lines\", \"name\": \"r2_score_max\", \"stepped\": true, \"type\": \"scatter\", \"data\": [0.8390003870308376, 0.8390003870308376, 0.8390003870308376, 0.8390003870308376, 0.843909461318274, 0.843909461318274, 0.843909461318274, 0.843909461318274, 0.843909461318274, 0.843909461318274, 0.843909461318274, 0.843909461318274, 0.843909461318274, 0.843909461318274, 0.843909461318274, 0.843909461318274, 0.843909461318274, 0.843909461318274, 0.8455589515361349, 0.8455589515361349]}], \"root_mean_squared_error\": [{\"categories\": [\"0\", \"1\", \"2\", \"3\", \"4\", \"5\", \"6\", \"7\", \"8\", \"9\", \"10\", \"11\", \"12\", \"13\", \"14\", \"15\", \"16\", \"17\", \"18\", \"19\"], \"mode\": \"markers\", \"name\": \"root_mean_squared_error\", \"stepped\": false, \"type\": \"scatter\", \"data\": [47112.35453008507, 54660.54765601256, 63782.10387853296, 60228.019911190706, 46388.53776896169, 68215.58909710534, 64286.46173381613, 47388.57060324933, 62955.47189891869, 68484.40860477055, 56746.53846749348, 59637.329018994846, 56720.199219873255, 62140.6089828619, 83494.78142782743, 63486.927576849055, 70708.81730960512, 73072.99669343665, 46142.78083497149, 46167.40478489185]}, {\"categories\": [\"0\", \"1\", \"2\", \"3\", \"4\", \"5\", \"6\", \"7\", \"8\", \"9\", \"10\", \"11\", \"12\", \"13\", \"14\", \"15\", \"16\", \"17\", \"18\", \"19\"], \"mode\": \"lines\", \"name\": \"root_mean_squared_error_min\", \"stepped\": true, \"type\": \"scatter\", \"data\": [47112.35453008507, 47112.35453008507, 47112.35453008507, 47112.35453008507, 46388.53776896169, 46388.53776896169, 46388.53776896169, 46388.53776896169, 46388.53776896169, 46388.53776896169, 46388.53776896169, 46388.53776896169, 46388.53776896169, 46388.53776896169, 46388.53776896169, 46388.53776896169, 46388.53776896169, 46388.53776896169, 46142.78083497149, 46142.78083497149]}], \"spearman_correlation\": [{\"categories\": [\"0\", \"1\", \"2\", \"3\", \"4\", \"5\", \"6\", \"7\", \"8\", \"9\", \"10\", \"11\", \"12\", \"13\", \"14\", \"15\", \"16\", \"17\", \"18\", \"19\"], \"mode\": \"markers\", \"name\": \"spearman_correlation\", \"stepped\": false, \"type\": \"scatter\", \"data\": [0.9233660579005828, 0.8957544359126594, 0.8521680939449118, 0.8853603046437624, 0.9270695041803086, 0.8413783263599185, 0.8586283167189602, 0.9213814422564995, 0.8704338053318154, 0.8397606889255936, 0.9005568130385351, 0.8887749056904185, 0.905492281675435, 0.8719313840266637, 0.7765329435108445, 0.8668310744087777, 0.8247026697879661, 0.8133892914722327, 0.9277169375929726, 0.927469539990533]}, {\"categories\": [\"0\", \"1\", \"2\", \"3\", \"4\", \"5\", \"6\", \"7\", \"8\", \"9\", \"10\", \"11\", \"12\", \"13\", \"14\", \"15\", \"16\", \"17\", \"18\", \"19\"], \"mode\": \"lines\", \"name\": \"spearman_correlation_max\", \"stepped\": true, \"type\": \"scatter\", \"data\": [0.9233660579005828, 0.9233660579005828, 0.9233660579005828, 0.9233660579005828, 0.9270695041803086, 0.9270695041803086, 0.9270695041803086, 0.9270695041803086, 0.9270695041803086, 0.9270695041803086, 0.9270695041803086, 0.9270695041803086, 0.9270695041803086, 0.9270695041803086, 0.9270695041803086, 0.9270695041803086, 0.9270695041803086, 0.9270695041803086, 0.9277169375929726, 0.9277169375929726]}], \"normalized_mean_absolute_error\": [{\"categories\": [\"0\", \"1\", \"2\", \"3\", \"4\", \"5\", \"6\", \"7\", \"8\", \"9\", \"10\", \"11\", \"12\", \"13\", \"14\", \"15\", \"16\", \"17\", \"18\", \"19\"], \"mode\": \"markers\", \"name\": \"normalized_mean_absolute_error\", \"stepped\": false, \"type\": \"scatter\", \"data\": [0.06469756289312828, 0.07794178778352058, 0.0934989108877086, 0.08710919076429671, 0.06313578701961756, 0.10252316997271095, 0.09163242568192052, 0.06542832093283361, 0.09008442903357262, 0.10261718265944661, 0.0815569765440147, 0.08688056433747039, 0.07620654507376379, 0.08796211047482082, 0.13035703647498081, 0.0911490269045933, 0.1055798905688041, 0.1090958017212219, 0.06286445353284707, 0.06262931349222348]}, {\"categories\": [\"0\", \"1\", \"2\", \"3\", \"4\", \"5\", \"6\", \"7\", \"8\", \"9\", \"10\", \"11\", \"12\", \"13\", \"14\", \"15\", \"16\", \"17\", \"18\", \"19\"], \"mode\": \"lines\", \"name\": \"normalized_mean_absolute_error_min\", \"stepped\": true, \"type\": \"scatter\", \"data\": [0.06469756289312828, 0.06469756289312828, 0.06469756289312828, 0.06469756289312828, 0.06313578701961756, 0.06313578701961756, 0.06313578701961756, 0.06313578701961756, 0.06313578701961756, 0.06313578701961756, 0.06313578701961756, 0.06313578701961756, 0.06313578701961756, 0.06313578701961756, 0.06313578701961756, 0.06313578701961756, 0.06313578701961756, 0.06313578701961756, 0.06286445353284707, 0.06262931349222348]}], \"normalized_root_mean_squared_error\": [{\"categories\": [\"0\", \"1\", \"2\", \"3\", \"4\", \"5\", \"6\", \"7\", \"8\", \"9\", \"10\", \"11\", \"12\", \"13\", \"14\", \"15\", \"16\", \"17\", \"18\", \"19\"], \"mode\": \"markers\", \"name\": \"normalized_root_mean_squared_error\", \"stepped\": false, \"type\": \"scatter\", \"data\": [0.09713847474873313, 0.11270169536623058, 0.13150895022810824, 0.12418097226648696, 0.09564607520992013, 0.14065011916879797, 0.13254885904350114, 0.09770799007684366, 0.12980456142225946, 0.14120438390928397, 0.11700268961260672, 0.12296305792346185, 0.11694838210950317, 0.12812443862677247, 0.17215347859973243, 0.13090034180652668, 0.14579077469702212, 0.15066535126336933, 0.09513936197164442, 0.09519013279304384]}, {\"categories\": [\"0\", \"1\", \"2\", \"3\", \"4\", \"5\", \"6\", \"7\", \"8\", \"9\", \"10\", \"11\", \"12\", \"13\", \"14\", \"15\", \"16\", \"17\", \"18\", \"19\"], \"mode\": \"lines\", \"name\": \"normalized_root_mean_squared_error_min\", \"stepped\": true, \"type\": \"scatter\", \"data\": [0.09713847474873313, 0.09713847474873313, 0.09713847474873313, 0.09713847474873313, 0.09564607520992013, 0.09564607520992013, 0.09564607520992013, 0.09564607520992013, 0.09564607520992013, 0.09564607520992013, 0.09564607520992013, 0.09564607520992013, 0.09564607520992013, 0.09564607520992013, 0.09564607520992013, 0.09564607520992013, 0.09564607520992013, 0.09564607520992013, 0.09513936197164442, 0.09513936197164442]}], \"median_absolute_error\": [{\"categories\": [\"0\", \"1\", \"2\", \"3\", \"4\", \"5\", \"6\", \"7\", \"8\", \"9\", \"10\", \"11\", \"12\", \"13\", \"14\", \"15\", \"16\", \"17\", \"18\", \"19\"], \"mode\": \"markers\", \"name\": \"median_absolute_error\", \"stepped\": false, \"type\": \"scatter\", \"data\": [20508.413770903004, 26570.265625, 31585.921875, 30231.97423374046, 19638.0234375, 37448.32479623938, 30793.768170578907, 21550.0859375, 30716.132733567472, 37230.43994884635, 28035.746442074786, 30947.407355126168, 23553.890625, 28809.948793215968, 49704.28883235445, 31002.664198418555, 38156.69054389368, 39328.729123567435, 19905.220327147093, 19642.08151922979]}, {\"categories\": [\"0\", \"1\", \"2\", \"3\", \"4\", \"5\", \"6\", \"7\", \"8\", \"9\", \"10\", \"11\", \"12\", \"13\", \"14\", \"15\", \"16\", \"17\", \"18\", \"19\"], \"mode\": \"lines\", \"name\": \"median_absolute_error_min\", \"stepped\": true, \"type\": \"scatter\", \"data\": [20508.413770903004, 20508.413770903004, 20508.413770903004, 20508.413770903004, 19638.0234375, 19638.0234375, 19638.0234375, 19638.0234375, 19638.0234375, 19638.0234375, 19638.0234375, 19638.0234375, 19638.0234375, 19638.0234375, 19638.0234375, 19638.0234375, 19638.0234375, 19638.0234375, 19638.0234375, 19638.0234375]}], \"mean_absolute_error\": [{\"categories\": [\"0\", \"1\", \"2\", \"3\", \"4\", \"5\", \"6\", \"7\", \"8\", \"9\", \"10\", \"11\", \"12\", \"13\", \"14\", \"15\", \"16\", \"17\", \"18\", \"19\"], \"mode\": \"markers\", \"name\": \"mean_absolute_error\", \"stepped\": false, \"type\": \"scatter\", \"data\": [31378.447398293, 37801.92295858305, 45347.15877836045, 42248.13173906544, 30620.98297608855, 49723.94248310476, 44441.909720582815, 31732.86650906617, 43691.12825014079, 49769.53882419693, 39555.296737800214, 42137.24746480182, 36960.326773865585, 42661.79950450904, 63223.42340443864, 44207.46034678156, 51206.458085651124, 52911.68202639606, 30489.385692337895, 30375.34230235537]}, {\"categories\": [\"0\", \"1\", \"2\", \"3\", \"4\", \"5\", \"6\", \"7\", \"8\", \"9\", \"10\", \"11\", \"12\", \"13\", \"14\", \"15\", \"16\", \"17\", \"18\", \"19\"], \"mode\": \"lines\", \"name\": \"mean_absolute_error_min\", \"stepped\": true, \"type\": \"scatter\", \"data\": [31378.447398293, 31378.447398293, 31378.447398293, 31378.447398293, 30620.98297608855, 30620.98297608855, 30620.98297608855, 30620.98297608855, 30620.98297608855, 30620.98297608855, 30620.98297608855, 30620.98297608855, 30620.98297608855, 30620.98297608855, 30620.98297608855, 30620.98297608855, 30620.98297608855, 30620.98297608855, 30489.385692337895, 30375.34230235537]}], \"mean_absolute_percentage_error\": [{\"categories\": [\"0\", \"1\", \"2\", \"3\", \"4\", \"5\", \"6\", \"7\", \"8\", \"9\", \"10\", \"11\", \"12\", \"13\", \"14\", \"15\", \"16\", \"17\", \"18\", \"19\"], \"mode\": \"markers\", \"name\": \"mean_absolute_percentage_error\", \"stepped\": false, \"type\": \"scatter\", \"data\": [17.35210306301809, 21.20780794504015, 25.581758414592873, 23.641969634222402, 16.91594825316955, 28.720893798608515, 24.45811161503411, 17.71978952609078, 24.084902319956317, 28.417520435336012, 22.374404682751504, 24.141832974394745, 18.371201311017355, 23.517625495077542, 37.701153092331815, 24.477238924412717, 28.88214457275614, 29.6035941531397, 16.847619375684243, 16.566614295451703]}, {\"categories\": [\"0\", \"1\", \"2\", \"3\", \"4\", \"5\", \"6\", \"7\", \"8\", \"9\", \"10\", \"11\", \"12\", \"13\", \"14\", \"15\", \"16\", \"17\", \"18\", \"19\"], \"mode\": \"lines\", \"name\": \"mean_absolute_percentage_error_min\", \"stepped\": true, \"type\": \"scatter\", \"data\": [17.35210306301809, 17.35210306301809, 17.35210306301809, 17.35210306301809, 16.91594825316955, 16.91594825316955, 16.91594825316955, 16.91594825316955, 16.91594825316955, 16.91594825316955, 16.91594825316955, 16.91594825316955, 16.91594825316955, 16.91594825316955, 16.91594825316955, 16.91594825316955, 16.91594825316955, 16.91594825316955, 16.847619375684243, 16.566614295451703]}], \"normalized_root_mean_squared_log_error\": [{\"categories\": [\"0\", \"1\", \"2\", \"3\", \"4\", \"5\", \"6\", \"7\", \"8\", \"9\", \"10\", \"11\", \"12\", \"13\", \"14\", \"15\", \"16\", \"17\", \"18\", \"19\"], \"mode\": \"markers\", \"name\": \"normalized_root_mean_squared_log_error\", \"stepped\": false, \"type\": \"scatter\", \"data\": [0.06494360217010152, 0.07535847030241491, 0.088693620481851, 0.08093635606620449, 0.06370725993992095, NaN, 0.08527693020044812, 0.06594702881391033, 0.08318575870780863, NaN, 0.07714810872594528, 0.08168300832574289, 0.07178284198415832, 0.08241000316208617, 0.1152299365079646, 0.08420435733380131, NaN, 0.09765777858579039, 0.06338381464132324, 0.06314115092476595]}, {\"categories\": [\"0\", \"1\", \"2\", \"3\", \"4\", \"5\", \"6\", \"7\", \"8\", \"9\", \"10\", \"11\", \"12\", \"13\", \"14\", \"15\", \"16\", \"17\", \"18\", \"19\"], \"mode\": \"lines\", \"name\": \"normalized_root_mean_squared_log_error_min\", \"stepped\": true, \"type\": \"scatter\", \"data\": [0.06494360217010152, 0.06494360217010152, 0.06494360217010152, 0.06494360217010152, 0.06370725993992095, 0.06370725993992095, 0.06370725993992095, 0.06370725993992095, 0.06370725993992095, 0.06370725993992095, 0.06370725993992095, 0.06370725993992095, 0.06370725993992095, 0.06370725993992095, 0.06370725993992095, 0.06370725993992095, 0.06370725993992095, 0.06370725993992095, 0.06338381464132324, 0.06314115092476595]}], \"normalized_median_absolute_error\": [{\"categories\": [\"0\", \"1\", \"2\", \"3\", \"4\", \"5\", \"6\", \"7\", \"8\", \"9\", \"10\", \"11\", \"12\", \"13\", \"14\", \"15\", \"16\", \"17\", \"18\", \"19\"], \"mode\": \"markers\", \"name\": \"normalized_median_absolute_error\", \"stepped\": false, \"type\": \"scatter\", \"data\": [0.042285214846336724, 0.05478382692236321, 0.0651253435552843, 0.06233371044601973, 0.04049060300266803, 0.07721272241400938, 0.06349204368348771, 0.04443298365264473, 0.06333197127757714, 0.07676347715854027, 0.05780542439428041, 0.06380882420098509, 0.04856452267207145, 0.059401711319161506, 0.10248264714857763, 0.06392275536682025, 0.07867326432446399, 0.08108982875032976, 0.04104152215278925, 0.040498970146988646]}, {\"categories\": [\"0\", \"1\", \"2\", \"3\", \"4\", \"5\", \"6\", \"7\", \"8\", \"9\", \"10\", \"11\", \"12\", \"13\", \"14\", \"15\", \"16\", \"17\", \"18\", \"19\"], \"mode\": \"lines\", \"name\": \"normalized_median_absolute_error_min\", \"stepped\": true, \"type\": \"scatter\", \"data\": [0.042285214846336724, 0.042285214846336724, 0.042285214846336724, 0.042285214846336724, 0.04049060300266803, 0.04049060300266803, 0.04049060300266803, 0.04049060300266803, 0.04049060300266803, 0.04049060300266803, 0.04049060300266803, 0.04049060300266803, 0.04049060300266803, 0.04049060300266803, 0.04049060300266803, 0.04049060300266803, 0.04049060300266803, 0.04049060300266803, 0.04049060300266803, 0.04049060300266803]}]}, \"metricName\": null, \"primaryMetricName\": \"r2_score\", \"showLegend\": false}, \"run_metrics\": [{\"name\": \"experiment_status\", \"run_id\": \"AutoML_0d99916a-5d12-4288-924d-a245a9337929\", \"categories\": [0, 1, 2, 3, 4], \"series\": [{\"data\": [\"DatasetEvaluation\", \"FeaturesGeneration\", \"DatasetFeaturization\", \"DatasetFeaturizationCompleted\", \"ModelSelection\"]}]}, {\"name\": \"experiment_status_description\", \"run_id\": \"AutoML_0d99916a-5d12-4288-924d-a245a9337929\", \"categories\": [0, 1, 2, 3, 4], \"series\": [{\"data\": [\"Gathering dataset statistics.\", \"Generating features for the dataset.\", \"Beginning to fit featurizers and featurize the dataset.\", \"Completed fit featurizers and featurizing the dataset.\", \"Beginning model selection.\"]}]}, {\"name\": \"normalized_root_mean_squared_log_error\", \"run_id\": \"AutoML_0d99916a-5d12-4288-924d-a245a9337929\", \"categories\": [0], \"series\": [{\"data\": [0.06338381464132324]}]}, {\"name\": \"normalized_median_absolute_error\", \"run_id\": \"AutoML_0d99916a-5d12-4288-924d-a245a9337929\", \"categories\": [0], \"series\": [{\"data\": [0.04104152215278925]}]}, {\"name\": \"mean_absolute_error\", \"run_id\": \"AutoML_0d99916a-5d12-4288-924d-a245a9337929\", \"categories\": [0], \"series\": [{\"data\": [30489.385692337895]}]}, {\"name\": \"root_mean_squared_log_error\", \"run_id\": \"AutoML_0d99916a-5d12-4288-924d-a245a9337929\", \"categories\": [0], \"series\": [{\"data\": [0.22225926932754933]}]}, {\"name\": \"mean_absolute_percentage_error\", \"run_id\": \"AutoML_0d99916a-5d12-4288-924d-a245a9337929\", \"categories\": [0], \"series\": [{\"data\": [16.847619375684243]}]}, {\"name\": \"normalized_root_mean_squared_error\", \"run_id\": \"AutoML_0d99916a-5d12-4288-924d-a245a9337929\", \"categories\": [0], \"series\": [{\"data\": [0.09513936197164442]}]}, {\"name\": \"explained_variance\", \"run_id\": \"AutoML_0d99916a-5d12-4288-924d-a245a9337929\", \"categories\": [0], \"series\": [{\"data\": [0.8455784812684746]}]}, {\"name\": \"root_mean_squared_error\", \"run_id\": \"AutoML_0d99916a-5d12-4288-924d-a245a9337929\", \"categories\": [0], \"series\": [{\"data\": [46142.78083497149]}]}, {\"name\": \"spearman_correlation\", \"run_id\": \"AutoML_0d99916a-5d12-4288-924d-a245a9337929\", \"categories\": [0], \"series\": [{\"data\": [0.9277169375929726]}]}, {\"name\": \"median_absolute_error\", \"run_id\": \"AutoML_0d99916a-5d12-4288-924d-a245a9337929\", \"categories\": [0], \"series\": [{\"data\": [19905.220327147093]}]}, {\"name\": \"r2_score\", \"run_id\": \"AutoML_0d99916a-5d12-4288-924d-a245a9337929\", \"categories\": [0], \"series\": [{\"data\": [0.8455589515361349]}]}, {\"name\": \"normalized_mean_absolute_error\", \"run_id\": \"AutoML_0d99916a-5d12-4288-924d-a245a9337929\", \"categories\": [0], \"series\": [{\"data\": [0.06286445353284707]}]}], \"run_logs\": \"\\nRun is completed.\", \"graph\": {}, \"widget_settings\": {\"childWidgetDisplay\": \"popup\", \"send_telemetry\": false, \"log_level\": \"INFO\", \"sdk_version\": \"1.20.0\"}, \"loading\": false}"
          },
          "metadata": {}
        },
        {
          "output_type": "execute_result",
          "execution_count": 6,
          "data": {
            "text/plain": "{'runId': 'AutoML_0d99916a-5d12-4288-924d-a245a9337929',\n 'target': 'compute-housing',\n 'status': 'Completed',\n 'startTimeUtc': '2021-02-07T18:38:14.473308Z',\n 'endTimeUtc': '2021-02-07T18:57:23.260737Z',\n 'properties': {'num_iterations': '20',\n  'training_type': 'TrainFull',\n  'acquisition_function': 'EI',\n  'primary_metric': 'r2_score',\n  'train_split': '0',\n  'acquisition_parameter': '0',\n  'num_cross_validation': None,\n  'target': 'compute-housing',\n  'AMLSettingsJsonString': '{\"path\":null,\"name\":\"AutoML-housing\",\"subscription_id\":\"9a7511b8-150f-4a58-8528-3e7d50216c31\",\"resource_group\":\"aml-quickstarts-137963\",\"workspace_name\":\"quick-starts-ws-137963\",\"region\":\"southcentralus\",\"compute_target\":\"compute-housing\",\"spark_service\":null,\"azure_service\":\"remote\",\"many_models\":false,\"pipeline_fetch_max_batch_size\":1,\"iterations\":20,\"primary_metric\":\"r2_score\",\"task_type\":\"regression\",\"data_script\":null,\"validation_size\":0.0,\"n_cross_validations\":null,\"y_min\":null,\"y_max\":null,\"num_classes\":null,\"featurization\":\"auto\",\"_ignore_package_version_incompatibilities\":false,\"is_timeseries\":false,\"max_cores_per_iteration\":1,\"max_concurrent_iterations\":5,\"iteration_timeout_minutes\":null,\"mem_in_mb\":null,\"enforce_time_on_windows\":false,\"experiment_timeout_minutes\":20,\"experiment_exit_score\":null,\"whitelist_models\":null,\"blacklist_algos\":[\"TensorFlowDNN\",\"TensorFlowLinearRegressor\"],\"supported_models\":[\"ElasticNet\",\"RandomForest\",\"GradientBoosting\",\"ExtremeRandomTrees\",\"XGBoostRegressor\",\"KNN\",\"LightGBM\",\"LassoLars\",\"TensorFlowDNN\",\"FastLinearRegressor\",\"OnlineGradientDescentRegressor\",\"DecisionTree\",\"SGD\",\"TensorFlowLinearRegressor\"],\"auto_blacklist\":true,\"blacklist_samples_reached\":false,\"exclude_nan_labels\":true,\"verbosity\":20,\"_debug_log\":\"azureml_automl.log\",\"show_warnings\":false,\"model_explainability\":true,\"service_url\":null,\"sdk_url\":null,\"sdk_packages\":null,\"enable_onnx_compatible_models\":false,\"enable_split_onnx_featurizer_estimator_models\":false,\"vm_type\":\"STANDARD_D2_V2\",\"telemetry_verbosity\":20,\"send_telemetry\":true,\"enable_dnn\":false,\"scenario\":\"SDK-1.13.0\",\"environment_label\":null,\"force_text_dnn\":false,\"enable_feature_sweeping\":true,\"enable_early_stopping\":true,\"early_stopping_n_iters\":10,\"metrics\":null,\"enable_ensembling\":true,\"enable_stack_ensembling\":true,\"ensemble_iterations\":15,\"enable_tf\":false,\"enable_subsampling\":false,\"subsample_seed\":null,\"enable_nimbusml\":false,\"enable_streaming\":false,\"force_streaming\":false,\"track_child_runs\":true,\"allowed_private_models\":[],\"label_column_name\":\"median_house_value\",\"weight_column_name\":null,\"cv_split_column_names\":null,\"enable_local_managed\":false,\"_local_managed_run_id\":null,\"cost_mode\":1,\"lag_length\":0,\"metric_operation\":\"maximize\",\"preprocess\":true}',\n  'DataPrepJsonString': '{\\\\\"training_data\\\\\": \\\\\"{\\\\\\\\\\\\\"blocks\\\\\\\\\\\\\": [{\\\\\\\\\\\\\"id\\\\\\\\\\\\\": \\\\\\\\\\\\\"47b0a56d-c106-4b59-afd1-6a375589a111\\\\\\\\\\\\\", \\\\\\\\\\\\\"type\\\\\\\\\\\\\": \\\\\\\\\\\\\"Microsoft.DPrep.GetDatastoreFilesBlock\\\\\\\\\\\\\", \\\\\\\\\\\\\"arguments\\\\\\\\\\\\\": {\\\\\\\\\\\\\"datastores\\\\\\\\\\\\\": [{\\\\\\\\\\\\\"datastoreName\\\\\\\\\\\\\": \\\\\\\\\\\\\"workspaceblobstore\\\\\\\\\\\\\", \\\\\\\\\\\\\"path\\\\\\\\\\\\\": \\\\\\\\\\\\\"managed-dataset/bd2e758d-4831-4d2a-a381-6ddc8964f22e/\\\\\\\\\\\\\", \\\\\\\\\\\\\"resourceGroup\\\\\\\\\\\\\": \\\\\\\\\\\\\"aml-quickstarts-137963\\\\\\\\\\\\\", \\\\\\\\\\\\\"subscription\\\\\\\\\\\\\": \\\\\\\\\\\\\"9a7511b8-150f-4a58-8528-3e7d50216c31\\\\\\\\\\\\\", \\\\\\\\\\\\\"workspaceName\\\\\\\\\\\\\": \\\\\\\\\\\\\"quick-starts-ws-137963\\\\\\\\\\\\\"}]}, \\\\\\\\\\\\\"localData\\\\\\\\\\\\\": {}, \\\\\\\\\\\\\"isEnabled\\\\\\\\\\\\\": true, \\\\\\\\\\\\\"name\\\\\\\\\\\\\": null, \\\\\\\\\\\\\"annotation\\\\\\\\\\\\\": null}, {\\\\\\\\\\\\\"id\\\\\\\\\\\\\": \\\\\\\\\\\\\"a7d2529e-3e75-4302-8d4e-6ab454b0ada9\\\\\\\\\\\\\", \\\\\\\\\\\\\"type\\\\\\\\\\\\\": \\\\\\\\\\\\\"Microsoft.DPrep.ReadParquetFileBlock\\\\\\\\\\\\\", \\\\\\\\\\\\\"arguments\\\\\\\\\\\\\": {\\\\\\\\\\\\\"preview\\\\\\\\\\\\\": false}, \\\\\\\\\\\\\"localData\\\\\\\\\\\\\": {}, \\\\\\\\\\\\\"isEnabled\\\\\\\\\\\\\": true, \\\\\\\\\\\\\"name\\\\\\\\\\\\\": null, \\\\\\\\\\\\\"annotation\\\\\\\\\\\\\": null}, {\\\\\\\\\\\\\"id\\\\\\\\\\\\\": \\\\\\\\\\\\\"4e6d5775-9478-45a3-b155-cf6c32c0ee78\\\\\\\\\\\\\", \\\\\\\\\\\\\"type\\\\\\\\\\\\\": \\\\\\\\\\\\\"Microsoft.DPrep.DropColumnsBlock\\\\\\\\\\\\\", \\\\\\\\\\\\\"arguments\\\\\\\\\\\\\": {\\\\\\\\\\\\\"columns\\\\\\\\\\\\\": {\\\\\\\\\\\\\"type\\\\\\\\\\\\\": 0, \\\\\\\\\\\\\"details\\\\\\\\\\\\\": {\\\\\\\\\\\\\"selectedColumns\\\\\\\\\\\\\": [\\\\\\\\\\\\\"Path\\\\\\\\\\\\\"]}}}, \\\\\\\\\\\\\"localData\\\\\\\\\\\\\": {}, \\\\\\\\\\\\\"isEnabled\\\\\\\\\\\\\": true, \\\\\\\\\\\\\"name\\\\\\\\\\\\\": null, \\\\\\\\\\\\\"annotation\\\\\\\\\\\\\": null}], \\\\\\\\\\\\\"inspectors\\\\\\\\\\\\\": [], \\\\\\\\\\\\\"meta\\\\\\\\\\\\\": {\\\\\\\\\\\\\"savedDatasetId\\\\\\\\\\\\\": \\\\\\\\\\\\\"60b752b9-348f-40ee-96ca-c3a48698a2e4\\\\\\\\\\\\\", \\\\\\\\\\\\\"datasetType\\\\\\\\\\\\\": \\\\\\\\\\\\\"tabular\\\\\\\\\\\\\", \\\\\\\\\\\\\"subscriptionId\\\\\\\\\\\\\": \\\\\\\\\\\\\"9a7511b8-150f-4a58-8528-3e7d50216c31\\\\\\\\\\\\\", \\\\\\\\\\\\\"workspaceId\\\\\\\\\\\\\": \\\\\\\\\\\\\"dfebf728-aaa4-4543-8640-60315de13f19\\\\\\\\\\\\\", \\\\\\\\\\\\\"workspaceLocation\\\\\\\\\\\\\": \\\\\\\\\\\\\"southcentralus\\\\\\\\\\\\\"}}\\\\\", \\\\\"activities\\\\\": 0}',\n  'EnableSubsampling': 'False',\n  'runTemplate': 'AutoML',\n  'azureml.runsource': 'automl',\n  'display_task_type': 'regression',\n  'dependencies_versions': '{\"azureml-widgets\": \"1.20.0\", \"azureml-train\": \"1.20.0\", \"azureml-train-restclients-hyperdrive\": \"1.20.0\", \"azureml-train-core\": \"1.20.0\", \"azureml-train-automl\": \"1.20.0\", \"azureml-train-automl-runtime\": \"1.20.0\", \"azureml-train-automl-client\": \"1.20.0\", \"azureml-tensorboard\": \"1.20.0\", \"azureml-telemetry\": \"1.20.0\", \"azureml-sdk\": \"1.20.0\", \"azureml-samples\": \"0+unknown\", \"azureml-pipeline\": \"1.20.0\", \"azureml-pipeline-steps\": \"1.20.0\", \"azureml-pipeline-core\": \"1.20.0\", \"azureml-opendatasets\": \"1.20.0\", \"azureml-model-management-sdk\": \"1.0.1b6.post1\", \"azureml-mlflow\": \"1.20.0.post1\", \"azureml-interpret\": \"1.20.0\", \"azureml-explain-model\": \"1.20.0\", \"azureml-defaults\": \"1.20.0\", \"azureml-dataset-runtime\": \"1.20.0\", \"azureml-dataprep\": \"2.7.3\", \"azureml-dataprep-rslex\": \"1.5.0\", \"azureml-dataprep-native\": \"27.0.0\", \"azureml-datadrift\": \"1.20.0\", \"azureml-core\": \"1.20.0\", \"azureml-contrib-services\": \"1.20.0\", \"azureml-contrib-server\": \"1.20.0\", \"azureml-contrib-reinforcementlearning\": \"1.20.0\", \"azureml-contrib-pipeline-steps\": \"1.20.0\", \"azureml-contrib-notebook\": \"1.20.0\", \"azureml-contrib-interpret\": \"1.20.0\", \"azureml-contrib-gbdt\": \"1.20.0\", \"azureml-contrib-fairness\": \"1.20.0\", \"azureml-contrib-dataset\": \"1.20.0\", \"azureml-cli-common\": \"1.20.0\", \"azureml-automl-runtime\": \"1.20.0\", \"azureml-automl-core\": \"1.20.0\", \"azureml-accel-models\": \"1.20.0\"}',\n  '_aml_system_scenario_identification': 'Remote.Parent',\n  'ClientType': 'SDK',\n  'environment_cpu_name': 'AzureML-AutoML',\n  'environment_cpu_label': 'prod',\n  'environment_gpu_name': 'AzureML-AutoML-GPU',\n  'environment_gpu_label': 'prod',\n  'root_attribution': 'automl',\n  'attribution': 'AutoML',\n  'Orchestrator': 'AutoML',\n  'CancelUri': 'https://southcentralus.experiments.azureml.net/jasmine/v1.0/subscriptions/9a7511b8-150f-4a58-8528-3e7d50216c31/resourceGroups/aml-quickstarts-137963/providers/Microsoft.MachineLearningServices/workspaces/quick-starts-ws-137963/experimentids/8e4d34a9-bc9b-45aa-8e9c-bffabfee9a9f/cancel/AutoML_0d99916a-5d12-4288-924d-a245a9337929',\n  'ClientSdkVersion': '1.21.0',\n  'snapshotId': '00000000-0000-0000-0000-000000000000',\n  'SetupRunId': 'AutoML_0d99916a-5d12-4288-924d-a245a9337929_setup',\n  'SetupRunContainerId': 'dcid.AutoML_0d99916a-5d12-4288-924d-a245a9337929_setup',\n  'FeaturizationRunJsonPath': 'featurizer_container.json',\n  'FeaturizationRunId': 'AutoML_0d99916a-5d12-4288-924d-a245a9337929_featurize',\n  'ProblemInfoJsonString': '{\"dataset_num_categorical\": 0, \"is_sparse\": true, \"subsampling\": false, \"dataset_classes\": 3752, \"dataset_features\": 13, \"dataset_samples\": 18389, \"single_frequency_class_detected\": false}',\n  'ModelExplainRunId': 'AutoML_0d99916a-5d12-4288-924d-a245a9337929_ModelExplain'},\n 'inputDatasets': [{'dataset': {'id': '60b752b9-348f-40ee-96ca-c3a48698a2e4'}, 'consumptionDetails': {'type': 'RunInput', 'inputName': 'training_data', 'mechanism': 'Direct'}}],\n 'outputDatasets': [],\n 'logFiles': {},\n 'submittedBy': 'ODL_User 137963'}"
          },
          "metadata": {}
        }
      ],
      "execution_count": 6,
      "metadata": {
        "collapsed": true,
        "jupyter": {
          "source_hidden": false,
          "outputs_hidden": false
        },
        "nteract": {
          "transient": {
            "deleting": false
          }
        },
        "gather": {
          "logged": 1612724246681
        }
      }
    },
    {
      "cell_type": "markdown",
      "source": [
        "## Best Model\n",
        "\n",
        "TODO: In the cell below, get the best model from the automl experiments and display all the properties of the model.\n",
        "\n"
      ],
      "metadata": {}
    },
    {
      "cell_type": "code",
      "source": [
        "#save the best model using joblib\r\n",
        "best_automl_run, best_automl_model = automl_run.get_output()\r\n",
        "os.makedirs('./outputs_automl', exist_ok = True)\r\n",
        "ml_path = r'./outputs_automl/model_best.joblib'\r\n",
        "joblib.dump(value = best_automl_model, filename = ml_path)"
      ],
      "outputs": [
        {
          "output_type": "stream",
          "name": "stderr",
          "text": [
            "WARNING:root:The version of the SDK does not match the version the model was trained on.\n",
            "WARNING:root:The consistency in the result may not be guaranteed.\n",
            "WARNING:root:Package:azureml-automl-core, training version:1.21.0, current version:1.20.0\n",
            "Package:azureml-automl-runtime, training version:1.21.0, current version:1.20.0\n",
            "Package:azureml-core, training version:1.21.0.post1, current version:1.20.0\n",
            "Package:azureml-dataprep, training version:2.8.2, current version:2.7.3\n",
            "Package:azureml-dataprep-native, training version:28.0.0, current version:27.0.0\n",
            "Package:azureml-dataprep-rslex, training version:1.6.0, current version:1.5.0\n",
            "Package:azureml-dataset-runtime, training version:1.21.0, current version:1.20.0\n",
            "Package:azureml-defaults, training version:1.21.0, current version:1.20.0\n",
            "Package:azureml-interpret, training version:1.21.0, current version:1.20.0\n",
            "Package:azureml-pipeline-core, training version:1.21.0, current version:1.20.0\n",
            "Package:azureml-telemetry, training version:1.21.0, current version:1.20.0\n",
            "Package:azureml-train-automl-client, training version:1.21.0, current version:1.20.0\n",
            "Package:azureml-train-automl-runtime, training version:1.21.0, current version:1.20.0\n",
            "WARNING:root:Please ensure the version of your local conda dependencies match the version on which your model was trained in order to properly retrieve your model.\n"
          ]
        },
        {
          "output_type": "execute_result",
          "execution_count": 7,
          "data": {
            "text/plain": "['./outputs_automl/model_best.joblib']"
          },
          "metadata": {}
        }
      ],
      "execution_count": 7,
      "metadata": {
        "collapsed": true,
        "jupyter": {
          "source_hidden": false,
          "outputs_hidden": false
        },
        "nteract": {
          "transient": {
            "deleting": false
          }
        },
        "gather": {
          "logged": 1612724264042
        }
      }
    },
    {
      "cell_type": "code",
      "source": [
        "print(best_automl_run)"
      ],
      "outputs": [
        {
          "output_type": "stream",
          "name": "stdout",
          "text": [
            "Run(Experiment: AutoML-housing,\n",
            "Id: AutoML_0d99916a-5d12-4288-924d-a245a9337929_18,\n",
            "Type: azureml.scriptrun,\n",
            "Status: Completed)\n"
          ]
        }
      ],
      "execution_count": 8,
      "metadata": {
        "collapsed": true,
        "jupyter": {
          "source_hidden": false,
          "outputs_hidden": false
        },
        "nteract": {
          "transient": {
            "deleting": false
          }
        },
        "gather": {
          "logged": 1612724264134
        }
      }
    },
    {
      "cell_type": "code",
      "source": [
        "print(best_automl_model.steps[1][1])"
      ],
      "outputs": [
        {
          "output_type": "stream",
          "name": "stdout",
          "text": [
            "PreFittedSoftVotingRegressor(estimators=[('4',\n",
            "                                          Pipeline(memory=None,\n",
            "                                                   steps=[('standardscalerwrapper',\n",
            "                                                           <azureml.automl.runtime.shared.model_wrappers.StandardScalerWrapper object at 0x7fe4b4a116a0>),\n",
            "                                                          ('xgboostregressor',\n",
            "                                                           XGBoostRegressor(base_score=0.5,\n",
            "                                                                            booster='gbtree',\n",
            "                                                                            colsample_bylevel=1,\n",
            "                                                                            colsample_bynode=1,\n",
            "                                                                            colsample_bytree=0.9,\n",
            "                                                                            eta=0.5,\n",
            "                                                                            gamma=0,\n",
            "                                                                            importance_typ...\n",
            "                                                                            max_leaves=0,\n",
            "                                                                            min_child_weight=1,\n",
            "                                                                            missing=nan,\n",
            "                                                                            n_estimators=100,\n",
            "                                                                            n_jobs=1,\n",
            "                                                                            nthread=None,\n",
            "                                                                            objective='reg:squarederror',\n",
            "                                                                            random_state=0,\n",
            "                                                                            reg_alpha=0.3125,\n",
            "                                                                            reg_lambda=1.1458333333333335,\n",
            "                                                                            scale_pos_weight=1,\n",
            "                                                                            seed=None,\n",
            "                                                                            silent=None,\n",
            "                                                                            subsample=0.9,\n",
            "                                                                            tree_method='auto',\n",
            "                                                                            verbose=-10,\n",
            "                                                                            verbosity=0))],\n",
            "                                                   verbose=False))],\n",
            "                             weights=[0.6428571428571429, 0.2857142857142857,\n",
            "                                      0.07142857142857142])\n"
          ]
        }
      ],
      "execution_count": 35,
      "metadata": {
        "collapsed": true,
        "jupyter": {
          "source_hidden": false,
          "outputs_hidden": false
        },
        "nteract": {
          "transient": {
            "deleting": false
          }
        },
        "gather": {
          "logged": 1612732742237
        }
      }
    },
    {
      "cell_type": "code",
      "source": [
        "#register the best model using model name\r\n",
        "model_name = best_automl_run.properties['model_name']\r\n",
        "automl_model = automl_run.register_model(model_name = model_name)"
      ],
      "outputs": [],
      "execution_count": 10,
      "metadata": {
        "collapsed": true,
        "jupyter": {
          "source_hidden": false,
          "outputs_hidden": false
        },
        "nteract": {
          "transient": {
            "deleting": false
          }
        },
        "gather": {
          "logged": 1612724264885
        }
      }
    },
    {
      "cell_type": "code",
      "source": [
        "best_automl_run.get_metrics()"
      ],
      "outputs": [
        {
          "output_type": "execute_result",
          "execution_count": 11,
          "data": {
            "text/plain": "{'median_absolute_error': 19905.220327147093,\n 'root_mean_squared_log_error': 0.22225926932754933,\n 'root_mean_squared_error': 46142.78083497149,\n 'normalized_root_mean_squared_error': 0.09513936197164442,\n 'spearman_correlation': 0.9277169375929726,\n 'normalized_median_absolute_error': 0.04104152215278925,\n 'normalized_root_mean_squared_log_error': 0.06338381464132324,\n 'mean_absolute_percentage_error': 16.847619375684243,\n 'explained_variance': 0.8455784812684746,\n 'normalized_mean_absolute_error': 0.06286445353284707,\n 'r2_score': 0.8455589515361349,\n 'mean_absolute_error': 30489.385692337895,\n 'residuals': 'aml://artifactId/ExperimentRun/dcid.AutoML_0d99916a-5d12-4288-924d-a245a9337929_18/residuals',\n 'predicted_true': 'aml://artifactId/ExperimentRun/dcid.AutoML_0d99916a-5d12-4288-924d-a245a9337929_18/predicted_true'}"
          },
          "metadata": {}
        }
      ],
      "execution_count": 11,
      "metadata": {
        "collapsed": true,
        "jupyter": {
          "source_hidden": false,
          "outputs_hidden": false
        },
        "nteract": {
          "transient": {
            "deleting": false
          }
        },
        "gather": {
          "logged": 1612724266930
        }
      }
    },
    {
      "cell_type": "code",
      "source": [
        "#display the properties of the best model\r\n",
        "best_automl_run.get_properties()"
      ],
      "outputs": [
        {
          "output_type": "execute_result",
          "execution_count": 12,
          "data": {
            "text/plain": "{'runTemplate': 'automl_child',\n 'pipeline_id': '__AutoML_Ensemble__',\n 'pipeline_spec': '{\"pipeline_id\":\"__AutoML_Ensemble__\",\"objects\":[{\"module\":\"azureml.train.automl.ensemble\",\"class_name\":\"Ensemble\",\"spec_class\":\"sklearn\",\"param_args\":[],\"param_kwargs\":{\"automl_settings\":\"{\\'task_type\\':\\'regression\\',\\'primary_metric\\':\\'r2_score\\',\\'verbosity\\':20,\\'ensemble_iterations\\':15,\\'is_timeseries\\':False,\\'name\\':\\'AutoML-housing\\',\\'compute_target\\':\\'compute-housing\\',\\'subscription_id\\':\\'9a7511b8-150f-4a58-8528-3e7d50216c31\\',\\'region\\':\\'southcentralus\\',\\'spark_service\\':None}\",\"ensemble_run_id\":\"AutoML_0d99916a-5d12-4288-924d-a245a9337929_18\",\"experiment_name\":\"AutoML-housing\",\"workspace_name\":\"quick-starts-ws-137963\",\"subscription_id\":\"9a7511b8-150f-4a58-8528-3e7d50216c31\",\"resource_group_name\":\"aml-quickstarts-137963\"}}]}',\n 'training_percent': '100',\n 'predicted_cost': None,\n 'iteration': '18',\n '_aml_system_scenario_identification': 'Remote.Child',\n '_azureml.ComputeTargetType': 'amlcompute',\n 'ContentSnapshotId': 'a1334651-64fa-42ee-a960-c2f654a64b15',\n 'ProcessInfoFile': 'azureml-logs/process_info.json',\n 'ProcessStatusFile': 'azureml-logs/process_status.json',\n 'run_template': 'automl_child',\n 'run_preprocessor': '',\n 'run_algorithm': 'VotingEnsemble',\n 'conda_env_data_location': 'aml://artifact/ExperimentRun/dcid.AutoML_0d99916a-5d12-4288-924d-a245a9337929_18/outputs/conda_env_v_1_0_0.yml',\n 'model_data_location': 'aml://artifact/ExperimentRun/dcid.AutoML_0d99916a-5d12-4288-924d-a245a9337929_18/outputs/model.pkl',\n 'model_size_on_disk': '1523443',\n 'scoring_data_location': 'aml://artifact/ExperimentRun/dcid.AutoML_0d99916a-5d12-4288-924d-a245a9337929_18/outputs/scoring_file_v_1_0_0.py',\n 'model_exp_support': 'True',\n 'pipeline_graph_version': '1.0.0',\n 'model_name': 'AutoML0d99916a518',\n 'staticProperties': '{}',\n 'score': '0.8455589515361349',\n 'run_properties': \"estimators=[('4',\\n                                          Pipeline(memory=None,\\n                                                   steps=[('standardscalerwrapper',\\n                                                           <azureml.automl.runtime.shared.model_wrappers.StandardScalerWrapper object at 0x7efbc05ccc88>\",\n 'pipeline_script': '{\"pipeline_id\":\"__AutoML_Ensemble__\",\"objects\":[{\"module\":\"azureml.train.automl.ensemble\",\"class_name\":\"Ensemble\",\"spec_class\":\"sklearn\",\"param_args\":[],\"param_kwargs\":{\"automl_settings\":\"{\\'task_type\\':\\'regression\\',\\'primary_metric\\':\\'r2_score\\',\\'verbosity\\':20,\\'ensemble_iterations\\':15,\\'is_timeseries\\':False,\\'name\\':\\'AutoML-housing\\',\\'compute_target\\':\\'compute-housing\\',\\'subscription_id\\':\\'9a7511b8-150f-4a58-8528-3e7d50216c31\\',\\'region\\':\\'southcentralus\\',\\'spark_service\\':None}\",\"ensemble_run_id\":\"AutoML_0d99916a-5d12-4288-924d-a245a9337929_18\",\"experiment_name\":\"AutoML-housing\",\"workspace_name\":\"quick-starts-ws-137963\",\"subscription_id\":\"9a7511b8-150f-4a58-8528-3e7d50216c31\",\"resource_group_name\":\"aml-quickstarts-137963\"}}]}',\n 'training_type': 'train_valid',\n 'num_classes': '',\n 'framework': 'sklearn',\n 'fit_time': '8',\n 'goal': 'r2_score_max',\n 'class_labels': '',\n 'primary_metric': 'r2_score',\n 'errors': '{}',\n 'onnx_model_resource': '{}',\n 'error_code': '',\n 'failure_reason': '',\n 'feature_skus': 'automatedml_sdk_guardrails',\n 'dependencies_versions': '{\"azureml-train-automl-runtime\": \"1.21.0\", \"azureml-train-automl-client\": \"1.21.0\", \"azureml-telemetry\": \"1.21.0\", \"azureml-pipeline-core\": \"1.21.0\", \"azureml-model-management-sdk\": \"1.0.1b6.post1\", \"azureml-interpret\": \"1.21.0\", \"azureml-defaults\": \"1.21.0\", \"azureml-dataset-runtime\": \"1.21.0\", \"azureml-dataprep\": \"2.8.2\", \"azureml-dataprep-rslex\": \"1.6.0\", \"azureml-dataprep-native\": \"28.0.0\", \"azureml-core\": \"1.21.0.post1\", \"azureml-automl-runtime\": \"1.21.0\", \"azureml-automl-core\": \"1.21.0\"}',\n 'num_cores': '2',\n 'num_logical_cores': '2',\n 'peak_memory_usage': '584212',\n 'vm_configuration': 'Intel(R) Xeon(R) Platinum 8171M CPU @ 2.60GHz',\n 'core_hours': '0.001389776388888889'}"
          },
          "metadata": {}
        }
      ],
      "execution_count": 12,
      "metadata": {
        "collapsed": true,
        "jupyter": {
          "source_hidden": false,
          "outputs_hidden": false
        },
        "nteract": {
          "transient": {
            "deleting": false
          }
        },
        "gather": {
          "logged": 1612724267018
        }
      }
    },
    {
      "cell_type": "markdown",
      "source": [
        "## Model Deployment\n",
        "\n",
        "Remember you have to deploy only one of the two models you trained.. Perform the steps in the rest of this notebook only if you wish to deploy this model.\n",
        "\n",
        "TODO: In the cell below, register the model, create an inference config and deploy the model as a web service."
      ],
      "metadata": {}
    },
    {
      "cell_type": "code",
      "source": [
        "#check the files associated with best run\r\n",
        "best_automl_run.get_file_names()"
      ],
      "outputs": [
        {
          "output_type": "execute_result",
          "execution_count": 13,
          "data": {
            "text/plain": "['automl_driver.py',\n 'azureml-logs/55_azureml-execution-tvmps_7e172b238385e78714939552da82e2b22ec06945079a243dd2caceb3a1fefe60_p.txt',\n 'azureml-logs/65_job_prep-tvmps_7e172b238385e78714939552da82e2b22ec06945079a243dd2caceb3a1fefe60_p.txt',\n 'azureml-logs/70_driver_log.txt',\n 'azureml-logs/75_job_post-tvmps_7e172b238385e78714939552da82e2b22ec06945079a243dd2caceb3a1fefe60_p.txt',\n 'azureml-logs/process_info.json',\n 'azureml-logs/process_status.json',\n 'logs/azureml/102_azureml.log',\n 'logs/azureml/azureml_automl.log',\n 'logs/azureml/job_prep_azureml.log',\n 'logs/azureml/job_release_azureml.log',\n 'outputs/conda_env_v_1_0_0.yml',\n 'outputs/env_dependencies.json',\n 'outputs/model.pkl',\n 'outputs/pipeline_graph.json',\n 'outputs/scoring_file_v_1_0_0.py',\n 'predicted_true',\n 'residuals']"
          },
          "metadata": {}
        }
      ],
      "execution_count": 13,
      "metadata": {
        "collapsed": true,
        "jupyter": {
          "source_hidden": false,
          "outputs_hidden": false
        },
        "nteract": {
          "transient": {
            "deleting": false
          }
        },
        "gather": {
          "logged": 1612724267102
        }
      }
    },
    {
      "cell_type": "code",
      "source": [
        "#download environment and scoring script associated with the best run\r\n",
        "best_automl_run.download_file('outputs/conda_env_v_1_0_0.yml')\r\n",
        "best_automl_run.download_file('outputs/scoring_file_v_1_0_0.py')"
      ],
      "outputs": [],
      "execution_count": 14,
      "metadata": {
        "collapsed": true,
        "jupyter": {
          "source_hidden": false,
          "outputs_hidden": false
        },
        "nteract": {
          "transient": {
            "deleting": false
          }
        },
        "gather": {
          "logged": 1612724267347
        }
      }
    },
    {
      "cell_type": "code",
      "source": [
        "#create an inference configuration\r\n",
        "from azureml.core.environment import Environment\r\n",
        "from azureml.core.model import InferenceConfig\r\n",
        "\r\n",
        "env = Environment.from_conda_specification(\"myenv\", 'conda_env_v_1_0_0.yml')\r\n",
        "#env = Environment.get(workspace = ws, name = \"AzureML-AutoML\")\r\n",
        "\r\n",
        "for pip_package in [\"pandas\",\"scikit-learn\",\"joblib\"]:\r\n",
        "    env.python.conda_dependencies.add_pip_package(pip_package)\r\n",
        "\r\n",
        "inference_config = InferenceConfig(entry_script='scoring_file_v_1_0_0.py',\r\n",
        "                                    environment=env)"
      ],
      "outputs": [],
      "execution_count": 22,
      "metadata": {
        "collapsed": true,
        "jupyter": {
          "source_hidden": false,
          "outputs_hidden": false
        },
        "nteract": {
          "transient": {
            "deleting": false
          }
        },
        "gather": {
          "logged": 1612727712202
        }
      }
    },
    {
      "cell_type": "code",
      "source": [
        "from azureml.core.webservice import AciWebservice, AksWebservice, LocalWebservice\r\n",
        "from azureml.core.model import InferenceConfig, Model\r\n",
        "\r\n",
        "#deployment_config = LocalWebservice.deploy_configuration(port = 9000)\r\n",
        "deployment_config = AciWebservice.deploy_configuration(cpu_cores = 1, memory_gb = 1, enable_app_insights = True)\r\n",
        "first_model = Model(ws, name = model_name)\r\n",
        "service = Model.deploy(ws, \"automl-service\", [first_model], inference_config, deployment_config, overwrite = True)\r\n",
        "service.wait_for_deployment(show_output = True)\r\n",
        "print(service.state)\r\n",
        "print(service.get_logs())"
      ],
      "outputs": [
        {
          "output_type": "stream",
          "name": "stdout",
          "text": [
            "Tips: You can try get_logs(): https://aka.ms/debugimage#dockerlog or local deployment: https://aka.ms/debugimage#debug-locally to debug if deployment takes longer than 10 minutes.\n",
            "Running..........................................................................................................................................................................................\n",
            "Succeeded\n",
            "ACI service creation operation finished, operation \"Succeeded\"\n",
            "Healthy\n",
            "2021-02-07T20:10:46,658046166+00:00 - rsyslog/run \n",
            "2021-02-07T20:10:46,660187112+00:00 - iot-server/run \n",
            "2021-02-07T20:10:46,661962050+00:00 - nginx/run \n",
            "2021-02-07T20:10:46,661962150+00:00 - gunicorn/run \n",
            "/usr/sbin/nginx: /azureml-envs/azureml_eac1280dde495806310462165568faef/lib/libcrypto.so.1.0.0: no version information available (required by /usr/sbin/nginx)\n",
            "/usr/sbin/nginx: /azureml-envs/azureml_eac1280dde495806310462165568faef/lib/libcrypto.so.1.0.0: no version information available (required by /usr/sbin/nginx)\n",
            "/usr/sbin/nginx: /azureml-envs/azureml_eac1280dde495806310462165568faef/lib/libssl.so.1.0.0: no version information available (required by /usr/sbin/nginx)\n",
            "/usr/sbin/nginx: /azureml-envs/azureml_eac1280dde495806310462165568faef/lib/libssl.so.1.0.0: no version information available (required by /usr/sbin/nginx)\n",
            "/usr/sbin/nginx: /azureml-envs/azureml_eac1280dde495806310462165568faef/lib/libssl.so.1.0.0: no version information available (required by /usr/sbin/nginx)\n",
            "rsyslogd: /azureml-envs/azureml_eac1280dde495806310462165568faef/lib/libuuid.so.1: no version information available (required by rsyslogd)\n",
            "EdgeHubConnectionString and IOTEDGE_IOTHUBHOSTNAME are not set. Exiting...\n",
            "2021-02-07T20:10:46,874336996+00:00 - iot-server/finish 1 0\n",
            "2021-02-07T20:10:46,875829328+00:00 - Exit code 1 is normal. Not restarting iot-server.\n",
            "Starting gunicorn 19.9.0\n",
            "Listening at: http://127.0.0.1:31311 (12)\n",
            "Using worker: sync\n",
            "worker timeout is set to 300\n",
            "Booting worker with pid: 42\n",
            "SPARK_HOME not set. Skipping PySpark Initialization.\n",
            "Initializing logger\n",
            "2021-02-07 20:10:48,002 | root | INFO | Starting up app insights client\n",
            "2021-02-07 20:10:48,003 | root | INFO | Starting up request id generator\n",
            "2021-02-07 20:10:48,003 | root | INFO | Starting up app insight hooks\n",
            "2021-02-07 20:10:48,003 | root | INFO | Invoking user's init function\n",
            "2021-02-07 20:10:51,285 | root | INFO | Users's init has completed successfully\n",
            "2021-02-07 20:10:51,290 | root | INFO | Skipping middleware: dbg_model_info as it's not enabled.\n",
            "2021-02-07 20:10:51,290 | root | INFO | Skipping middleware: dbg_resource_usage as it's not enabled.\n",
            "2021-02-07 20:10:51,293 | root | INFO | Scoring timeout is found from os.environ: 60000 ms\n",
            "2021-02-07 20:10:59,561 | root | INFO | 200\n",
            "127.0.0.1 - - [07/Feb/2021:20:10:59 +0000] \"GET /swagger.json HTTP/1.0\" 200 2649 \"-\" \"Go-http-client/1.1\"\n",
            "2021-02-07 20:11:02,808 | root | INFO | 200\n",
            "127.0.0.1 - - [07/Feb/2021:20:11:02 +0000] \"GET /swagger.json HTTP/1.0\" 200 2649 \"-\" \"Go-http-client/1.1\"\n",
            "\n"
          ]
        }
      ],
      "execution_count": 23,
      "metadata": {
        "collapsed": true,
        "jupyter": {
          "source_hidden": false,
          "outputs_hidden": false
        },
        "nteract": {
          "transient": {
            "deleting": false
          }
        },
        "gather": {
          "logged": 1612728663293
        }
      }
    },
    {
      "cell_type": "markdown",
      "source": [
        "TODO: In the cell below, send a request to the web service you deployed to test it."
      ],
      "metadata": {
        "collapsed": true,
        "gather": {
          "logged": 1598431657736
        },
        "jupyter": {
          "outputs_hidden": false,
          "source_hidden": false
        },
        "nteract": {
          "transient": {
            "deleting": false
          }
        }
      }
    },
    {
      "cell_type": "code",
      "source": [
        "from azureml.core.authentication import InteractiveLoginAuthentication\r\n",
        "\r\n",
        "interactive_auth = InteractiveLoginAuthentication()\r\n",
        "auth_header = interactive_auth.get_authentication_header()"
      ],
      "outputs": [],
      "execution_count": 24,
      "metadata": {
        "gather": {
          "logged": 1612728865734
        },
        "jupyter": {
          "outputs_hidden": false,
          "source_hidden": false
        },
        "nteract": {
          "transient": {
            "deleting": false
          }
        }
      }
    },
    {
      "cell_type": "code",
      "source": [
        "import urllib.request\r\n",
        "import json\r\n",
        "import os\r\n",
        "import ssl\r\n",
        "\r\n",
        "def allowSelfSignedHttps(allowed):\r\n",
        "    # bypass the server certificate verification on client side\r\n",
        "    if allowed and not os.environ.get('PYTHONHTTPSVERIFY', '') and getattr(ssl, '_create_unverified_context', None):\r\n",
        "        ssl._create_default_https_context = ssl._create_unverified_context\r\n",
        "\r\n",
        "allowSelfSignedHttps(True) # this line is needed if you use self-signed certificate in your scoring service.\r\n",
        "\r\n",
        "data = {\r\n",
        "    \"data\":\r\n",
        "    [\r\n",
        "        {\r\n",
        "            'longitude': \"-122.23\",\r\n",
        "            'latitude': \"37.88\",\r\n",
        "            'housing_median_age': \"41\",\r\n",
        "            'total_rooms': \"880\",\r\n",
        "            'total_bedrooms': \"129\",\r\n",
        "            'population': \"322\",\r\n",
        "            'households': \"126\",\r\n",
        "            'median_income': \"8.3252\",\r\n",
        "            'ocean_proximity': \"NEAR BAY\",\r\n",
        "        },\r\n",
        "    ],\r\n",
        "}\r\n",
        "\r\n",
        "body = str.encode(json.dumps(data))\r\n",
        "\r\n",
        "url = service.scoring_uri\r\n",
        "api_key = '' \r\n",
        "headers = {'Content-Type':'application/json', 'Authorization':('Bearer '+ api_key)}\r\n",
        "\r\n",
        "req = urllib.request.Request(url, body, headers)\r\n",
        "\r\n",
        "try:\r\n",
        "    response = urllib.request.urlopen(req)\r\n",
        "\r\n",
        "    result = response.read()\r\n",
        "    print(result)\r\n",
        "except urllib.error.HTTPError as error:\r\n",
        "    print(\"The request failed with status code: \" + str(error.code))\r\n",
        "\r\n",
        "    # Print the headers - they include the requert ID and the timestamp, which are useful for debugging the failure\r\n",
        "    print(error.info())\r\n",
        "    print(json.loads(error.read().decode(\"utf8\", 'ignore')))"
      ],
      "outputs": [
        {
          "output_type": "stream",
          "name": "stdout",
          "text": [
            "b'\"{\\\\\"result\\\\\": [459947.7060546025]}\"'\n"
          ]
        }
      ],
      "execution_count": 25,
      "metadata": {
        "collapsed": true,
        "jupyter": {
          "source_hidden": false,
          "outputs_hidden": false
        },
        "nteract": {
          "transient": {
            "deleting": false
          }
        },
        "gather": {
          "logged": 1612728867460
        }
      }
    },
    {
      "cell_type": "markdown",
      "source": [
        "TODO: In the cell below, print the logs of the web service and delete the service"
      ],
      "metadata": {
        "collapsed": true,
        "gather": {
          "logged": 1598432765711
        },
        "jupyter": {
          "outputs_hidden": false,
          "source_hidden": false
        },
        "nteract": {
          "transient": {
            "deleting": false
          }
        }
      }
    },
    {
      "cell_type": "code",
      "source": [
        "service.get_logs()\r\n"
      ],
      "outputs": [
        {
          "output_type": "execute_result",
          "execution_count": 26,
          "data": {
            "text/plain": "'2021-02-07T20:10:46,658046166+00:00 - rsyslog/run \\n2021-02-07T20:10:46,660187112+00:00 - iot-server/run \\n2021-02-07T20:10:46,661962050+00:00 - nginx/run \\n2021-02-07T20:10:46,661962150+00:00 - gunicorn/run \\n/usr/sbin/nginx: /azureml-envs/azureml_eac1280dde495806310462165568faef/lib/libcrypto.so.1.0.0: no version information available (required by /usr/sbin/nginx)\\n/usr/sbin/nginx: /azureml-envs/azureml_eac1280dde495806310462165568faef/lib/libcrypto.so.1.0.0: no version information available (required by /usr/sbin/nginx)\\n/usr/sbin/nginx: /azureml-envs/azureml_eac1280dde495806310462165568faef/lib/libssl.so.1.0.0: no version information available (required by /usr/sbin/nginx)\\n/usr/sbin/nginx: /azureml-envs/azureml_eac1280dde495806310462165568faef/lib/libssl.so.1.0.0: no version information available (required by /usr/sbin/nginx)\\n/usr/sbin/nginx: /azureml-envs/azureml_eac1280dde495806310462165568faef/lib/libssl.so.1.0.0: no version information available (required by /usr/sbin/nginx)\\nrsyslogd: /azureml-envs/azureml_eac1280dde495806310462165568faef/lib/libuuid.so.1: no version information available (required by rsyslogd)\\nEdgeHubConnectionString and IOTEDGE_IOTHUBHOSTNAME are not set. Exiting...\\n2021-02-07T20:10:46,874336996+00:00 - iot-server/finish 1 0\\n2021-02-07T20:10:46,875829328+00:00 - Exit code 1 is normal. Not restarting iot-server.\\nStarting gunicorn 19.9.0\\nListening at: http://127.0.0.1:31311 (12)\\nUsing worker: sync\\nworker timeout is set to 300\\nBooting worker with pid: 42\\nSPARK_HOME not set. Skipping PySpark Initialization.\\nInitializing logger\\n2021-02-07 20:10:48,002 | root | INFO | Starting up app insights client\\n2021-02-07 20:10:48,003 | root | INFO | Starting up request id generator\\n2021-02-07 20:10:48,003 | root | INFO | Starting up app insight hooks\\n2021-02-07 20:10:48,003 | root | INFO | Invoking user\\'s init function\\n2021-02-07 20:10:51,285 | root | INFO | Users\\'s init has completed successfully\\n2021-02-07 20:10:51,290 | root | INFO | Skipping middleware: dbg_model_info as it\\'s not enabled.\\n2021-02-07 20:10:51,290 | root | INFO | Skipping middleware: dbg_resource_usage as it\\'s not enabled.\\n2021-02-07 20:10:51,293 | root | INFO | Scoring timeout is found from os.environ: 60000 ms\\n2021-02-07 20:10:59,561 | root | INFO | 200\\n127.0.0.1 - - [07/Feb/2021:20:10:59 +0000] \"GET /swagger.json HTTP/1.0\" 200 2649 \"-\" \"Go-http-client/1.1\"\\n2021-02-07 20:11:02,808 | root | INFO | 200\\n127.0.0.1 - - [07/Feb/2021:20:11:02 +0000] \"GET /swagger.json HTTP/1.0\" 200 2649 \"-\" \"Go-http-client/1.1\"\\n2021-02-07 20:14:26,994 | root | INFO | Validation Request Content-Type\\n2021-02-07 20:14:26,995 | root | INFO | Scoring Timer is set to 60.0 seconds\\n2021-02-07 20:14:27,058 | root | INFO | 200\\n127.0.0.1 - - [07/Feb/2021:20:14:27 +0000] \"POST /score HTTP/1.0\" 200 35 \"-\" \"Python-urllib/3.6\"\\n'"
          },
          "metadata": {}
        }
      ],
      "execution_count": 26,
      "metadata": {
        "collapsed": true,
        "jupyter": {
          "source_hidden": false,
          "outputs_hidden": false
        },
        "nteract": {
          "transient": {
            "deleting": false
          }
        },
        "gather": {
          "logged": 1612728874418
        }
      }
    },
    {
      "cell_type": "code",
      "source": [
        "service.delete()"
      ],
      "outputs": [],
      "execution_count": null,
      "metadata": {
        "collapsed": true,
        "jupyter": {
          "source_hidden": false,
          "outputs_hidden": false
        },
        "nteract": {
          "transient": {
            "deleting": false
          }
        },
        "gather": {
          "logged": 1612672591470
        }
      }
    }
  ],
  "metadata": {
    "kernel_info": {
      "name": "python3"
    },
    "kernelspec": {
      "name": "python3",
      "language": "python",
      "display_name": "Python 3"
    },
    "language_info": {
      "name": "python",
      "version": "3.6.9",
      "mimetype": "text/x-python",
      "codemirror_mode": {
        "name": "ipython",
        "version": 3
      },
      "pygments_lexer": "ipython3",
      "nbconvert_exporter": "python",
      "file_extension": ".py"
    },
    "nteract": {
      "version": "nteract-front-end@1.0.0"
    }
  },
  "nbformat": 4,
  "nbformat_minor": 2
}